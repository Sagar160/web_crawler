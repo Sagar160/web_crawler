{
 "cells": [
  {
   "cell_type": "markdown",
   "id": "2595a3f5",
   "metadata": {},
   "source": [
    "# Imports"
   ]
  },
  {
   "cell_type": "code",
   "execution_count": 60,
   "id": "333a1c66",
   "metadata": {
    "ExecuteTime": {
     "end_time": "2023-07-05T14:37:17.052013Z",
     "start_time": "2023-07-05T14:37:17.040027Z"
    }
   },
   "outputs": [],
   "source": [
    "import os\n",
    "from llama_index import GPTVectorStoreIndex, VectorStoreIndex\n",
    "from llama_index import SimpleDirectoryReader\n",
    "from llama_index import load_index_from_storage, StorageContext\n",
    "from llama_index import download_loader\n",
    "from llama_index.indices.keyword_table import SimpleKeywordTableIndex\n",
    "from llama_index.query_engine import RetrieverQueryEngine\n",
    "import openai\n",
    "import pandas as pd\n",
    "import numpy as np\n",
    "import nltk\n",
    "import sys\n",
    "from nltk.corpus import stopwords\n",
    "from nltk import word_tokenize\n",
    "from nltk.stem import WordNetLemmatizer\n",
    "from sklearn.feature_extraction.text import TfidfVectorizer"
   ]
  },
  {
   "cell_type": "markdown",
   "id": "84615e1e",
   "metadata": {},
   "source": [
    "# Args"
   ]
  },
  {
   "cell_type": "code",
   "execution_count": null,
   "id": "bfce21b6",
   "metadata": {
    "ExecuteTime": {
     "end_time": "2023-07-04T17:18:40.710014Z",
     "start_time": "2023-07-04T17:18:40.710014Z"
    }
   },
   "outputs": [],
   "source": [
    "sys.path.append(r'C:\\Users\\sagar.panwar\\AppData\\Roaming\\nltk_data')"
   ]
  },
  {
   "cell_type": "code",
   "execution_count": null,
   "id": "ce1da076",
   "metadata": {
    "ExecuteTime": {
     "end_time": "2023-07-04T17:18:40.712006Z",
     "start_time": "2023-07-04T17:18:40.712006Z"
    }
   },
   "outputs": [],
   "source": [
    "os.environ['OPENAI_API_KEY']= \"random\""
   ]
  },
  {
   "cell_type": "markdown",
   "id": "f95b6a2d",
   "metadata": {},
   "source": [
    "# Paths"
   ]
  },
  {
   "cell_type": "code",
   "execution_count": 8,
   "id": "b29b66c3",
   "metadata": {
    "ExecuteTime": {
     "end_time": "2023-07-04T17:18:49.188821Z",
     "start_time": "2023-07-04T17:18:49.175310Z"
    }
   },
   "outputs": [],
   "source": [
    "data_dir = r'C:\\Users\\sagar.panwar\\Documents\\projects\\web_crawler\\data'"
   ]
  },
  {
   "cell_type": "markdown",
   "id": "1e0ac415",
   "metadata": {},
   "source": [
    "# Create Embeddings"
   ]
  },
  {
   "cell_type": "markdown",
   "id": "db056a9d",
   "metadata": {},
   "source": [
    "## load Data and clean data"
   ]
  },
  {
   "cell_type": "code",
   "execution_count": 5,
   "id": "b6002a73",
   "metadata": {
    "ExecuteTime": {
     "end_time": "2023-07-04T12:06:05.573033Z",
     "start_time": "2023-07-04T12:06:05.551954Z"
    }
   },
   "outputs": [],
   "source": [
    "df = pd.read_csv(os.path.join(data_dir, 'result_20230703-193332.csv'))"
   ]
  },
  {
   "cell_type": "code",
   "execution_count": 6,
   "id": "d1afb428",
   "metadata": {
    "ExecuteTime": {
     "end_time": "2023-07-04T12:06:05.757673Z",
     "start_time": "2023-07-04T12:06:05.742779Z"
    }
   },
   "outputs": [
    {
     "data": {
      "text/plain": [
       "(71, 4)"
      ]
     },
     "execution_count": 6,
     "metadata": {},
     "output_type": "execute_result"
    }
   ],
   "source": [
    "df.shape"
   ]
  },
  {
   "cell_type": "code",
   "execution_count": 7,
   "id": "6bc39ded",
   "metadata": {
    "ExecuteTime": {
     "end_time": "2023-07-04T12:06:06.171479Z",
     "start_time": "2023-07-04T12:06:06.146861Z"
    }
   },
   "outputs": [],
   "source": [
    "df = df.drop_duplicates(subset=[\"content\"], keep=\"first\")"
   ]
  },
  {
   "cell_type": "code",
   "execution_count": 8,
   "id": "f22bdca7",
   "metadata": {
    "ExecuteTime": {
     "end_time": "2023-07-04T12:06:06.355538Z",
     "start_time": "2023-07-04T12:06:06.347082Z"
    }
   },
   "outputs": [
    {
     "data": {
      "text/plain": [
       "(61, 4)"
      ]
     },
     "execution_count": 8,
     "metadata": {},
     "output_type": "execute_result"
    }
   ],
   "source": [
    "df.shape"
   ]
  },
  {
   "cell_type": "code",
   "execution_count": 9,
   "id": "c18e36a5",
   "metadata": {
    "ExecuteTime": {
     "end_time": "2023-07-04T12:06:06.556293Z",
     "start_time": "2023-07-04T12:06:06.521885Z"
    }
   },
   "outputs": [
    {
     "data": {
      "text/html": [
       "<div>\n",
       "<style scoped>\n",
       "    .dataframe tbody tr th:only-of-type {\n",
       "        vertical-align: middle;\n",
       "    }\n",
       "\n",
       "    .dataframe tbody tr th {\n",
       "        vertical-align: top;\n",
       "    }\n",
       "\n",
       "    .dataframe thead th {\n",
       "        text-align: right;\n",
       "    }\n",
       "</style>\n",
       "<table border=\"1\" class=\"dataframe\">\n",
       "  <thead>\n",
       "    <tr style=\"text-align: right;\">\n",
       "      <th></th>\n",
       "      <th>Unnamed: 0</th>\n",
       "      <th>link</th>\n",
       "      <th>path</th>\n",
       "      <th>content</th>\n",
       "    </tr>\n",
       "  </thead>\n",
       "  <tbody>\n",
       "    <tr>\n",
       "      <th>0</th>\n",
       "      <td>0</td>\n",
       "      <td>https://www.geminisolutions.com/clubs/technolo...</td>\n",
       "      <td>C:\\Users\\sagar.panwar\\Documents\\projects\\web_c...</td>\n",
       "      <td>Technology ClubThe Technology Club of Gemini f...</td>\n",
       "    </tr>\n",
       "    <tr>\n",
       "      <th>1</th>\n",
       "      <td>1</td>\n",
       "      <td>https://www.geminisolutions.com/about-us</td>\n",
       "      <td>C:\\Users\\sagar.panwar\\Documents\\projects\\web_c...</td>\n",
       "      <td>Building leaders in the digital domain and bey...</td>\n",
       "    </tr>\n",
       "    <tr>\n",
       "      <th>2</th>\n",
       "      <td>2</td>\n",
       "      <td>https://www.geminisolutions.com/services/data-...</td>\n",
       "      <td>C:\\Users\\sagar.panwar\\Documents\\projects\\web_c...</td>\n",
       "      <td>Data EngineeringUnleash the power of your data...</td>\n",
       "    </tr>\n",
       "    <tr>\n",
       "      <th>3</th>\n",
       "      <td>3</td>\n",
       "      <td>https://www.geminisolutions.com/case-studies?p...</td>\n",
       "      <td>C:\\Users\\sagar.panwar\\Documents\\projects\\web_c...</td>\n",
       "      <td>Our Case StudiesTake a dive into how our solut...</td>\n",
       "    </tr>\n",
       "    <tr>\n",
       "      <th>4</th>\n",
       "      <td>4</td>\n",
       "      <td>https://www.geminisolutions.com/contact</td>\n",
       "      <td>C:\\Users\\sagar.panwar\\Documents\\projects\\web_c...</td>\n",
       "      <td>Our LocationsIndiaUSACanada000000All Locations...</td>\n",
       "    </tr>\n",
       "    <tr>\n",
       "      <th>...</th>\n",
       "      <td>...</td>\n",
       "      <td>...</td>\n",
       "      <td>...</td>\n",
       "      <td>...</td>\n",
       "    </tr>\n",
       "    <tr>\n",
       "      <th>64</th>\n",
       "      <td>64</td>\n",
       "      <td>https://www.geminisolutions.com/case-studies/d...</td>\n",
       "      <td>C:\\Users\\sagar.panwar\\Documents\\projects\\web_c...</td>\n",
       "      <td>Case Study &gt; Technology &gt; Database Administrat...</td>\n",
       "    </tr>\n",
       "    <tr>\n",
       "      <th>65</th>\n",
       "      <td>65</td>\n",
       "      <td>https://www.geminisolutions.com/case-studies/c...</td>\n",
       "      <td>C:\\Users\\sagar.panwar\\Documents\\projects\\web_c...</td>\n",
       "      <td>Case Study &gt; Technology &gt; Creating a Common Da...</td>\n",
       "    </tr>\n",
       "    <tr>\n",
       "      <th>66</th>\n",
       "      <td>66</td>\n",
       "      <td>https://www.geminisolutions.com/case-studies/p...</td>\n",
       "      <td>C:\\Users\\sagar.panwar\\Documents\\projects\\web_c...</td>\n",
       "      <td>Case Study &gt; Design &gt; Portfolio Optimization A...</td>\n",
       "    </tr>\n",
       "    <tr>\n",
       "      <th>67</th>\n",
       "      <td>67</td>\n",
       "      <td>https://www.geminisolutions.com/case-studies/w...</td>\n",
       "      <td>C:\\Users\\sagar.panwar\\Documents\\projects\\web_c...</td>\n",
       "      <td>Case Study &gt; Technology &gt; Web Based App to Ana...</td>\n",
       "    </tr>\n",
       "    <tr>\n",
       "      <th>68</th>\n",
       "      <td>68</td>\n",
       "      <td>https://www.geminisolutions.com/case-studies/s...</td>\n",
       "      <td>C:\\Users\\sagar.panwar\\Documents\\projects\\web_c...</td>\n",
       "      <td>Case Study &gt; Cloud &gt; Support for Applications ...</td>\n",
       "    </tr>\n",
       "  </tbody>\n",
       "</table>\n",
       "<p>61 rows × 4 columns</p>\n",
       "</div>"
      ],
      "text/plain": [
       "    Unnamed: 0                                               link  \\\n",
       "0            0  https://www.geminisolutions.com/clubs/technolo...   \n",
       "1            1           https://www.geminisolutions.com/about-us   \n",
       "2            2  https://www.geminisolutions.com/services/data-...   \n",
       "3            3  https://www.geminisolutions.com/case-studies?p...   \n",
       "4            4            https://www.geminisolutions.com/contact   \n",
       "..         ...                                                ...   \n",
       "64          64  https://www.geminisolutions.com/case-studies/d...   \n",
       "65          65  https://www.geminisolutions.com/case-studies/c...   \n",
       "66          66  https://www.geminisolutions.com/case-studies/p...   \n",
       "67          67  https://www.geminisolutions.com/case-studies/w...   \n",
       "68          68  https://www.geminisolutions.com/case-studies/s...   \n",
       "\n",
       "                                                 path  \\\n",
       "0   C:\\Users\\sagar.panwar\\Documents\\projects\\web_c...   \n",
       "1   C:\\Users\\sagar.panwar\\Documents\\projects\\web_c...   \n",
       "2   C:\\Users\\sagar.panwar\\Documents\\projects\\web_c...   \n",
       "3   C:\\Users\\sagar.panwar\\Documents\\projects\\web_c...   \n",
       "4   C:\\Users\\sagar.panwar\\Documents\\projects\\web_c...   \n",
       "..                                                ...   \n",
       "64  C:\\Users\\sagar.panwar\\Documents\\projects\\web_c...   \n",
       "65  C:\\Users\\sagar.panwar\\Documents\\projects\\web_c...   \n",
       "66  C:\\Users\\sagar.panwar\\Documents\\projects\\web_c...   \n",
       "67  C:\\Users\\sagar.panwar\\Documents\\projects\\web_c...   \n",
       "68  C:\\Users\\sagar.panwar\\Documents\\projects\\web_c...   \n",
       "\n",
       "                                              content  \n",
       "0   Technology ClubThe Technology Club of Gemini f...  \n",
       "1   Building leaders in the digital domain and bey...  \n",
       "2   Data EngineeringUnleash the power of your data...  \n",
       "3   Our Case StudiesTake a dive into how our solut...  \n",
       "4   Our LocationsIndiaUSACanada000000All Locations...  \n",
       "..                                                ...  \n",
       "64  Case Study > Technology > Database Administrat...  \n",
       "65  Case Study > Technology > Creating a Common Da...  \n",
       "66  Case Study > Design > Portfolio Optimization A...  \n",
       "67  Case Study > Technology > Web Based App to Ana...  \n",
       "68  Case Study > Cloud > Support for Applications ...  \n",
       "\n",
       "[61 rows x 4 columns]"
      ]
     },
     "execution_count": 9,
     "metadata": {},
     "output_type": "execute_result"
    }
   ],
   "source": [
    "df[\"content\"].replace(\"\", np.nan, inplace=True)\n",
    "df"
   ]
  },
  {
   "cell_type": "code",
   "execution_count": 10,
   "id": "9bcef2bc",
   "metadata": {
    "ExecuteTime": {
     "end_time": "2023-07-04T12:06:06.738251Z",
     "start_time": "2023-07-04T12:06:06.716961Z"
    }
   },
   "outputs": [],
   "source": [
    "df.dropna(subset=[\"content\"], inplace=True)\n",
    "# df"
   ]
  },
  {
   "cell_type": "code",
   "execution_count": 11,
   "id": "03fd0414",
   "metadata": {
    "ExecuteTime": {
     "end_time": "2023-07-04T12:06:06.939358Z",
     "start_time": "2023-07-04T12:06:06.927292Z"
    }
   },
   "outputs": [
    {
     "data": {
      "text/plain": [
       "(60, 4)"
      ]
     },
     "execution_count": 11,
     "metadata": {},
     "output_type": "execute_result"
    }
   ],
   "source": [
    "df.shape"
   ]
  },
  {
   "cell_type": "code",
   "execution_count": 12,
   "id": "411cd88f",
   "metadata": {
    "ExecuteTime": {
     "end_time": "2023-07-04T12:06:07.138406Z",
     "start_time": "2023-07-04T12:06:07.108751Z"
    }
   },
   "outputs": [
    {
     "data": {
      "text/html": [
       "<div>\n",
       "<style scoped>\n",
       "    .dataframe tbody tr th:only-of-type {\n",
       "        vertical-align: middle;\n",
       "    }\n",
       "\n",
       "    .dataframe tbody tr th {\n",
       "        vertical-align: top;\n",
       "    }\n",
       "\n",
       "    .dataframe thead th {\n",
       "        text-align: right;\n",
       "    }\n",
       "</style>\n",
       "<table border=\"1\" class=\"dataframe\">\n",
       "  <thead>\n",
       "    <tr style=\"text-align: right;\">\n",
       "      <th></th>\n",
       "      <th>Unnamed: 0</th>\n",
       "      <th>link</th>\n",
       "      <th>path</th>\n",
       "      <th>content</th>\n",
       "    </tr>\n",
       "  </thead>\n",
       "  <tbody>\n",
       "    <tr>\n",
       "      <th>0</th>\n",
       "      <td>0</td>\n",
       "      <td>https://www.geminisolutions.com/clubs/technolo...</td>\n",
       "      <td>C:\\Users\\sagar.panwar\\Documents\\projects\\web_c...</td>\n",
       "      <td>Technology ClubThe Technology Club of Gemini f...</td>\n",
       "    </tr>\n",
       "    <tr>\n",
       "      <th>1</th>\n",
       "      <td>1</td>\n",
       "      <td>https://www.geminisolutions.com/about-us</td>\n",
       "      <td>C:\\Users\\sagar.panwar\\Documents\\projects\\web_c...</td>\n",
       "      <td>Building leaders in the digital domain and bey...</td>\n",
       "    </tr>\n",
       "    <tr>\n",
       "      <th>2</th>\n",
       "      <td>2</td>\n",
       "      <td>https://www.geminisolutions.com/services/data-...</td>\n",
       "      <td>C:\\Users\\sagar.panwar\\Documents\\projects\\web_c...</td>\n",
       "      <td>Data EngineeringUnleash the power of your data...</td>\n",
       "    </tr>\n",
       "    <tr>\n",
       "      <th>3</th>\n",
       "      <td>3</td>\n",
       "      <td>https://www.geminisolutions.com/case-studies?p...</td>\n",
       "      <td>C:\\Users\\sagar.panwar\\Documents\\projects\\web_c...</td>\n",
       "      <td>Our Case StudiesTake a dive into how our solut...</td>\n",
       "    </tr>\n",
       "    <tr>\n",
       "      <th>4</th>\n",
       "      <td>4</td>\n",
       "      <td>https://www.geminisolutions.com/contact</td>\n",
       "      <td>C:\\Users\\sagar.panwar\\Documents\\projects\\web_c...</td>\n",
       "      <td>Our LocationsIndiaUSACanada000000All Locations...</td>\n",
       "    </tr>\n",
       "  </tbody>\n",
       "</table>\n",
       "</div>"
      ],
      "text/plain": [
       "   Unnamed: 0                                               link  \\\n",
       "0           0  https://www.geminisolutions.com/clubs/technolo...   \n",
       "1           1           https://www.geminisolutions.com/about-us   \n",
       "2           2  https://www.geminisolutions.com/services/data-...   \n",
       "3           3  https://www.geminisolutions.com/case-studies?p...   \n",
       "4           4            https://www.geminisolutions.com/contact   \n",
       "\n",
       "                                                path  \\\n",
       "0  C:\\Users\\sagar.panwar\\Documents\\projects\\web_c...   \n",
       "1  C:\\Users\\sagar.panwar\\Documents\\projects\\web_c...   \n",
       "2  C:\\Users\\sagar.panwar\\Documents\\projects\\web_c...   \n",
       "3  C:\\Users\\sagar.panwar\\Documents\\projects\\web_c...   \n",
       "4  C:\\Users\\sagar.panwar\\Documents\\projects\\web_c...   \n",
       "\n",
       "                                             content  \n",
       "0  Technology ClubThe Technology Club of Gemini f...  \n",
       "1  Building leaders in the digital domain and bey...  \n",
       "2  Data EngineeringUnleash the power of your data...  \n",
       "3  Our Case StudiesTake a dive into how our solut...  \n",
       "4  Our LocationsIndiaUSACanada000000All Locations...  "
      ]
     },
     "execution_count": 12,
     "metadata": {},
     "output_type": "execute_result"
    }
   ],
   "source": [
    "df.head()"
   ]
  },
  {
   "cell_type": "code",
   "execution_count": 13,
   "id": "c76134cf",
   "metadata": {
    "ExecuteTime": {
     "end_time": "2023-07-04T12:06:07.610151Z",
     "start_time": "2023-07-04T12:06:07.590718Z"
    }
   },
   "outputs": [],
   "source": [
    "df.content =df.content.replace(to_replace='[!\"#$%&\\'()*+,/:;<=>?@[\\\\]^_`{|}~]',value=' ',regex=True)#remove punctuation except\n",
    "df.content =df.content.replace(to_replace='  ',value='',regex=True) "
   ]
  },
  {
   "cell_type": "code",
   "execution_count": 17,
   "id": "dd568088",
   "metadata": {
    "ExecuteTime": {
     "end_time": "2023-07-04T13:34:36.700620Z",
     "start_time": "2023-07-04T13:34:36.677781Z"
    }
   },
   "outputs": [
    {
     "data": {
      "text/plain": [
       "('Technology ClubThe Technology Club of Gemini focuses on reviving dormant tech gears and keeping up with the latest happenings Technology ClubThe Technology Club serves as a hub for technology lovers to share innovative ideasstay updated on the latest industry developmentsand connect with fellow tech enthusiasts. From organizing exciting events to publishing informative monthly newslettersthe Tech Club is dedicated to fostering a vibrant community of tech-savvy individuals and encouraging inter-team interaction.Club HighlightsEventsMembersNewslettersHackerrankTech ExpoTech QuizCode-a-thonKon Banega Tech HeroHackathonClub StoriesTech QuizThe Technology Club organized an online technical quiz agnostic of a particular language which consisted of 30 questions to be done in 30 mins.Tech ExpoThe Tech Expo is a platform for the teams to showcase all the amazing work they do on a day-to day basis and increase transparency. The teams summarize their work and design posters which are put on display on the walls of the office premises.Kon Banega Tech HeroAn in-house event on the lines of Kon Banega Crorepati was organized. The idea of the contest was more towards usual technical awareness with a pinch of fun.\\n133 people competed for the screening round post which 20 top participants were called in for fastest fingers first.\\xa0Other Clubs to ExploreCSR ClubEntrepreneurship ClubGemini on Wheels ClubCultural ClubSports ClubTechnology ClubMember s TestimonialsParticipating in the Tech Club s quiz was an enjoyable and beneficial experience that helped me improve my technical knowledge and skillsand also increase my confidence.Nimit AroraSoftware EngineerI have been a part of the Tech Club for almost a year now. My experience in the Technology Club has been very knowledgeable as it pushed me to learn and enhance my skillsnot in one field but many. The club also helped me gain a lot of confidence and knowledge from the seniors.Vinay Kumar ParasharSoftware EngineerI recently participated in a quiz competition organized by the Tech Club and I have to say that it was an incredibly enriching experience. The competition was challenging and well-structuredtesting my knowledge and skills on various topics.Devesh Pratap SinghSoftware EngineerThe tech club consistently provides engaging and stimulating activities that have greatly enhanced my knowledge and abilities in technology. Participating in the club s activities has been an excellent way to apply and measure my understanding of a wide range of topics.Ankit TripathiSoftware EngineerParticipating in the Tech Club s quiz was an enjoyable and beneficial experience that helped me improve my technical knowledge and skillsand also increase my confidence.Nimit AroraSoftware EngineerI have been a part of the Tech Club for almost a year now. My experience in the Technology Club has been very knowledgeable as it pushed me to learn and enhance my skillsnot in one field but many. The club also helped me gain a lot of confidence and knowledge from the seniors.Vinay Kumar ParasharSoftware EngineerI recently participated in a quiz competition organized by the Tech Club and I have to say that it was an incredibly enriching experience. The competition was challenging and well-structuredtesting my knowledge and skills on various topics.Devesh Pratap SinghSoftware EngineerThe tech club consistently provides engaging and stimulating activities that have greatly enhanced my knowledge and abilities in technology. Participating in the club s activities has been an excellent way to apply and measure my understanding of a wide range of topics.Ankit TripathiSoftware EngineerParticipating in the Tech Club s quiz was an enjoyable and beneficial experience that helped me improve my technical knowledge and skillsand also increase my confidence.Nimit AroraSoftware Engineer 1234 Member s TestimonialsParticipating in the Tech Club s quiz was an enjoyable and beneficial experience that helped me improve my technical knowledge and skillsand also increase my confidence.Nimit AroraSoftware EngineerI have been a part of the Tech Club for almost a year now. My experience in the Technology Club has been very knowledgeable as it pushed me to learn and enhance my skillsnot in one field but many. The club also helped me gain a lot of confidence and knowledge from the seniors.Vinay Kumar ParasharSoftware EngineerI recently participated in a quiz competition organized by the Tech Club and I have to say that it was an incredibly enriching experience. The competition was challenging and well-structuredtesting my knowledge and skills on various topics.Devesh Pratap SinghSoftware EngineerThe tech club consistently provides engaging and stimulating activities that have greatly enhanced my knowledge and abilities in technology. Participating in the club s activities has been an excellent way to apply and measure my understanding of a wide range of topics.Ankit TripathiSoftware EngineerParticipating in the Tech Club s quiz was an enjoyable and beneficial experience that helped me improve my technical knowledge and skillsand also increase my confidence.Nimit AroraSoftware EngineerI have been a part of the Tech Club for almost a year now. My experience in the Technology Club has been very knowledgeable as it pushed me to learn and enhance my skillsnot in one field but many. The club also helped me gain a lot of confidence and knowledge from the seniors.Vinay Kumar ParasharSoftware EngineerI recently participated in a quiz competition organized by the Tech Club and I have to say that it was an incredibly enriching experience. The competition was challenging and well-structuredtesting my knowledge and skills on various topics.Devesh Pratap SinghSoftware EngineerThe tech club consistently provides engaging and stimulating activities that have greatly enhanced my knowledge and abilities in technology. Participating in the club s activities has been an excellent way to apply and measure my understanding of a wide range of topics.Ankit TripathiSoftware EngineerParticipating in the Tech Club s quiz was an enjoyable and beneficial experience that helped me improve my technical knowledge and skillsand also increase my confidence.Nimit AroraSoftware Engineer 1234 Quick LinksPerks BenefitsGemini offers a variety of best-in-class benefits ranging from financial supporthealth wellness to retirement perks among others.Learn MoreGem UniversityGem Universityour in-house learning platform provides opportunities for our colleagues to sharpen their skills and master competencies.Explore NowCareersWe are seeking motivated and talented individuals to join our growing organization. Take the first step towards a fulfilling career today View Openings',\n",
       " (60, 4))"
      ]
     },
     "execution_count": 17,
     "metadata": {},
     "output_type": "execute_result"
    }
   ],
   "source": [
    "df.content[0], df.shape"
   ]
  },
  {
   "cell_type": "markdown",
   "id": "2544afcb",
   "metadata": {},
   "source": [
    "## Create Clean Keywords"
   ]
  },
  {
   "cell_type": "code",
   "execution_count": 44,
   "id": "83a197f1",
   "metadata": {
    "ExecuteTime": {
     "end_time": "2023-07-04T13:47:42.868894Z",
     "start_time": "2023-07-04T13:47:38.196967Z"
    }
   },
   "outputs": [
    {
     "name": "stderr",
     "output_type": "stream",
     "text": [
      "[nltk_data] Downloading package stopwords to\n",
      "[nltk_data]     C:\\Users\\sagar.panwar\\AppData\\Roaming\\nltk_data...\n",
      "[nltk_data]   Package stopwords is already up-to-date!\n",
      "[nltk_data] Downloading package wordnet to\n",
      "[nltk_data]     C:\\Users\\sagar.panwar\\AppData\\Roaming\\nltk_data...\n",
      "[nltk_data]   Package wordnet is already up-to-date!\n",
      "[nltk_data] Downloading package omw-1.4 to\n",
      "[nltk_data]     C:\\Users\\sagar.panwar\\AppData\\Roaming\\nltk_data...\n"
     ]
    }
   ],
   "source": [
    "nltk.download('stopwords')\n",
    "nltk.download('wordnet')\n",
    "nltk.download('omw-1.4')\n",
    "stop_words = set(stopwords.words('english'))\n",
    "lemmatizer = WordNetLemmatizer()"
   ]
  },
  {
   "cell_type": "code",
   "execution_count": 45,
   "id": "e64ddbb2",
   "metadata": {
    "ExecuteTime": {
     "end_time": "2023-07-04T13:47:42.887131Z",
     "start_time": "2023-07-04T13:47:42.873088Z"
    }
   },
   "outputs": [],
   "source": [
    "# stop_words"
   ]
  },
  {
   "cell_type": "code",
   "execution_count": 60,
   "id": "c18621f4",
   "metadata": {
    "ExecuteTime": {
     "end_time": "2023-07-04T13:55:20.901373Z",
     "start_time": "2023-07-04T13:55:20.887176Z"
    }
   },
   "outputs": [],
   "source": [
    "def create_clean_keywords(text):\n",
    "    text =  text.lower()\n",
    "    token = word_tokenize(text)\n",
    "    \n",
    "    token = [w for w in token if not w.lower() in stop_words]\n",
    "    \n",
    "    token = [lemmatizer.lemmatize(val) for val in token]\n",
    "    \n",
    "    return \",\".join(token)"
   ]
  },
  {
   "cell_type": "code",
   "execution_count": 61,
   "id": "0d6dfd84",
   "metadata": {
    "ExecuteTime": {
     "end_time": "2023-07-04T13:55:24.220485Z",
     "start_time": "2023-07-04T13:55:23.898398Z"
    }
   },
   "outputs": [],
   "source": [
    "df['clean_keywords'] = df['content'].apply(create_clean_keywords)"
   ]
  },
  {
   "cell_type": "code",
   "execution_count": 62,
   "id": "87f08b0c",
   "metadata": {
    "ExecuteTime": {
     "end_time": "2023-07-04T13:55:24.342409Z",
     "start_time": "2023-07-04T13:55:24.330200Z"
    }
   },
   "outputs": [
    {
     "data": {
      "text/plain": [
       "0     technology,clubthe,technology,club,gemini,focu...\n",
       "1     building,leader,digital,domain,beyondgemini,fa...\n",
       "2     data,engineeringunleash,power,data,data,engine...\n",
       "3     case,studiestake,dive,solution,helped,business...\n",
       "4     locationsindiausacanada000000all,locationsview...\n",
       "5     gemini,solution,gemini.solutions•,instagram,ph...\n",
       "6     case,study,technology,client,major,focus,facil...\n",
       "7     ussolutionstechnologiesgemucareerscontact,404o...\n",
       "8     csr,clubleading,way,corporate,social,responsib...\n",
       "9     quality,engineeringensure,quality,every,step,s...\n",
       "10    overview,dbtabout,ussolutionstechnologiesgemuc...\n",
       "11    databasesunlock,potential,data,expert,database...\n",
       "12    case,study,technology,setting,aws,serverless,l...\n",
       "13    gemini,wheel,clubthe,adventure,club,gemini,uni...\n",
       "14    cloud,servicesexperience,unparalleled,scalabil...\n",
       "15    blog,infrastructure,mou,signed,iit,roparmou,si...\n",
       "16    blogscommunication,reloadedcommunication,reloa...\n",
       "17    technical,infrastructurefrom,cloud,infrastruct...\n",
       "20    transforming,business,technologyour,service,po...\n",
       "21    managed,serviceswe,gemini,offer,several,manage...\n",
       "22    blogsget,glimpse,company,ethos,value,lively,bl...\n",
       "23    core,developmentpower,digital,transformation,c...\n",
       "24    search,dream,jobhere,gemini,solutionswe,help,p...\n",
       "26    data,scienceunlock,power,data,expert,data,scie...\n",
       "27    usprivacy,policygemini,solution,consulting,pro...\n",
       "28    amazing,benefitsat,geminiwe,believe,supporting...\n",
       "29    case,study,management,end,end,portfolio,manage...\n",
       "30    cultural,clubthe,cultural,club,aim,keep,enviro...\n",
       "31    blog,infrastructure,mou,signed,chitkaramou,sig...\n",
       "32    security,glassdoor,help,u,protect,glassdoor,pl...\n",
       "33    hiring,processinterviews,stressful,experiencee...\n",
       "35    powerful,model,learninggem,university,in-house...\n",
       "38    blog,infrastructure,mou,signed,northcap,univer...\n",
       "39    usterms,conditions1,.,acceptance,term,useby,en...\n",
       "40    offer,full,spectrum,cloud,service,help,create,...\n",
       "41    front-endelevate,user,experience,cutting-edge,...\n",
       "43    devsecopsour,expert,provide,customized,solutio...\n",
       "44    blog,technology,reaching,new,heightsappraised,...\n",
       "45    digital,offeringsunlock,full,potential,busines...\n",
       "46    bi,analyticsmake,data-driven,decision,advanced...\n",
       "48    sport,clubthe,sport,club,flag-bearer,fitness,r...\n",
       "49    blog,management,elevate,1.0,elevate,1.0,feb,15...\n",
       "51    case,study,management,recovery,stabilization,b...\n",
       "52    application,developmentwe,understand,organizat...\n",
       "53    entrepreneurship,clubbringing,together,like-mi...\n",
       "54    case,study,technology,converting,legacy,metada...\n",
       "55    mobilitytransform,business,comprehensive,mobil...\n",
       "56    life,geminiexplore,unique,culture,offer,experi...\n",
       "57    case,study,technology,pricing,portal,applicati...\n",
       "58    case,study,technology,oracle,19c,ana,upgrade,r...\n",
       "59    case,study,technology,make,data,useful,pm,rese...\n",
       "60    case,study,technology,need,show,stressed,datan...\n",
       "61    case,study,technology,support,application,dyna...\n",
       "62    case,study,technology,disaster,recovery,site,s...\n",
       "63    case,study,technology,setup,support,managed,cl...\n",
       "64    case,study,technology,database,administration,...\n",
       "65    case,study,technology,creating,common,data,pro...\n",
       "66    case,study,design,portfolio,optimization,autom...\n",
       "67    case,study,technology,web,based,app,analyse,la...\n",
       "68    case,study,cloud,support,application,managed,c...\n",
       "Name: clean_keywords, dtype: object"
      ]
     },
     "execution_count": 62,
     "metadata": {},
     "output_type": "execute_result"
    }
   ],
   "source": [
    "df['clean_keywords']"
   ]
  },
  {
   "cell_type": "markdown",
   "id": "8ba2141e",
   "metadata": {},
   "source": [
    "## Embeddings"
   ]
  },
  {
   "cell_type": "code",
   "execution_count": 63,
   "id": "2ee0581e",
   "metadata": {
    "ExecuteTime": {
     "end_time": "2023-07-04T13:55:35.176494Z",
     "start_time": "2023-07-04T13:55:35.159607Z"
    }
   },
   "outputs": [],
   "source": [
    "## Create Vocabulary\n",
    "vocabulary = set()\n",
    "for doc in df.clean_keywords:\n",
    "    vocabulary.update(doc.split(','))"
   ]
  },
  {
   "cell_type": "code",
   "execution_count": 65,
   "id": "3c9bba6f",
   "metadata": {
    "ExecuteTime": {
     "end_time": "2023-07-04T13:55:42.071105Z",
     "start_time": "2023-07-04T13:55:42.052549Z"
    }
   },
   "outputs": [],
   "source": [
    "# vocabulary"
   ]
  },
  {
   "cell_type": "code",
   "execution_count": 66,
   "id": "e059cbe6",
   "metadata": {
    "ExecuteTime": {
     "end_time": "2023-07-04T13:55:45.374137Z",
     "start_time": "2023-07-04T13:55:45.360979Z"
    }
   },
   "outputs": [],
   "source": [
    "# df.clean_keywords.apply(lambda x: \",\".join(x))"
   ]
  },
  {
   "cell_type": "code",
   "execution_count": 67,
   "id": "b35cd832",
   "metadata": {
    "ExecuteTime": {
     "end_time": "2023-07-04T13:55:52.085747Z",
     "start_time": "2023-07-04T13:55:51.998209Z"
    }
   },
   "outputs": [
    {
     "data": {
      "text/html": [
       "<style>#sk-container-id-2 {color: black;background-color: white;}#sk-container-id-2 pre{padding: 0;}#sk-container-id-2 div.sk-toggleable {background-color: white;}#sk-container-id-2 label.sk-toggleable__label {cursor: pointer;display: block;width: 100%;margin-bottom: 0;padding: 0.3em;box-sizing: border-box;text-align: center;}#sk-container-id-2 label.sk-toggleable__label-arrow:before {content: \"▸\";float: left;margin-right: 0.25em;color: #696969;}#sk-container-id-2 label.sk-toggleable__label-arrow:hover:before {color: black;}#sk-container-id-2 div.sk-estimator:hover label.sk-toggleable__label-arrow:before {color: black;}#sk-container-id-2 div.sk-toggleable__content {max-height: 0;max-width: 0;overflow: hidden;text-align: left;background-color: #f0f8ff;}#sk-container-id-2 div.sk-toggleable__content pre {margin: 0.2em;color: black;border-radius: 0.25em;background-color: #f0f8ff;}#sk-container-id-2 input.sk-toggleable__control:checked~div.sk-toggleable__content {max-height: 200px;max-width: 100%;overflow: auto;}#sk-container-id-2 input.sk-toggleable__control:checked~label.sk-toggleable__label-arrow:before {content: \"▾\";}#sk-container-id-2 div.sk-estimator input.sk-toggleable__control:checked~label.sk-toggleable__label {background-color: #d4ebff;}#sk-container-id-2 div.sk-label input.sk-toggleable__control:checked~label.sk-toggleable__label {background-color: #d4ebff;}#sk-container-id-2 input.sk-hidden--visually {border: 0;clip: rect(1px 1px 1px 1px);clip: rect(1px, 1px, 1px, 1px);height: 1px;margin: -1px;overflow: hidden;padding: 0;position: absolute;width: 1px;}#sk-container-id-2 div.sk-estimator {font-family: monospace;background-color: #f0f8ff;border: 1px dotted black;border-radius: 0.25em;box-sizing: border-box;margin-bottom: 0.5em;}#sk-container-id-2 div.sk-estimator:hover {background-color: #d4ebff;}#sk-container-id-2 div.sk-parallel-item::after {content: \"\";width: 100%;border-bottom: 1px solid gray;flex-grow: 1;}#sk-container-id-2 div.sk-label:hover label.sk-toggleable__label {background-color: #d4ebff;}#sk-container-id-2 div.sk-serial::before {content: \"\";position: absolute;border-left: 1px solid gray;box-sizing: border-box;top: 0;bottom: 0;left: 50%;z-index: 0;}#sk-container-id-2 div.sk-serial {display: flex;flex-direction: column;align-items: center;background-color: white;padding-right: 0.2em;padding-left: 0.2em;position: relative;}#sk-container-id-2 div.sk-item {position: relative;z-index: 1;}#sk-container-id-2 div.sk-parallel {display: flex;align-items: stretch;justify-content: center;background-color: white;position: relative;}#sk-container-id-2 div.sk-item::before, #sk-container-id-2 div.sk-parallel-item::before {content: \"\";position: absolute;border-left: 1px solid gray;box-sizing: border-box;top: 0;bottom: 0;left: 50%;z-index: -1;}#sk-container-id-2 div.sk-parallel-item {display: flex;flex-direction: column;z-index: 1;position: relative;background-color: white;}#sk-container-id-2 div.sk-parallel-item:first-child::after {align-self: flex-end;width: 50%;}#sk-container-id-2 div.sk-parallel-item:last-child::after {align-self: flex-start;width: 50%;}#sk-container-id-2 div.sk-parallel-item:only-child::after {width: 0;}#sk-container-id-2 div.sk-dashed-wrapped {border: 1px dashed gray;margin: 0 0.4em 0.5em 0.4em;box-sizing: border-box;padding-bottom: 0.4em;background-color: white;}#sk-container-id-2 div.sk-label label {font-family: monospace;font-weight: bold;display: inline-block;line-height: 1.2em;}#sk-container-id-2 div.sk-label-container {text-align: center;}#sk-container-id-2 div.sk-container {/* jupyter's `normalize.less` sets `[hidden] { display: none; }` but bootstrap.min.css set `[hidden] { display: none !important; }` so we also need the `!important` here to be able to override the default hidden behavior on the sphinx rendered scikit-learn.org. See: https://github.com/scikit-learn/scikit-learn/issues/21755 */display: inline-block !important;position: relative;}#sk-container-id-2 div.sk-text-repr-fallback {display: none;}</style><div id=\"sk-container-id-2\" class=\"sk-top-container\"><div class=\"sk-text-repr-fallback\"><pre>TfidfVectorizer(vocabulary={&#x27;-&#x27;, &#x27;-all&#x27;, &#x27;-the&#x27;, &#x27;.&#x27;, &#x27;..&#x27;, &#x27;...&#x27;, &#x27;01&#x27;, &#x27;03&#x27;,\n",
       "                            &#x27;08&#x27;, &#x27;1-start&#x27;, &#x27;1.0&#x27;, &#x27;1.0gem&#x27;, &#x27;10&#x27;, &#x27;10-20&#x27;,\n",
       "                            &#x27;100&#x27;, &#x27;100-150&#x27;, &#x27;1000&#x27;, &#x27;100reports&#x27;, &#x27;10km&#x27;,\n",
       "                            &#x27;10years&#x27;, &#x27;119udyog&#x27;, &#x27;12&#x27;,\n",
       "                            &#x27;12022featuredconverting&#x27;, &#x27;122016india&#x27;, &#x27;123&#x27;,\n",
       "                            &#x27;1234&#x27;, &#x27;12345&#x27;, &#x27;12of&#x27;, &#x27;130&#x27;, &#x27;1300&#x27;, ...})</pre><b>In a Jupyter environment, please rerun this cell to show the HTML representation or trust the notebook. <br />On GitHub, the HTML representation is unable to render, please try loading this page with nbviewer.org.</b></div><div class=\"sk-container\" hidden><div class=\"sk-item\"><div class=\"sk-estimator sk-toggleable\"><input class=\"sk-toggleable__control sk-hidden--visually\" id=\"sk-estimator-id-2\" type=\"checkbox\" checked><label for=\"sk-estimator-id-2\" class=\"sk-toggleable__label sk-toggleable__label-arrow\">TfidfVectorizer</label><div class=\"sk-toggleable__content\"><pre>TfidfVectorizer(vocabulary={&#x27;-&#x27;, &#x27;-all&#x27;, &#x27;-the&#x27;, &#x27;.&#x27;, &#x27;..&#x27;, &#x27;...&#x27;, &#x27;01&#x27;, &#x27;03&#x27;,\n",
       "                            &#x27;08&#x27;, &#x27;1-start&#x27;, &#x27;1.0&#x27;, &#x27;1.0gem&#x27;, &#x27;10&#x27;, &#x27;10-20&#x27;,\n",
       "                            &#x27;100&#x27;, &#x27;100-150&#x27;, &#x27;1000&#x27;, &#x27;100reports&#x27;, &#x27;10km&#x27;,\n",
       "                            &#x27;10years&#x27;, &#x27;119udyog&#x27;, &#x27;12&#x27;,\n",
       "                            &#x27;12022featuredconverting&#x27;, &#x27;122016india&#x27;, &#x27;123&#x27;,\n",
       "                            &#x27;1234&#x27;, &#x27;12345&#x27;, &#x27;12of&#x27;, &#x27;130&#x27;, &#x27;1300&#x27;, ...})</pre></div></div></div></div></div>"
      ],
      "text/plain": [
       "TfidfVectorizer(vocabulary={'-', '-all', '-the', '.', '..', '...', '01', '03',\n",
       "                            '08', '1-start', '1.0', '1.0gem', '10', '10-20',\n",
       "                            '100', '100-150', '1000', '100reports', '10km',\n",
       "                            '10years', '119udyog', '12',\n",
       "                            '12022featuredconverting', '122016india', '123',\n",
       "                            '1234', '12345', '12of', '130', '1300', ...})"
      ]
     },
     "execution_count": 67,
     "metadata": {},
     "output_type": "execute_result"
    }
   ],
   "source": [
    "# Intializating the tfIdf model\n",
    "tfidf = TfidfVectorizer(vocabulary=vocabulary)\n",
    "# Fit the TfIdf model\n",
    "tfidf.fit(df.clean_keywords)"
   ]
  },
  {
   "cell_type": "code",
   "execution_count": 83,
   "id": "c4ff22c9",
   "metadata": {
    "ExecuteTime": {
     "end_time": "2023-07-04T14:01:32.902109Z",
     "start_time": "2023-07-04T14:01:32.858106Z"
    }
   },
   "outputs": [],
   "source": [
    "# Transform the TfIdf model\n",
    "df['embedding'] = [val for val in tfidf.transform(df.clean_keywords).toarray()]"
   ]
  },
  {
   "cell_type": "code",
   "execution_count": 63,
   "id": "487418d0",
   "metadata": {
    "ExecuteTime": {
     "end_time": "2023-07-05T14:39:10.222146Z",
     "start_time": "2023-07-05T14:39:10.202986Z"
    }
   },
   "outputs": [
    {
     "ename": "NameError",
     "evalue": "name 'df' is not defined",
     "output_type": "error",
     "traceback": [
      "\u001b[1;31m---------------------------------------------------------------------------\u001b[0m",
      "\u001b[1;31mNameError\u001b[0m                                 Traceback (most recent call last)",
      "Cell \u001b[1;32mIn[63], line 1\u001b[0m\n\u001b[1;32m----> 1\u001b[0m \u001b[43mdf\u001b[49m\u001b[38;5;241m.\u001b[39membedding\n",
      "\u001b[1;31mNameError\u001b[0m: name 'df' is not defined"
     ]
    }
   ],
   "source": [
    "df.embedding"
   ]
  },
  {
   "cell_type": "code",
   "execution_count": null,
   "id": "9214ab10",
   "metadata": {},
   "outputs": [],
   "source": []
  },
  {
   "cell_type": "code",
   "execution_count": 86,
   "id": "1b8e5bc5",
   "metadata": {
    "ExecuteTime": {
     "end_time": "2023-07-04T14:02:32.485276Z",
     "start_time": "2023-07-04T14:02:32.477228Z"
    }
   },
   "outputs": [],
   "source": [
    "def gen_vector_T(tokens):\n",
    "    Q = np.zeros((len(vocabulary)))    \n",
    "    x= tfidf.transform(tokens)\n",
    "    #print(tokens[0].split(','))\n",
    "    for token in tokens[0].split(','):\n",
    "        #print(token)\n",
    "        try:\n",
    "            ind = vocabulary.index(token)\n",
    "            Q[ind]  = x[0, tfidf.vocabulary_[token]]\n",
    "        except:\n",
    "            pass\n",
    "    return Q"
   ]
  },
  {
   "cell_type": "code",
   "execution_count": 87,
   "id": "9658ad96",
   "metadata": {
    "ExecuteTime": {
     "end_time": "2023-07-04T14:02:57.072717Z",
     "start_time": "2023-07-04T14:02:57.060414Z"
    }
   },
   "outputs": [
    {
     "data": {
      "text/plain": [
       "array([0., 0., 0., ..., 0., 0., 0.])"
      ]
     },
     "execution_count": 87,
     "metadata": {},
     "output_type": "execute_result"
    }
   ],
   "source": [
    "gen_vector_T(['my', 'name'])"
   ]
  },
  {
   "cell_type": "code",
   "execution_count": 89,
   "id": "1006b6eb",
   "metadata": {
    "ExecuteTime": {
     "end_time": "2023-07-04T14:05:17.525265Z",
     "start_time": "2023-07-04T14:05:17.491623Z"
    }
   },
   "outputs": [],
   "source": [
    "df.to_csv(os.path.join(data_dir, r'chatbot_data\\embedding\\tfidf\\embedding.csv'))"
   ]
  },
  {
   "cell_type": "code",
   "execution_count": 92,
   "id": "a528851b",
   "metadata": {
    "ExecuteTime": {
     "end_time": "2023-07-04T14:08:19.314686Z",
     "start_time": "2023-07-04T14:08:19.308539Z"
    }
   },
   "outputs": [],
   "source": [
    "import json"
   ]
  },
  {
   "cell_type": "code",
   "execution_count": 94,
   "id": "29da7fc7",
   "metadata": {
    "ExecuteTime": {
     "end_time": "2023-07-04T14:09:24.505768Z",
     "start_time": "2023-07-04T14:09:24.492939Z"
    }
   },
   "outputs": [],
   "source": [
    "# vocabulary\n",
    "with open(os.path.join(data_dir, r'chatbot_data\\embedding\\tfidf\\vocabulary.txt'), 'w') as f:\n",
    "    f.write(str(vocabulary))"
   ]
  },
  {
   "cell_type": "markdown",
   "id": "e227ea50",
   "metadata": {},
   "source": [
    "# ChatBot"
   ]
  },
  {
   "cell_type": "markdown",
   "id": "55a556b2",
   "metadata": {},
   "source": [
    "## Data Loading"
   ]
  },
  {
   "cell_type": "code",
   "execution_count": 61,
   "id": "b9afee45",
   "metadata": {
    "ExecuteTime": {
     "end_time": "2023-07-05T14:38:57.139768Z",
     "start_time": "2023-07-05T14:38:55.850992Z"
    }
   },
   "outputs": [],
   "source": [
    "# load documents\n",
    "StringIterableReader = download_loader(\"StringIterableReader\")\n",
    "\n",
    "loader = StringIterableReader()"
   ]
  },
  {
   "cell_type": "code",
   "execution_count": 67,
   "id": "fe3afb04",
   "metadata": {
    "ExecuteTime": {
     "end_time": "2023-07-05T14:40:07.882149Z",
     "start_time": "2023-07-05T14:40:07.861052Z"
    }
   },
   "outputs": [],
   "source": [
    "df = pd.read_csv(os.path.join(data_dir, r'chatbot_data\\embedding\\tfidf\\embedding.csv'))"
   ]
  },
  {
   "cell_type": "code",
   "execution_count": 68,
   "id": "9da8848a",
   "metadata": {
    "ExecuteTime": {
     "end_time": "2023-07-05T14:40:13.772295Z",
     "start_time": "2023-07-05T14:40:13.753520Z"
    }
   },
   "outputs": [],
   "source": [
    "documents = loader.load_data(texts=df.content.tolist())"
   ]
  },
  {
   "cell_type": "code",
   "execution_count": 70,
   "id": "ab8e62af",
   "metadata": {
    "ExecuteTime": {
     "end_time": "2023-07-05T14:40:22.614054Z",
     "start_time": "2023-07-05T14:40:22.600495Z"
    },
    "scrolled": true
   },
   "outputs": [
    {
     "data": {
      "text/plain": [
       "60"
      ]
     },
     "execution_count": 70,
     "metadata": {},
     "output_type": "execute_result"
    }
   ],
   "source": [
    "len(documents)"
   ]
  },
  {
   "cell_type": "markdown",
   "id": "0a6b97ca",
   "metadata": {},
   "source": [
    "## Indexing"
   ]
  },
  {
   "cell_type": "code",
   "execution_count": 89,
   "id": "36c2a57c",
   "metadata": {
    "ExecuteTime": {
     "end_time": "2023-07-05T14:55:02.589496Z",
     "start_time": "2023-07-05T14:55:02.464735Z"
    }
   },
   "outputs": [],
   "source": [
    "# Create Index\n",
    "index = SimpleKeywordTableIndex(documents, max_keywords_per_chunk=20)"
   ]
  },
  {
   "cell_type": "code",
   "execution_count": 90,
   "id": "ad79d349",
   "metadata": {
    "ExecuteTime": {
     "end_time": "2023-07-05T14:55:03.360341Z",
     "start_time": "2023-07-05T14:55:03.347531Z"
    }
   },
   "outputs": [],
   "source": [
    "# GPTVectorStoreIndex(documents)"
   ]
  },
  {
   "cell_type": "code",
   "execution_count": 92,
   "id": "922e7048",
   "metadata": {
    "ExecuteTime": {
     "end_time": "2023-07-05T14:55:12.999373Z",
     "start_time": "2023-07-05T14:55:12.986520Z"
    }
   },
   "outputs": [],
   "source": [
    "# index.save_to_disk(\"7_custom_opt.json\")"
   ]
  },
  {
   "cell_type": "code",
   "execution_count": 79,
   "id": "40303dce",
   "metadata": {
    "ExecuteTime": {
     "end_time": "2023-07-05T14:42:06.836030Z",
     "start_time": "2023-07-05T14:42:06.820762Z"
    }
   },
   "outputs": [
    {
     "data": {
      "text/plain": [
       "<llama_index.indices.keyword_table.simple_base.SimpleKeywordTableIndex at 0x1c7de7cf1f0>"
      ]
     },
     "execution_count": 79,
     "metadata": {},
     "output_type": "execute_result"
    }
   ],
   "source": [
    "index.index_struct"
   ]
  },
  {
   "cell_type": "code",
   "execution_count": 80,
   "id": "6780f53a",
   "metadata": {
    "ExecuteTime": {
     "end_time": "2023-07-05T14:42:07.342359Z",
     "start_time": "2023-07-05T14:42:07.322290Z"
    }
   },
   "outputs": [],
   "source": [
    "query_engine = index.as_query_engine()"
   ]
  },
  {
   "cell_type": "code",
   "execution_count": 81,
   "id": "ca6ba412",
   "metadata": {
    "ExecuteTime": {
     "end_time": "2023-07-05T14:42:07.829105Z",
     "start_time": "2023-07-05T14:42:07.790634Z"
    }
   },
   "outputs": [
    {
     "ename": "NameError",
     "evalue": "name 'response_mode' is not defined",
     "output_type": "error",
     "traceback": [
      "\u001b[1;31m---------------------------------------------------------------------------\u001b[0m",
      "\u001b[1;31mNameError\u001b[0m                                 Traceback (most recent call last)",
      "Cell \u001b[1;32mIn[81], line 1\u001b[0m\n\u001b[1;32m----> 1\u001b[0m query_engine\u001b[38;5;241m.\u001b[39mquery(\u001b[38;5;124m\"\u001b[39m\u001b[38;5;124mdata science\u001b[39m\u001b[38;5;124m\"\u001b[39m, \u001b[43mresponse_mode\u001b[49m\u001b[38;5;241m==\u001b[39m\u001b[38;5;124m'\u001b[39m\u001b[38;5;124mno_text\u001b[39m\u001b[38;5;124m'\u001b[39m)\n",
      "\u001b[1;31mNameError\u001b[0m: name 'response_mode' is not defined"
     ]
    }
   ],
   "source": [
    "query_engine.query(\"data science\", response_mode=='no_text')"
   ]
  },
  {
   "cell_type": "code",
   "execution_count": 82,
   "id": "5aedfbad",
   "metadata": {
    "ExecuteTime": {
     "end_time": "2023-07-05T14:42:08.344201Z",
     "start_time": "2023-07-05T14:42:08.320213Z"
    }
   },
   "outputs": [],
   "source": [
    "retriever = index.as_retriever()"
   ]
  },
  {
   "cell_type": "code",
   "execution_count": 83,
   "id": "01d2818c",
   "metadata": {
    "ExecuteTime": {
     "end_time": "2023-07-05T14:42:08.730406Z",
     "start_time": "2023-07-05T14:42:08.710524Z"
    }
   },
   "outputs": [],
   "source": [
    "query_engine = RetrieverQueryEngine.from_args(retriever, response_mode=\"no_text\")"
   ]
  },
  {
   "cell_type": "code",
   "execution_count": 84,
   "id": "7c97cc8f",
   "metadata": {
    "ExecuteTime": {
     "end_time": "2023-07-05T14:42:09.011513Z",
     "start_time": "2023-07-05T14:42:09.000191Z"
    }
   },
   "outputs": [
    {
     "data": {
      "text/plain": [
       "KeywordTable(index_id='cc900d27-a0e0-4c3f-ad44-7c9aa8b22d53', summary=None, table={'technical': {'53dc9cb0-44be-42a2-972f-947b568e7f59', 'dca4a08b-a04b-44e1-8245-b7992101dc97'}, 'organized': {'dca4a08b-a04b-44e1-8245-b7992101dc97'}, 'topics': {'dca4a08b-a04b-44e1-8245-b7992101dc97'}, 'also': {'4ca868c1-4a62-4447-b804-ccbca69c9681', '539be537-04bd-4d96-b8ca-39af1f69832a', 'dca4a08b-a04b-44e1-8245-b7992101dc97', 'f30003bd-97ea-4d22-8433-88e8364bb474', '8333dba7-c5f1-4320-a5c0-534f7152fe67', 'c4f7e769-c302-4380-8ef9-40aded9c8269', '83ad0c71-6ad3-4752-b7d9-60fc54f68827'}, 'activities': {'c5c2a9c2-2e35-4184-8ef3-f583daa06aac', '1606f17b-29c1-42a1-bcda-2da0bd9d7f05', 'c8b8babf-e1dc-43dc-8f55-882951d1f462', 'dca4a08b-a04b-44e1-8245-b7992101dc97', 'e2c01673-01e4-456d-a9b9-c0e6193a58c1'}, 'improve': {'aa2e4a91-547b-4215-8b62-98a57f154589', '2dfb8f90-e4b6-4678-82fb-2809c7a1c60a', 'dca4a08b-a04b-44e1-8245-b7992101dc97', 'f30003bd-97ea-4d22-8433-88e8364bb474'}, 'skillsand': {'dca4a08b-a04b-44e1-8245-b7992101dc97'}, 'quiz': {'dca4a08b-a04b-44e1-8245-b7992101dc97'}, 'technology': {'6466cc08-28f2-4236-8632-b1ebffb2a7ce', 'b126b2a8-3043-4c08-b3a1-cbd9c54c418c', 'fbcfc5b0-cf8f-47a1-8785-288b23456323', '2dfb8f90-e4b6-4678-82fb-2809c7a1c60a', 'dca4a08b-a04b-44e1-8245-b7992101dc97', '89c40f54-21f4-4f0c-916c-c7b1170b1241', '697a2062-b788-4d90-8a5d-dc5c71300071', 'da49dcab-79cf-4c98-a528-2fbdc5e89652', 'fc7edde5-312a-4044-8e98-33971692f428', 'f7752a52-3523-4722-a2ba-ccf77057af3a', '8333dba7-c5f1-4320-a5c0-534f7152fe67', 'c4f7e769-c302-4380-8ef9-40aded9c8269', '845e2971-68ec-4ec7-9c18-f012795e951b'}, 'increase': {'dca4a08b-a04b-44e1-8245-b7992101dc97'}, 'confidence': {'dca4a08b-a04b-44e1-8245-b7992101dc97'}, 'club': {'c5c2a9c2-2e35-4184-8ef3-f583daa06aac', '539be537-04bd-4d96-b8ca-39af1f69832a', 'dca4a08b-a04b-44e1-8245-b7992101dc97', 'c8b8babf-e1dc-43dc-8f55-882951d1f462', '8c6cfc33-9dca-4907-8b9c-47a71d568d67', 'e2c01673-01e4-456d-a9b9-c0e6193a58c1', 'c97ed0a8-3d55-4f69-9075-594abc636015'}, 'engineeri': {'dca4a08b-a04b-44e1-8245-b7992101dc97'}, 'tech': {'c8b8babf-e1dc-43dc-8f55-882951d1f462', 'dca4a08b-a04b-44e1-8245-b7992101dc97'}, 'experience': {'e2c01673-01e4-456d-a9b9-c0e6193a58c1', '539be537-04bd-4d96-b8ca-39af1f69832a', 'dca4a08b-a04b-44e1-8245-b7992101dc97', '6ff91adc-448a-4102-bb83-e206a4b53574'}, 'enjoyable': {'dca4a08b-a04b-44e1-8245-b7992101dc97', '6ff91adc-448a-4102-bb83-e206a4b53574'}, 'competition': {'dca4a08b-a04b-44e1-8245-b7992101dc97'}, 'knowledge': {'1606f17b-29c1-42a1-bcda-2da0bd9d7f05', 'dca4a08b-a04b-44e1-8245-b7992101dc97'}, 'helped': {'dca4a08b-a04b-44e1-8245-b7992101dc97'}, 'beneficial': {'dca4a08b-a04b-44e1-8245-b7992101dc97'}, 'quality': {'89c40f54-21f4-4f0c-916c-c7b1170b1241', '24a76a2c-6358-4584-a675-2c7ca09c8e51', '6eca06b6-3cb1-405f-9103-422c05556086'}, 'india': {'24a76a2c-6358-4584-a675-2c7ca09c8e51'}, 'award': {'24a76a2c-6358-4584-a675-2c7ca09c8e51'}, 'world': {'24a76a2c-6358-4584-a675-2c7ca09c8e51'}, 'meet': {'24a76a2c-6358-4584-a675-2c7ca09c8e51'}, 'us': {'482cf45b-8494-4103-9f4d-44c4793ea131', '2bd12793-6f3a-4a58-8bfb-c67ed4d9a5bc', '21e7bea7-e813-4628-b455-d2285c0d4651', '24a76a2c-6358-4584-a675-2c7ca09c8e51'}, 'problem': {'18a5e68d-869d-40a8-bd29-80e2c4fac59a', '24a76a2c-6358-4584-a675-2c7ca09c8e51'}, 'records': {'24a76a2c-6358-4584-a675-2c7ca09c8e51'}, 'gemini': {'b126b2a8-3043-4c08-b3a1-cbd9c54c418c', 'aae1f149-8f71-47ba-b4d9-ff0571098f40', 'b6553d5f-86fd-4202-943a-cee8ee98828b', '9e889177-2f76-44a5-9c78-a3e4b06aa34d', '24a76a2c-6358-4584-a675-2c7ca09c8e51', '4ca868c1-4a62-4447-b804-ccbca69c9681', '21e7bea7-e813-4628-b455-d2285c0d4651', 'c8b8babf-e1dc-43dc-8f55-882951d1f462', 'e2c01673-01e4-456d-a9b9-c0e6193a58c1', 'fc7edde5-312a-4044-8e98-33971692f428', '279e03c8-4213-4207-bc93-45d69c38da1c', 'c97ed0a8-3d55-4f69-9075-594abc636015', '8333dba7-c5f1-4320-a5c0-534f7152fe67', 'c4f7e769-c302-4380-8ef9-40aded9c8269'}, 'corporate': {'8c6cfc33-9dca-4907-8b9c-47a71d568d67', '24a76a2c-6358-4584-a675-2c7ca09c8e51'}, 'team': {'b6553d5f-86fd-4202-943a-cee8ee98828b', '24a76a2c-6358-4584-a675-2c7ca09c8e51', 'b692e136-afb2-4596-ac99-b87351a03e73', 'aa8a69a6-5410-4dde-9c4f-285f7e212a16', '2dfb8f90-e4b6-4678-82fb-2809c7a1c60a', 'c8b8babf-e1dc-43dc-8f55-882951d1f462', 'cba1a3cc-742d-4c9d-b209-16658e58d906', 'f30003bd-97ea-4d22-8433-88e8364bb474', '4707594d-9dea-43eb-9d2c-fd32f7e1b253', 'e38a925d-b86f-411f-9db6-b15aecd86b7d'}, 'transparency': {'24a76a2c-6358-4584-a675-2c7ca09c8e51'}, 'ideas': {'24a76a2c-6358-4584-a675-2c7ca09c8e51'}, 'services': {'845e2971-68ec-4ec7-9c18-f012795e951b', '24a76a2c-6358-4584-a675-2c7ca09c8e51', '4ca868c1-4a62-4447-b804-ccbca69c9681', 'b692e136-afb2-4596-ac99-b87351a03e73', '5195609d-0f1b-46a1-95a4-3d048f11ee56', '2dfb8f90-e4b6-4678-82fb-2809c7a1c60a', '89c40f54-21f4-4f0c-916c-c7b1170b1241', 'da49dcab-79cf-4c98-a528-2fbdc5e89652', 'f0a9549c-ce65-4022-99f8-265cf2232191', 'f30003bd-97ea-4d22-8433-88e8364bb474', '279e03c8-4213-4207-bc93-45d69c38da1c', '4707594d-9dea-43eb-9d2c-fd32f7e1b253', '53dc9cb0-44be-42a2-972f-947b568e7f59', '18a5e68d-869d-40a8-bd29-80e2c4fac59a', 'e38a925d-b86f-411f-9db6-b15aecd86b7d'}, 'core': {'4ea6adc4-da29-4af8-9bd6-4308e4403221', '24a76a2c-6358-4584-a675-2c7ca09c8e51'}, 'communication': {'1606f17b-29c1-42a1-bcda-2da0bd9d7f05', 'aa2e4a91-547b-4215-8b62-98a57f154589', '24a76a2c-6358-4584-a675-2c7ca09c8e51'}, 'company': {'24a76a2c-6358-4584-a675-2c7ca09c8e51', 'ac10b3c8-f0ca-49ab-9aba-685cb3f2d5ea', 'fc7edde5-312a-4044-8e98-33971692f428', '8333dba7-c5f1-4320-a5c0-534f7152fe67', 'c4f7e769-c302-4380-8ef9-40aded9c8269'}, 'spiritwe': {'24a76a2c-6358-4584-a675-2c7ca09c8e51'}, '2': {'24a76a2c-6358-4584-a675-2c7ca09c8e51'}, 'continuously': {'24a76a2c-6358-4584-a675-2c7ca09c8e51'}, 'technologies': {'77231d1b-1576-4948-a92e-568a4d7156e8', 'aa8a69a6-5410-4dde-9c4f-285f7e212a16', '89c40f54-21f4-4f0c-916c-c7b1170b1241', 'da49dcab-79cf-4c98-a528-2fbdc5e89652', '53dc9cb0-44be-42a2-972f-947b568e7f59', 'bbcbe314-1700-4893-8747-0ef8c8c30445', '845e2971-68ec-4ec7-9c18-f012795e951b'}, 'businesses': {'5195609d-0f1b-46a1-95a4-3d048f11ee56', '89c40f54-21f4-4f0c-916c-c7b1170b1241', 'da49dcab-79cf-4c98-a528-2fbdc5e89652', '53dc9cb0-44be-42a2-972f-947b568e7f59', '845e2971-68ec-4ec7-9c18-f012795e951b'}, 'stack': {'6466cc08-28f2-4236-8632-b1ebffb2a7ce', 'b126b2a8-3043-4c08-b3a1-cbd9c54c418c', 'fbcfc5b0-cf8f-47a1-8785-288b23456323', '89c40f54-21f4-4f0c-916c-c7b1170b1241', 'f7752a52-3523-4722-a2ba-ccf77057af3a', '845e2971-68ec-4ec7-9c18-f012795e951b'}, 'projects': {'482cf45b-8494-4103-9f4d-44c4793ea131', 'bc728241-2418-4c2e-9cd6-2b89e5aa332c', '845e2971-68ec-4ec7-9c18-f012795e951b'}, 'implementing': {'77231d1b-1576-4948-a92e-568a4d7156e8', '845e2971-68ec-4ec7-9c18-f012795e951b'}, 'help': {'b692e136-afb2-4596-ac99-b87351a03e73', '5195609d-0f1b-46a1-95a4-3d048f11ee56', 'aa8a69a6-5410-4dde-9c4f-285f7e212a16', '2dfb8f90-e4b6-4678-82fb-2809c7a1c60a', '8c6cfc33-9dca-4907-8b9c-47a71d568d67', 'da49dcab-79cf-4c98-a528-2fbdc5e89652', 'aa2e4a91-547b-4215-8b62-98a57f154589', '2bd12793-6f3a-4a58-8bfb-c67ed4d9a5bc', '845e2971-68ec-4ec7-9c18-f012795e951b'}, 'studies': {'6466cc08-28f2-4236-8632-b1ebffb2a7ce', 'b126b2a8-3043-4c08-b3a1-cbd9c54c418c', '845e2971-68ec-4ec7-9c18-f012795e951b', '6eca06b6-3cb1-405f-9103-422c05556086', 'fbcfc5b0-cf8f-47a1-8785-288b23456323', 'aa8a69a6-5410-4dde-9c4f-285f7e212a16', '1cdeb58e-988a-4540-a0df-4125246fb651', 'bc728241-2418-4c2e-9cd6-2b89e5aa332c', '697a2062-b788-4d90-8a5d-dc5c71300071', 'a39162fb-669f-4f55-ae94-2acfe0b54b6a', 'cba1a3cc-742d-4c9d-b209-16658e58d906', 'f30003bd-97ea-4d22-8433-88e8364bb474', 'f0a9549c-ce65-4022-99f8-265cf2232191', '025235a3-7f40-4676-8352-3b9945d4a48e', 'f7752a52-3523-4722-a2ba-ccf77057af3a', '2f0aaa1e-06ff-49f2-bc3b-307bda9212cf', '18a5e68d-869d-40a8-bd29-80e2c4fac59a', 'e38a925d-b86f-411f-9db6-b15aecd86b7d'}, 'lakes': {'845e2971-68ec-4ec7-9c18-f012795e951b'}, 'portfolio': {'6319dfd3-2e25-4924-bea5-ec9bad19b1da', '6eca06b6-3cb1-405f-9103-422c05556086', '1cdeb58e-988a-4540-a0df-4125246fb651', 'f0a9549c-ce65-4022-99f8-265cf2232191', 'bbcbe314-1700-4893-8747-0ef8c8c30445', '845e2971-68ec-4ec7-9c18-f012795e951b'}, 'modern': {'bbcbe314-1700-4893-8747-0ef8c8c30445', '845e2971-68ec-4ec7-9c18-f012795e951b'}, 'data': {'6319dfd3-2e25-4924-bea5-ec9bad19b1da', '845e2971-68ec-4ec7-9c18-f012795e951b', '4ca868c1-4a62-4447-b804-ccbca69c9681', '6eca06b6-3cb1-405f-9103-422c05556086', 'aa8a69a6-5410-4dde-9c4f-285f7e212a16', '02d804c5-6be6-4a03-b5fe-d0029c303e00', '1cdeb58e-988a-4540-a0df-4125246fb651', '2dfb8f90-e4b6-4678-82fb-2809c7a1c60a', 'a39162fb-669f-4f55-ae94-2acfe0b54b6a', '697a2062-b788-4d90-8a5d-dc5c71300071', 'bc728241-2418-4c2e-9cd6-2b89e5aa332c', 'da49dcab-79cf-4c98-a528-2fbdc5e89652', 'f0a9549c-ce65-4022-99f8-265cf2232191', '025235a3-7f40-4676-8352-3b9945d4a48e', 'f7752a52-3523-4722-a2ba-ccf77057af3a', '2f0aaa1e-06ff-49f2-bc3b-307bda9212cf', 'cd90f5a7-7eb7-4c67-a594-2e6a7f2391b8', '83ad0c71-6ad3-4752-b7d9-60fc54f68827'}, 'experts': {'b692e136-afb2-4596-ac99-b87351a03e73', '5195609d-0f1b-46a1-95a4-3d048f11ee56', 'aa8a69a6-5410-4dde-9c4f-285f7e212a16', '2dfb8f90-e4b6-4678-82fb-2809c7a1c60a', '89c40f54-21f4-4f0c-916c-c7b1170b1241', 'da49dcab-79cf-4c98-a528-2fbdc5e89652', '53dc9cb0-44be-42a2-972f-947b568e7f59', 'bbcbe314-1700-4893-8747-0ef8c8c30445', '845e2971-68ec-4ec7-9c18-f012795e951b'}, 'case': {'4ea6adc4-da29-4af8-9bd6-4308e4403221', 'bc728241-2418-4c2e-9cd6-2b89e5aa332c', 'a39162fb-669f-4f55-ae94-2acfe0b54b6a', 'cba1a3cc-742d-4c9d-b209-16658e58d906', 'f30003bd-97ea-4d22-8433-88e8364bb474', '2f0aaa1e-06ff-49f2-bc3b-307bda9212cf', '4707594d-9dea-43eb-9d2c-fd32f7e1b253', 'e38a925d-b86f-411f-9db6-b15aecd86b7d', '83ad0c71-6ad3-4752-b7d9-60fc54f68827', '6466cc08-28f2-4236-8632-b1ebffb2a7ce', '6eca06b6-3cb1-405f-9103-422c05556086', 'c182e1d2-db6c-4183-be74-890226c7f91b', '697a2062-b788-4d90-8a5d-dc5c71300071', '18a5e68d-869d-40a8-bd29-80e2c4fac59a', 'b126b2a8-3043-4c08-b3a1-cbd9c54c418c', 'fbcfc5b0-cf8f-47a1-8785-288b23456323', 'f0a9549c-ce65-4022-99f8-265cf2232191', '025235a3-7f40-4676-8352-3b9945d4a48e', 'f7752a52-3523-4722-a2ba-ccf77057af3a', 'cd90f5a7-7eb7-4c67-a594-2e6a7f2391b8', '845e2971-68ec-4ec7-9c18-f012795e951b', '6319dfd3-2e25-4924-bea5-ec9bad19b1da', 'f75278bb-5011-461b-a50f-29d51c5f0a98', '1cdeb58e-988a-4540-a0df-4125246fb651'}, 'business': {'6319dfd3-2e25-4924-bea5-ec9bad19b1da', 'f75278bb-5011-461b-a50f-29d51c5f0a98', '845e2971-68ec-4ec7-9c18-f012795e951b', 'b692e136-afb2-4596-ac99-b87351a03e73', '77231d1b-1576-4948-a92e-568a4d7156e8', 'aa8a69a6-5410-4dde-9c4f-285f7e212a16', '2dfb8f90-e4b6-4678-82fb-2809c7a1c60a', '697a2062-b788-4d90-8a5d-dc5c71300071', 'f30003bd-97ea-4d22-8433-88e8364bb474', 'f0a9549c-ce65-4022-99f8-265cf2232191', '025235a3-7f40-4676-8352-3b9945d4a48e', 'bbcbe314-1700-4893-8747-0ef8c8c30445', '83ad0c71-6ad3-4752-b7d9-60fc54f68827'}, 'engineering': {'845e2971-68ec-4ec7-9c18-f012795e951b'}, 'applications': {'b126b2a8-3043-4c08-b3a1-cbd9c54c418c', '845e2971-68ec-4ec7-9c18-f012795e951b', 'b692e136-afb2-4596-ac99-b87351a03e73', '5195609d-0f1b-46a1-95a4-3d048f11ee56', '77231d1b-1576-4948-a92e-568a4d7156e8', 'fbcfc5b0-cf8f-47a1-8785-288b23456323', 'c182e1d2-db6c-4183-be74-890226c7f91b', '02d804c5-6be6-4a03-b5fe-d0029c303e00', '4ea6adc4-da29-4af8-9bd6-4308e4403221', '18a5e68d-869d-40a8-bd29-80e2c4fac59a', '2dfb8f90-e4b6-4678-82fb-2809c7a1c60a', '89c40f54-21f4-4f0c-916c-c7b1170b1241', 'da49dcab-79cf-4c98-a528-2fbdc5e89652', 'f0a9549c-ce65-4022-99f8-265cf2232191', 'f7752a52-3523-4722-a2ba-ccf77057af3a', 'cd90f5a7-7eb7-4c67-a594-2e6a7f2391b8', 'bbcbe314-1700-4893-8747-0ef8c8c30445', 'e38a925d-b86f-411f-9db6-b15aecd86b7d'}, 'connect': {'539be537-04bd-4d96-b8ca-39af1f69832a', '845e2971-68ec-4ec7-9c18-f012795e951b'}, 'solutions': {'aae1f149-8f71-47ba-b4d9-ff0571098f40', 'b6553d5f-86fd-4202-943a-cee8ee98828b', '9e889177-2f76-44a5-9c78-a3e4b06aa34d', '4ca868c1-4a62-4447-b804-ccbca69c9681', 'b692e136-afb2-4596-ac99-b87351a03e73', '5195609d-0f1b-46a1-95a4-3d048f11ee56', 'aa8a69a6-5410-4dde-9c4f-285f7e212a16', '539be537-04bd-4d96-b8ca-39af1f69832a', '21e7bea7-e813-4628-b455-d2285c0d4651', '2dfb8f90-e4b6-4678-82fb-2809c7a1c60a', 'da49dcab-79cf-4c98-a528-2fbdc5e89652', '53dc9cb0-44be-42a2-972f-947b568e7f59', '7ed47b97-dc0a-4e70-95f1-e85fae94d408', 'fc7edde5-312a-4044-8e98-33971692f428', '8333dba7-c5f1-4320-a5c0-534f7152fe67', 'bbcbe314-1700-4893-8747-0ef8c8c30445', 'c4f7e769-c302-4380-8ef9-40aded9c8269', '845e2971-68ec-4ec7-9c18-f012795e951b'}, 'last': {'02d804c5-6be6-4a03-b5fe-d0029c303e00'}, 'overview': {'02d804c5-6be6-4a03-b5fe-d0029c303e00'}, 'client': {'02d804c5-6be6-4a03-b5fe-d0029c303e00', 'e38a925d-b86f-411f-9db6-b15aecd86b7d'}, 'support': {'b126b2a8-3043-4c08-b3a1-cbd9c54c418c', '6319dfd3-2e25-4924-bea5-ec9bad19b1da', 'f75278bb-5011-461b-a50f-29d51c5f0a98', 'b692e136-afb2-4596-ac99-b87351a03e73', '5195609d-0f1b-46a1-95a4-3d048f11ee56', '77231d1b-1576-4948-a92e-568a4d7156e8', 'fbcfc5b0-cf8f-47a1-8785-288b23456323', 'c182e1d2-db6c-4183-be74-890226c7f91b', '02d804c5-6be6-4a03-b5fe-d0029c303e00', '21e7bea7-e813-4628-b455-d2285c0d4651', '697a2062-b788-4d90-8a5d-dc5c71300071', 'cba1a3cc-742d-4c9d-b209-16658e58d906', 'f0a9549c-ce65-4022-99f8-265cf2232191', '53dc9cb0-44be-42a2-972f-947b568e7f59', '18a5e68d-869d-40a8-bd29-80e2c4fac59a'}, 'technologyjune': {'02d804c5-6be6-4a03-b5fe-d0029c303e00'}, 'management': {'b126b2a8-3043-4c08-b3a1-cbd9c54c418c', '6319dfd3-2e25-4924-bea5-ec9bad19b1da', '4ca868c1-4a62-4447-b804-ccbca69c9681', 'fbcfc5b0-cf8f-47a1-8785-288b23456323', '02d804c5-6be6-4a03-b5fe-d0029c303e00', '697a2062-b788-4d90-8a5d-dc5c71300071', 'f0a9549c-ce65-4022-99f8-265cf2232191', '7ed47b97-dc0a-4e70-95f1-e85fae94d408', '53dc9cb0-44be-42a2-972f-947b568e7f59', '18a5e68d-869d-40a8-bd29-80e2c4fac59a'}, 'development': {'aae1f149-8f71-47ba-b4d9-ff0571098f40', '6319dfd3-2e25-4924-bea5-ec9bad19b1da', 'b692e136-afb2-4596-ac99-b87351a03e73', '5195609d-0f1b-46a1-95a4-3d048f11ee56', '02d804c5-6be6-4a03-b5fe-d0029c303e00', 'fc7edde5-312a-4044-8e98-33971692f428', '8333dba7-c5f1-4320-a5c0-534f7152fe67'}, 'highly': {'02d804c5-6be6-4a03-b5fe-d0029c303e00', 'e38a925d-b86f-411f-9db6-b15aecd86b7d', 'cd90f5a7-7eb7-4c67-a594-2e6a7f2391b8'}, 'driven': {'02d804c5-6be6-4a03-b5fe-d0029c303e00', '025235a3-7f40-4676-8352-3b9945d4a48e'}, 'infrastructure': {'6466cc08-28f2-4236-8632-b1ebffb2a7ce', 'b126b2a8-3043-4c08-b3a1-cbd9c54c418c', '77231d1b-1576-4948-a92e-568a4d7156e8', '02d804c5-6be6-4a03-b5fe-d0029c303e00', '4707594d-9dea-43eb-9d2c-fd32f7e1b253', '53dc9cb0-44be-42a2-972f-947b568e7f59', 'cd90f5a7-7eb7-4c67-a594-2e6a7f2391b8', 'e38a925d-b86f-411f-9db6-b15aecd86b7d'}, 'end': {'6319dfd3-2e25-4924-bea5-ec9bad19b1da', '77231d1b-1576-4948-a92e-568a4d7156e8', '5195609d-0f1b-46a1-95a4-3d048f11ee56', '6eca06b6-3cb1-405f-9103-422c05556086', 'fbcfc5b0-cf8f-47a1-8785-288b23456323', 'c182e1d2-db6c-4183-be74-890226c7f91b', 'aa8a69a6-5410-4dde-9c4f-285f7e212a16', '02d804c5-6be6-4a03-b5fe-d0029c303e00', '2dfb8f90-e4b6-4678-82fb-2809c7a1c60a', 'cba1a3cc-742d-4c9d-b209-16658e58d906', 'f0a9549c-ce65-4022-99f8-265cf2232191', '2f0aaa1e-06ff-49f2-bc3b-307bda9212cf', 'bbcbe314-1700-4893-8747-0ef8c8c30445'}, 'legacy': {'02d804c5-6be6-4a03-b5fe-d0029c303e00', 'bbcbe314-1700-4893-8747-0ef8c8c30445'}, '12022featuredconverting': {'02d804c5-6be6-4a03-b5fe-d0029c303e00'}, 'technologymarch': {'02d804c5-6be6-4a03-b5fe-d0029c303e00'}, '2018': {'02d804c5-6be6-4a03-b5fe-d0029c303e00'}, 'two': {'02d804c5-6be6-4a03-b5fe-d0029c303e00'}, 'database': {'f75278bb-5011-461b-a50f-29d51c5f0a98', '02d804c5-6be6-4a03-b5fe-d0029c303e00', '697a2062-b788-4d90-8a5d-dc5c71300071', '53dc9cb0-44be-42a2-972f-947b568e7f59', 'cd90f5a7-7eb7-4c67-a594-2e6a7f2391b8', 'e38a925d-b86f-411f-9db6-b15aecd86b7d'}, 'metadata': {'02d804c5-6be6-4a03-b5fe-d0029c303e00', '025235a3-7f40-4676-8352-3b9945d4a48e'}, 'type': {'7ed47b97-dc0a-4e70-95f1-e85fae94d408'}, 'best': {'89c40f54-21f4-4f0c-916c-c7b1170b1241', '7ed47b97-dc0a-4e70-95f1-e85fae94d408'}, 'well': {'7ed47b97-dc0a-4e70-95f1-e85fae94d408'}, 'job': {'025235a3-7f40-4676-8352-3b9945d4a48e', '7ed47b97-dc0a-4e70-95f1-e85fae94d408'}, 'weeks': {'7ed47b97-dc0a-4e70-95f1-e85fae94d408'}, 'work': {'b6553d5f-86fd-4202-943a-cee8ee98828b', '482cf45b-8494-4103-9f4d-44c4793ea131', '21e7bea7-e813-4628-b455-d2285c0d4651', 'ac10b3c8-f0ca-49ab-9aba-685cb3f2d5ea', '7ed47b97-dc0a-4e70-95f1-e85fae94d408', '18a5e68d-869d-40a8-bd29-80e2c4fac59a'}, 'positive': {'8c6cfc33-9dca-4907-8b9c-47a71d568d67', 'b6553d5f-86fd-4202-943a-cee8ee98828b', '7ed47b97-dc0a-4e70-95f1-e85fae94d408'}, 'employees': {'aa2e4a91-547b-4215-8b62-98a57f154589', '7ed47b97-dc0a-4e70-95f1-e85fae94d408', '4ca868c1-4a62-4447-b804-ccbca69c9681'}, 'satisfaction': {'7ed47b97-dc0a-4e70-95f1-e85fae94d408', '21e7bea7-e813-4628-b455-d2285c0d4651'}, 'people': {'7ed47b97-dc0a-4e70-95f1-e85fae94d408', 'c8b8babf-e1dc-43dc-8f55-882951d1f462', 'c97ed0a8-3d55-4f69-9075-594abc636015'}, 'helpful': {'7ed47b97-dc0a-4e70-95f1-e85fae94d408'}, 'supportive': {'b6553d5f-86fd-4202-943a-cee8ee98828b', '7ed47b97-dc0a-4e70-95f1-e85fae94d408'}, 'working': {'ac10b3c8-f0ca-49ab-9aba-685cb3f2d5ea', '7ed47b97-dc0a-4e70-95f1-e85fae94d408', '21e7bea7-e813-4628-b455-d2285c0d4651'}, 'culturewith': {'7ed47b97-dc0a-4e70-95f1-e85fae94d408'}, 'ago5': {'7ed47b97-dc0a-4e70-95f1-e85fae94d408'}, '0it': {'7ed47b97-dc0a-4e70-95f1-e85fae94d408'}, '0gemini': {'7ed47b97-dc0a-4e70-95f1-e85fae94d408'}, 'environment': {'cba1a3cc-742d-4c9d-b209-16658e58d906', 'b6553d5f-86fd-4202-943a-cee8ee98828b', '025235a3-7f40-4676-8352-3b9945d4a48e', '7ed47b97-dc0a-4e70-95f1-e85fae94d408'}, 'photos': {'9e889177-2f76-44a5-9c78-a3e4b06aa34d'}, 'instagram': {'9e889177-2f76-44a5-9c78-a3e4b06aa34d'}, 'videos': {'9e889177-2f76-44a5-9c78-a3e4b06aa34d'}, 'security': {'4ca868c1-4a62-4447-b804-ccbca69c9681', 'b692e136-afb2-4596-ac99-b87351a03e73', '1cdeb58e-988a-4540-a0df-4125246fb651', '89c40f54-21f4-4f0c-916c-c7b1170b1241', 'da49dcab-79cf-4c98-a528-2fbdc5e89652', 'e38a925d-b86f-411f-9db6-b15aecd86b7d', '6ff91adc-448a-4102-bb83-e206a4b53574'}, 'cloud': {'b126b2a8-3043-4c08-b3a1-cbd9c54c418c', 'f75278bb-5011-461b-a50f-29d51c5f0a98', '77231d1b-1576-4948-a92e-568a4d7156e8', 'fbcfc5b0-cf8f-47a1-8785-288b23456323', 'c182e1d2-db6c-4183-be74-890226c7f91b', 'da49dcab-79cf-4c98-a528-2fbdc5e89652', 'f0a9549c-ce65-4022-99f8-265cf2232191', 'f7752a52-3523-4722-a2ba-ccf77057af3a', 'cd90f5a7-7eb7-4c67-a594-2e6a7f2391b8', '53dc9cb0-44be-42a2-972f-947b568e7f59', 'e38a925d-b86f-411f-9db6-b15aecd86b7d', 'bbcbe314-1700-4893-8747-0ef8c8c30445', '83ad0c71-6ad3-4752-b7d9-60fc54f68827'}, 'rds': {'e38a925d-b86f-411f-9db6-b15aecd86b7d'}, 'monitoring': {'fbcfc5b0-cf8f-47a1-8785-288b23456323', '18a5e68d-869d-40a8-bd29-80e2c4fac59a', 'e38a925d-b86f-411f-9db6-b15aecd86b7d'}, 'logging': {'e38a925d-b86f-411f-9db6-b15aecd86b7d'}, 'eks': {'e38a925d-b86f-411f-9db6-b15aecd86b7d'}, 'cluster': {'e38a925d-b86f-411f-9db6-b15aecd86b7d'}, 'cd': {'4707594d-9dea-43eb-9d2c-fd32f7e1b253', 'e38a925d-b86f-411f-9db6-b15aecd86b7d'}, 'setup': {'697a2062-b788-4d90-8a5d-dc5c71300071', 'e38a925d-b86f-411f-9db6-b15aecd86b7d'}, 'dev': {'e38a925d-b86f-411f-9db6-b15aecd86b7d'}, 'available': {'e38a925d-b86f-411f-9db6-b15aecd86b7d'}, 'removedwe': {'e91e3912-1f6c-4490-8b1c-753c996715c6'}, 'go': {'e91e3912-1f6c-4490-8b1c-753c996715c6'}, 'home': {'e91e3912-1f6c-4490-8b1c-753c996715c6', 'ac10b3c8-f0ca-49ab-9aba-685cb3f2d5ea'}, 'suggest': {'e91e3912-1f6c-4490-8b1c-753c996715c6'}, 'ussolutionstechnologiesgemucareerscontact': {'e91e3912-1f6c-4490-8b1c-753c996715c6'}, '404ooops': {'e91e3912-1f6c-4490-8b1c-753c996715c6'}, 'back': {'8c6cfc33-9dca-4907-8b9c-47a71d568d67', 'e91e3912-1f6c-4490-8b1c-753c996715c6'}, 'homeback': {'e91e3912-1f6c-4490-8b1c-753c996715c6'}, 'foundthis': {'e91e3912-1f6c-4490-8b1c-753c996715c6'}, 'exist': {'e91e3912-1f6c-4490-8b1c-753c996715c6'}, 'page': {'e91e3912-1f6c-4490-8b1c-753c996715c6'}, 'community': {'8c6cfc33-9dca-4907-8b9c-47a71d568d67'}, 'like': {'fbcfc5b0-cf8f-47a1-8785-288b23456323', '539be537-04bd-4d96-b8ca-39af1f69832a', 'c8b8babf-e1dc-43dc-8f55-882951d1f462', 'a39162fb-669f-4f55-ae94-2acfe0b54b6a', '8c6cfc33-9dca-4907-8b9c-47a71d568d67', 'f30003bd-97ea-4d22-8433-88e8364bb474', '63a02282-55dc-4e06-864c-4202ba6c780c'}, 'contributing': {'8c6cfc33-9dca-4907-8b9c-47a71d568d67'}, 'making': {'8c6cfc33-9dca-4907-8b9c-47a71d568d67'}, 'needy': {'8c6cfc33-9dca-4907-8b9c-47a71d568d67'}, 'efforts': {'8c6cfc33-9dca-4907-8b9c-47a71d568d67'}, 'actually': {'8c6cfc33-9dca-4907-8b9c-47a71d568d67'}, 'csr': {'8c6cfc33-9dca-4907-8b9c-47a71d568d67'}, 'society': {'8c6cfc33-9dca-4907-8b9c-47a71d568d67'}, 'bringing': {'8c6cfc33-9dca-4907-8b9c-47a71d568d67'}, 'change': {'8c6cfc33-9dca-4907-8b9c-47a71d568d67'}, 'feel': {'8c6cfc33-9dca-4907-8b9c-47a71d568d67', 'b6553d5f-86fd-4202-943a-cee8ee98828b'}, 'giving': {'8c6cfc33-9dca-4907-8b9c-47a71d568d67'}, 'social': {'8c6cfc33-9dca-4907-8b9c-47a71d568d67'}, 'responsibility': {'8c6cfc33-9dca-4907-8b9c-47a71d568d67'}, 'optimal': {'89c40f54-21f4-4f0c-916c-c7b1170b1241'}, 'testingour': {'89c40f54-21f4-4f0c-916c-c7b1170b1241'}, 'industry': {'89c40f54-21f4-4f0c-916c-c7b1170b1241', '8333dba7-c5f1-4320-a5c0-534f7152fe67', 'fc7edde5-312a-4044-8e98-33971692f428', '482cf45b-8494-4103-9f4d-44c4793ea131'}, 'efficiency': {'89c40f54-21f4-4f0c-916c-c7b1170b1241', '2dfb8f90-e4b6-4678-82fb-2809c7a1c60a'}, 'test': {'89c40f54-21f4-4f0c-916c-c7b1170b1241', '025235a3-7f40-4676-8352-3b9945d4a48e'}, 'testing': {'89c40f54-21f4-4f0c-916c-c7b1170b1241', '2f0aaa1e-06ff-49f2-bc3b-307bda9212cf', 'c4f7e769-c302-4380-8ef9-40aded9c8269'}, 'ensure': {'89c40f54-21f4-4f0c-916c-c7b1170b1241', '6eca06b6-3cb1-405f-9103-422c05556086', 'b692e136-afb2-4596-ac99-b87351a03e73', '5195609d-0f1b-46a1-95a4-3d048f11ee56'}, 'software': {'89c40f54-21f4-4f0c-916c-c7b1170b1241', 'b6553d5f-86fd-4202-943a-cee8ee98828b', 'b692e136-afb2-4596-ac99-b87351a03e73', 'c5c2a9c2-2e35-4184-8ef3-f583daa06aac'}, 'digital': {'89c40f54-21f4-4f0c-916c-c7b1170b1241', 'bbcbe314-1700-4893-8747-0ef8c8c30445'}, 'regression': {'89c40f54-21f4-4f0c-916c-c7b1170b1241', 'cba1a3cc-742d-4c9d-b209-16658e58d906'}, 'makes': {'83ad0c71-6ad3-4752-b7d9-60fc54f68827'}, 'elt': {'83ad0c71-6ad3-4752-b7d9-60fc54f68827'}, 'transform': {'83ad0c71-6ad3-4752-b7d9-60fc54f68827'}, 'basic': {'83ad0c71-6ad3-4752-b7d9-60fc54f68827'}, 'code': {'4707594d-9dea-43eb-9d2c-fd32f7e1b253', 'bc728241-2418-4c2e-9cd6-2b89e5aa332c', '83ad0c71-6ad3-4752-b7d9-60fc54f68827'}, 'use': {'279e03c8-4213-4207-bc93-45d69c38da1c', '83ad0c71-6ad3-4752-b7d9-60fc54f68827'}, 'tool': {'83ad0c71-6ad3-4752-b7d9-60fc54f68827'}, 'sql': {'83ad0c71-6ad3-4752-b7d9-60fc54f68827'}, 'using': {'4707594d-9dea-43eb-9d2c-fd32f7e1b253', '83ad0c71-6ad3-4752-b7d9-60fc54f68827'}, 'models': {'83ad0c71-6ad3-4752-b7d9-60fc54f68827'}, 'dbt': {'83ad0c71-6ad3-4752-b7d9-60fc54f68827'}, 'transformation': {'bbcbe314-1700-4893-8747-0ef8c8c30445', 'f75278bb-5011-461b-a50f-29d51c5f0a98', '83ad0c71-6ad3-4752-b7d9-60fc54f68827'}, 'analysts': {'4ea6adc4-da29-4af8-9bd6-4308e4403221', '1cdeb58e-988a-4540-a0df-4125246fb651', '83ad0c71-6ad3-4752-b7d9-60fc54f68827'}, 'warehouse': {'83ad0c71-6ad3-4752-b7d9-60fc54f68827'}, 'ever': {'83ad0c71-6ad3-4752-b7d9-60fc54f68827'}, 'stressed': {'cd90f5a7-7eb7-4c67-a594-2e6a7f2391b8', 'f75278bb-5011-461b-a50f-29d51c5f0a98', 'a39162fb-669f-4f55-ae94-2acfe0b54b6a'}, 'stress': {'cd90f5a7-7eb7-4c67-a594-2e6a7f2391b8', 'f75278bb-5011-461b-a50f-29d51c5f0a98', 'a39162fb-669f-4f55-ae94-2acfe0b54b6a'}, 'clients': {'f75278bb-5011-461b-a50f-29d51c5f0a98', 'c182e1d2-db6c-4183-be74-890226c7f91b', '482cf45b-8494-4103-9f4d-44c4793ea131', '4ea6adc4-da29-4af8-9bd6-4308e4403221', 'cd90f5a7-7eb7-4c67-a594-2e6a7f2391b8'}, 'administration': {'f75278bb-5011-461b-a50f-29d51c5f0a98', '697a2062-b788-4d90-8a5d-dc5c71300071'}, 'month': {'f75278bb-5011-461b-a50f-29d51c5f0a98', '697a2062-b788-4d90-8a5d-dc5c71300071'}, 'level': {'aae1f149-8f71-47ba-b4d9-ff0571098f40', 'f75278bb-5011-461b-a50f-29d51c5f0a98', '482cf45b-8494-4103-9f4d-44c4793ea131', '4ea6adc4-da29-4af8-9bd6-4308e4403221', '1cdeb58e-988a-4540-a0df-4125246fb651', 'cd90f5a7-7eb7-4c67-a594-2e6a7f2391b8'}, 'managementreporting': {'f75278bb-5011-461b-a50f-29d51c5f0a98'}, 'db': {'cba1a3cc-742d-4c9d-b209-16658e58d906', '697a2062-b788-4d90-8a5d-dc5c71300071', 'f75278bb-5011-461b-a50f-29d51c5f0a98', '6466cc08-28f2-4236-8632-b1ebffb2a7ce'}, 'frameworkautomation': {'f75278bb-5011-461b-a50f-29d51c5f0a98'}, 'productivity24x7': {'f75278bb-5011-461b-a50f-29d51c5f0a98'}, 'show': {'a39162fb-669f-4f55-ae94-2acfe0b54b6a', 'f75278bb-5011-461b-a50f-29d51c5f0a98', 'c5c2a9c2-2e35-4184-8ef3-f583daa06aac'}, 'server': {'f75278bb-5011-461b-a50f-29d51c5f0a98'}, 'managed': {'b126b2a8-3043-4c08-b3a1-cbd9c54c418c', 'f75278bb-5011-461b-a50f-29d51c5f0a98', 'fbcfc5b0-cf8f-47a1-8785-288b23456323', 'c182e1d2-db6c-4183-be74-890226c7f91b', '2dfb8f90-e4b6-4678-82fb-2809c7a1c60a', 'f0a9549c-ce65-4022-99f8-265cf2232191'}, 'expertise': {'c182e1d2-db6c-4183-be74-890226c7f91b', 'cd90f5a7-7eb7-4c67-a594-2e6a7f2391b8', 'f75278bb-5011-461b-a50f-29d51c5f0a98', '4ea6adc4-da29-4af8-9bd6-4308e4403221'}, 'release': {'4707594d-9dea-43eb-9d2c-fd32f7e1b253', '77231d1b-1576-4948-a92e-568a4d7156e8'}, 'serverless': {'4707594d-9dea-43eb-9d2c-fd32f7e1b253', '77231d1b-1576-4948-a92e-568a4d7156e8'}, 'ci': {'4707594d-9dea-43eb-9d2c-fd32f7e1b253'}, 'build': {'4707594d-9dea-43eb-9d2c-fd32f7e1b253', 'da49dcab-79cf-4c98-a528-2fbdc5e89652', 'a39162fb-669f-4f55-ae94-2acfe0b54b6a'}, 'along': {'4707594d-9dea-43eb-9d2c-fd32f7e1b253', '77231d1b-1576-4948-a92e-568a4d7156e8'}, 'setting': {'4707594d-9dea-43eb-9d2c-fd32f7e1b253', '4ea6adc4-da29-4af8-9bd6-4308e4403221'}, 'pipelines': {'4707594d-9dea-43eb-9d2c-fd32f7e1b253', '4ea6adc4-da29-4af8-9bd6-4308e4403221', 'f7752a52-3523-4722-a2ba-ccf77057af3a'}, 'aws': {'4707594d-9dea-43eb-9d2c-fd32f7e1b253', '4ea6adc4-da29-4af8-9bd6-4308e4403221', '77231d1b-1576-4948-a92e-568a4d7156e8'}, 'lambda': {'4707594d-9dea-43eb-9d2c-fd32f7e1b253', '77231d1b-1576-4948-a92e-568a4d7156e8'}, 'processescicd': {'4707594d-9dea-43eb-9d2c-fd32f7e1b253', '77231d1b-1576-4948-a92e-568a4d7156e8'}, 'pipeline': {'4707594d-9dea-43eb-9d2c-fd32f7e1b253'}, 'logs': {'4707594d-9dea-43eb-9d2c-fd32f7e1b253'}, 'deploy': {'4707594d-9dea-43eb-9d2c-fd32f7e1b253'}, 'helpdesk': {'53dc9cb0-44be-42a2-972f-947b568e7f59', 'e2c01673-01e4-456d-a9b9-c0e6193a58c1'}, 'fun': {'e2c01673-01e4-456d-a9b9-c0e6193a58c1', 'c97ed0a8-3d55-4f69-9075-594abc636015'}, 'rides': {'e2c01673-01e4-456d-a9b9-c0e6193a58c1'}, 'lot': {'e2c01673-01e4-456d-a9b9-c0e6193a58c1', 'c5c2a9c2-2e35-4184-8ef3-f583daa06aac'}, 'ride': {'e2c01673-01e4-456d-a9b9-c0e6193a58c1'}, 'srivastavalead': {'e2c01673-01e4-456d-a9b9-c0e6193a58c1'}, 'part': {'b6553d5f-86fd-4202-943a-cee8ee98828b', 'e2c01673-01e4-456d-a9b9-c0e6193a58c1', 'c97ed0a8-3d55-4f69-9075-594abc636015'}, 'enjoy': {'e2c01673-01e4-456d-a9b9-c0e6193a58c1'}, 'went': {'e2c01673-01e4-456d-a9b9-c0e6193a58c1'}, 'engineer': {'e2c01673-01e4-456d-a9b9-c0e6193a58c1'}, 'organizes': {'e2c01673-01e4-456d-a9b9-c0e6193a58c1'}, 'breakfast': {'e2c01673-01e4-456d-a9b9-c0e6193a58c1'}, 'various': {'e2c01673-01e4-456d-a9b9-c0e6193a58c1'}, 'colleagues': {'ac10b3c8-f0ca-49ab-9aba-685cb3f2d5ea', 'e2c01673-01e4-456d-a9b9-c0e6193a58c1', 'c8b8babf-e1dc-43dc-8f55-882951d1f462'}, 'chill': {'e2c01673-01e4-456d-a9b9-c0e6193a58c1'}, 'wheels': {'e2c01673-01e4-456d-a9b9-c0e6193a58c1'}, 'monitor': {'c182e1d2-db6c-4183-be74-890226c7f91b'}, '19c': {'cba1a3cc-742d-4c9d-b209-16658e58d906', 'c182e1d2-db6c-4183-be74-890226c7f91b'}, 'oracle': {'cba1a3cc-742d-4c9d-b209-16658e58d906', 'c182e1d2-db6c-4183-be74-890226c7f91b', '2f0aaa1e-06ff-49f2-bc3b-307bda9212cf'}, 'upgrade': {'cba1a3cc-742d-4c9d-b209-16658e58d906', 'c182e1d2-db6c-4183-be74-890226c7f91b'}, 'managementsupport': {'c182e1d2-db6c-4183-be74-890226c7f91b'}, 'required': {'c182e1d2-db6c-4183-be74-890226c7f91b'}, 'maintenance': {'6319dfd3-2e25-4924-bea5-ec9bad19b1da', '77231d1b-1576-4948-a92e-568a4d7156e8', 'c182e1d2-db6c-4183-be74-890226c7f91b', '4ea6adc4-da29-4af8-9bd6-4308e4403221', 'cd90f5a7-7eb7-4c67-a594-2e6a7f2391b8'}, 'high': {'c182e1d2-db6c-4183-be74-890226c7f91b', '21e7bea7-e813-4628-b455-d2285c0d4651', '6eca06b6-3cb1-405f-9103-422c05556086'}, 'portal': {'c182e1d2-db6c-4183-be74-890226c7f91b', 'aa8a69a6-5410-4dde-9c4f-285f7e212a16', 'f30003bd-97ea-4d22-8433-88e8364bb474'}, 'ana': {'cba1a3cc-742d-4c9d-b209-16658e58d906', 'c182e1d2-db6c-4183-be74-890226c7f91b'}, 'pricing': {'c182e1d2-db6c-4183-be74-890226c7f91b'}, 'migration': {'c182e1d2-db6c-4183-be74-890226c7f91b'}, 'ropar': {'8333dba7-c5f1-4320-a5c0-534f7152fe67'}, 'students': {'8333dba7-c5f1-4320-a5c0-534f7152fe67', 'fc7edde5-312a-4044-8e98-33971692f428', 'c4f7e769-c302-4380-8ef9-40aded9c8269'}, 'mou': {'8333dba7-c5f1-4320-a5c0-534f7152fe67', 'fc7edde5-312a-4044-8e98-33971692f428'}, 'blogs': {'8333dba7-c5f1-4320-a5c0-534f7152fe67', 'fc7edde5-312a-4044-8e98-33971692f428', 'c4f7e769-c302-4380-8ef9-40aded9c8269', '482cf45b-8494-4103-9f4d-44c4793ea131'}, 'organizations': {'8333dba7-c5f1-4320-a5c0-534f7152fe67'}, 'provide': {'b692e136-afb2-4596-ac99-b87351a03e73', '5195609d-0f1b-46a1-95a4-3d048f11ee56', '53dc9cb0-44be-42a2-972f-947b568e7f59', 'fc7edde5-312a-4044-8e98-33971692f428', '8333dba7-c5f1-4320-a5c0-534f7152fe67', 'c4f7e769-c302-4380-8ef9-40aded9c8269'}, 'iit': {'8333dba7-c5f1-4320-a5c0-534f7152fe67'}, 'towards': {'8333dba7-c5f1-4320-a5c0-534f7152fe67'}, 'institute': {'8333dba7-c5f1-4320-a5c0-534f7152fe67'}, 'opportunities': {'8333dba7-c5f1-4320-a5c0-534f7152fe67', 'fc7edde5-312a-4044-8e98-33971692f428', '539be537-04bd-4d96-b8ca-39af1f69832a'}, 'partnership': {'8333dba7-c5f1-4320-a5c0-534f7152fe67', 'fc7edde5-312a-4044-8e98-33971692f428'}, 'signed': {'aae1f149-8f71-47ba-b4d9-ff0571098f40', '8333dba7-c5f1-4320-a5c0-534f7152fe67', 'c4f7e769-c302-4380-8ef9-40aded9c8269'}, 'collaborate': {'8333dba7-c5f1-4320-a5c0-534f7152fe67'}, 'great': {'1606f17b-29c1-42a1-bcda-2da0bd9d7f05', 'c97ed0a8-3d55-4f69-9075-594abc636015'}, 'participants': {'1606f17b-29c1-42a1-bcda-2da0bd9d7f05'}, 'brand': {'1606f17b-29c1-42a1-bcda-2da0bd9d7f05'}, 'mad': {'1606f17b-29c1-42a1-bcda-2da0bd9d7f05'}, 'event': {'1606f17b-29c1-42a1-bcda-2da0bd9d7f05'}, 'skills': {'1606f17b-29c1-42a1-bcda-2da0bd9d7f05', '6ff91adc-448a-4102-bb83-e206a4b53574'}, 'ad': {'1606f17b-29c1-42a1-bcda-2da0bd9d7f05'}, 'different': {'6319dfd3-2e25-4924-bea5-ec9bad19b1da', '1606f17b-29c1-42a1-bcda-2da0bd9d7f05', 'bc728241-2418-4c2e-9cd6-2b89e5aa332c', 'a39162fb-669f-4f55-ae94-2acfe0b54b6a', 'cd90f5a7-7eb7-4c67-a594-2e6a7f2391b8', '18a5e68d-869d-40a8-bd29-80e2c4fac59a'}, 'platform': {'1606f17b-29c1-42a1-bcda-2da0bd9d7f05', 'b126b2a8-3043-4c08-b3a1-cbd9c54c418c', 'fbcfc5b0-cf8f-47a1-8785-288b23456323', '5195609d-0f1b-46a1-95a4-3d048f11ee56'}, 'campaigns': {'1606f17b-29c1-42a1-bcda-2da0bd9d7f05'}, 'phase': {'1606f17b-29c1-42a1-bcda-2da0bd9d7f05'}, 'winners': {'1606f17b-29c1-42a1-bcda-2da0bd9d7f05', 'aae1f149-8f71-47ba-b4d9-ff0571098f40'}, 'proud': {'1606f17b-29c1-42a1-bcda-2da0bd9d7f05'}, 'reloaded': {'1606f17b-29c1-42a1-bcda-2da0bd9d7f05'}, 'impact': {'1606f17b-29c1-42a1-bcda-2da0bd9d7f05'}, 'participating': {'1606f17b-29c1-42a1-bcda-2da0bd9d7f05'}, 'identifying': {'1606f17b-29c1-42a1-bcda-2da0bd9d7f05'}, 'offer': {'53dc9cb0-44be-42a2-972f-947b568e7f59', 'da49dcab-79cf-4c98-a528-2fbdc5e89652', '5195609d-0f1b-46a1-95a4-3d048f11ee56'}, 'advanced': {'53dc9cb0-44be-42a2-972f-947b568e7f59'}, 'designimplementationand': {'53dc9cb0-44be-42a2-972f-947b568e7f59'}, 'scalable': {'53dc9cb0-44be-42a2-972f-947b568e7f59'}, 'network': {'53dc9cb0-44be-42a2-972f-947b568e7f59'}, 'hardware': {'53dc9cb0-44be-42a2-972f-947b568e7f59'}, 'cater': {'53dc9cb0-44be-42a2-972f-947b568e7f59', 'f30003bd-97ea-4d22-8433-88e8364bb474'}, 'wide': {'21e7bea7-e813-4628-b455-d2285c0d4651', '6ff91adc-448a-4102-bb83-e206a4b53574'}, 'professionally': {'21e7bea7-e813-4628-b455-d2285c0d4651'}, 'inc': {'21e7bea7-e813-4628-b455-d2285c0d4651'}, 'provided': {'279e03c8-4213-4207-bc93-45d69c38da1c', '21e7bea7-e813-4628-b455-d2285c0d4651'}, 'success': {'21e7bea7-e813-4628-b455-d2285c0d4651'}, 'transitioned': {'21e7bea7-e813-4628-b455-d2285c0d4651'}, 'levels': {'21e7bea7-e813-4628-b455-d2285c0d4651'}, 'employee': {'4ca868c1-4a62-4447-b804-ccbca69c9681', '21e7bea7-e813-4628-b455-d2285c0d4651'}, 'balance': {'21e7bea7-e813-4628-b455-d2285c0d4651'}, 'alumnus': {'21e7bea7-e813-4628-b455-d2285c0d4651'}, 'life': {'21e7bea7-e813-4628-b455-d2285c0d4651'}, 'one': {'b6553d5f-86fd-4202-943a-cee8ee98828b', '21e7bea7-e813-4628-b455-d2285c0d4651'}, 'firms': {'2dfb8f90-e4b6-4678-82fb-2809c7a1c60a'}, 'delivery': {'f7752a52-3523-4722-a2ba-ccf77057af3a', '2dfb8f90-e4b6-4678-82fb-2809c7a1c60a'}, 'trading': {'2dfb8f90-e4b6-4678-82fb-2809c7a1c60a', '6eca06b6-3cb1-405f-9103-422c05556086'}, 'trade': {'18a5e68d-869d-40a8-bd29-80e2c4fac59a', '2dfb8f90-e4b6-4678-82fb-2809c7a1c60a'}, 'continuous': {'482cf45b-8494-4103-9f4d-44c4793ea131', 'f7752a52-3523-4722-a2ba-ccf77057af3a', '2dfb8f90-e4b6-4678-82fb-2809c7a1c60a'}, 'risk': {'2dfb8f90-e4b6-4678-82fb-2809c7a1c60a', 'a39162fb-669f-4f55-ae94-2acfe0b54b6a'}, 'provides': {'2dfb8f90-e4b6-4678-82fb-2809c7a1c60a'}, 'subscribe': {'aae1f149-8f71-47ba-b4d9-ff0571098f40'}, 'understandingmouwith': {'aae1f149-8f71-47ba-b4d9-ff0571098f40'}, 'university': {'aae1f149-8f71-47ba-b4d9-ff0571098f40', 'fc7edde5-312a-4044-8e98-33971692f428', 'c4f7e769-c302-4380-8ef9-40aded9c8269'}, 'announce': {'aae1f149-8f71-47ba-b4d9-ff0571098f40'}, '3': {'aae1f149-8f71-47ba-b4d9-ff0571098f40', '482cf45b-8494-4103-9f4d-44c4793ea131'}, 'teamhas': {'aae1f149-8f71-47ba-b4d9-ff0571098f40'}, 'signing': {'aae1f149-8f71-47ba-b4d9-ff0571098f40', 'fc7edde5-312a-4044-8e98-33971692f428', 'c4f7e769-c302-4380-8ef9-40aded9c8269'}, 'memorandum': {'aae1f149-8f71-47ba-b4d9-ff0571098f40'}, '172023featuredmou': {'aae1f149-8f71-47ba-b4d9-ff0571098f40'}, 'northcap': {'aae1f149-8f71-47ba-b4d9-ff0571098f40', 'fc7edde5-312a-4044-8e98-33971692f428'}, 'infrastructurefebruary': {'aae1f149-8f71-47ba-b4d9-ff0571098f40'}, 'declaration': {'aae1f149-8f71-47ba-b4d9-ff0571098f40'}, '0': {'aa2e4a91-547b-4215-8b62-98a57f154589', 'aae1f149-8f71-47ba-b4d9-ff0571098f40', '6ff91adc-448a-4102-bb83-e206a4b53574'}, '1': {'aa2e4a91-547b-4215-8b62-98a57f154589', 'aae1f149-8f71-47ba-b4d9-ff0571098f40', '6ff91adc-448a-4102-bb83-e206a4b53574'}, 'pms': {'4ea6adc4-da29-4af8-9bd6-4308e4403221', '1cdeb58e-988a-4540-a0df-4125246fb651'}, 'view': {'4ea6adc4-da29-4af8-9bd6-4308e4403221', '63a02282-55dc-4e06-864c-4202ba6c780c'}, 'issuer': {'4ea6adc4-da29-4af8-9bd6-4308e4403221', '1cdeb58e-988a-4540-a0df-4125246fb651'}, 'useful': {'4ea6adc4-da29-4af8-9bd6-4308e4403221'}, 'research': {'4ea6adc4-da29-4af8-9bd6-4308e4403221', '1cdeb58e-988a-4540-a0df-4125246fb651'}, 'metrics': {'4ea6adc4-da29-4af8-9bd6-4308e4403221', '1cdeb58e-988a-4540-a0df-4125246fb651'}, 'assurancesupport': {'4ea6adc4-da29-4af8-9bd6-4308e4403221'}, 'architecturedevelopmentquality': {'4ea6adc4-da29-4af8-9bd6-4308e4403221'}, 'esg': {'4ea6adc4-da29-4af8-9bd6-4308e4403221', '1cdeb58e-988a-4540-a0df-4125246fb651'}, 'experiencein': {'63a02282-55dc-4e06-864c-4202ba6c780c'}, 'file': {'63a02282-55dc-4e06-864c-4202ba6c780c'}, 'listplease': {'63a02282-55dc-4e06-864c-4202ba6c780c'}, 'total': {'63a02282-55dc-4e06-864c-4202ba6c780c'}, 'enter': {'63a02282-55dc-4e06-864c-4202ba6c780c'}, 'number': {'63a02282-55dc-4e06-864c-4202ba6c780c'}, 'select': {'63a02282-55dc-4e06-864c-4202ba6c780c'}, 'email': {'63a02282-55dc-4e06-864c-4202ba6c780c'}, 'id': {'63a02282-55dc-4e06-864c-4202ba6c780c'}, 'submitfilter': {'63a02282-55dc-4e06-864c-4202ba6c780c'}, 'locationloading': {'63a02282-55dc-4e06-864c-4202ba6c780c'}, 'mobile': {'5195609d-0f1b-46a1-95a4-3d048f11ee56', '63a02282-55dc-4e06-864c-4202ba6c780c'}, 'click': {'63a02282-55dc-4e06-864c-4202ba6c780c'}, 'years': {'c5c2a9c2-2e35-4184-8ef3-f583daa06aac', 'ac10b3c8-f0ca-49ab-9aba-685cb3f2d5ea', '63a02282-55dc-4e06-864c-4202ba6c780c'}, 'name': {'63a02282-55dc-4e06-864c-4202ba6c780c'}, 'uploadpdf': {'63a02282-55dc-4e06-864c-4202ba6c780c'}, 'coverlettercoverletter': {'63a02282-55dc-4e06-864c-4202ba6c780c'}, 'full': {'63a02282-55dc-4e06-864c-4202ba6c780c'}, 'get': {'b6553d5f-86fd-4202-943a-cee8ee98828b', 'aa8a69a6-5410-4dde-9c4f-285f7e212a16'}, 'analytics': {'aa8a69a6-5410-4dde-9c4f-285f7e212a16'}, 'cost': {'da49dcab-79cf-4c98-a528-2fbdc5e89652', 'aa8a69a6-5410-4dde-9c4f-285f7e212a16', 'bbcbe314-1700-4893-8747-0ef8c8c30445'}, 'slowness': {'aa8a69a6-5410-4dde-9c4f-285f7e212a16'}, 'predictive': {'aa8a69a6-5410-4dde-9c4f-285f7e212a16'}, 'key': {'aa8a69a6-5410-4dde-9c4f-285f7e212a16'}, 'optimization': {'fbcfc5b0-cf8f-47a1-8785-288b23456323', 'aa8a69a6-5410-4dde-9c4f-285f7e212a16', '6eca06b6-3cb1-405f-9103-422c05556086'}, 'insights': {'aa8a69a6-5410-4dde-9c4f-285f7e212a16', '539be537-04bd-4d96-b8ca-39af1f69832a'}, 'science': {'aa8a69a6-5410-4dde-9c4f-285f7e212a16'}, 'manage': {'aa8a69a6-5410-4dde-9c4f-285f7e212a16'}, 'protect': {'4ca868c1-4a62-4447-b804-ccbca69c9681'}, 'information': {'279e03c8-4213-4207-bc93-45d69c38da1c', '4ca868c1-4a62-4447-b804-ccbca69c9681'}, 'non': {'4ca868c1-4a62-4447-b804-ccbca69c9681'}, 'applicable': {'279e03c8-4213-4207-bc93-45d69c38da1c', '4ca868c1-4a62-4447-b804-ccbca69c9681'}, 'include': {'4ca868c1-4a62-4447-b804-ccbca69c9681'}, 'time': {'f30003bd-97ea-4d22-8433-88e8364bb474', 'ac10b3c8-f0ca-49ab-9aba-685cb3f2d5ea', '2f0aaa1e-06ff-49f2-bc3b-307bda9212cf', '4ca868c1-4a62-4447-b804-ccbca69c9681'}, 'personal': {'4ca868c1-4a62-4447-b804-ccbca69c9681'}, 'private': {'4ca868c1-4a62-4447-b804-ccbca69c9681'}, 'conduct': {'4ca868c1-4a62-4447-b804-ccbca69c9681'}, 'public': {'4ca868c1-4a62-4447-b804-ccbca69c9681'}, 'privacy': {'279e03c8-4213-4207-bc93-45d69c38da1c', '4ca868c1-4a62-4447-b804-ccbca69c9681'}, 'leave': {'ac10b3c8-f0ca-49ab-9aba-685cb3f2d5ea'}, 'policy': {'ac10b3c8-f0ca-49ab-9aba-685cb3f2d5ea'}, 'certification': {'ac10b3c8-f0ca-49ab-9aba-685cb3f2d5ea'}, 'food': {'ac10b3c8-f0ca-49ab-9aba-685cb3f2d5ea'}, 'per': {'ac10b3c8-f0ca-49ab-9aba-685cb3f2d5ea', 'bc728241-2418-4c2e-9cd6-2b89e5aa332c', '697a2062-b788-4d90-8a5d-dc5c71300071'}, 'casual': {'ac10b3c8-f0ca-49ab-9aba-685cb3f2d5ea'}, 'consultation': {'ac10b3c8-f0ca-49ab-9aba-685cb3f2d5ea'}, 'wellness': {'ac10b3c8-f0ca-49ab-9aba-685cb3f2d5ea'}, 'workplace': {'ac10b3c8-f0ca-49ab-9aba-685cb3f2d5ea'}, 'programs': {'ac10b3c8-f0ca-49ab-9aba-685cb3f2d5ea'}, 'service': {'ac10b3c8-f0ca-49ab-9aba-685cb3f2d5ea'}, 'colleague': {'ac10b3c8-f0ca-49ab-9aba-685cb3f2d5ea'}, 'salary': {'ac10b3c8-f0ca-49ab-9aba-685cb3f2d5ea'}, 'devops': {'f0a9549c-ce65-4022-99f8-265cf2232191', 'b692e136-afb2-4596-ac99-b87351a03e73'}, 'slas': {'f0a9549c-ce65-4022-99f8-265cf2232191'}, 'automated': {'f0a9549c-ce65-4022-99f8-265cf2232191'}, 'validation': {'f0a9549c-ce65-4022-99f8-265cf2232191', '6eca06b6-3cb1-405f-9103-422c05556086'}, 'components': {'f0a9549c-ce65-4022-99f8-265cf2232191'}, 'qa': {'f0a9549c-ce65-4022-99f8-265cf2232191'}, 'critical': {'f0a9549c-ce65-4022-99f8-265cf2232191', '18a5e68d-869d-40a8-bd29-80e2c4fac59a'}, 'automation': {'b126b2a8-3043-4c08-b3a1-cbd9c54c418c', 'f0a9549c-ce65-4022-99f8-265cf2232191', 'c4f7e769-c302-4380-8ef9-40aded9c8269'}, 'think': {'c5c2a9c2-2e35-4184-8ef3-f583daa06aac'}, 'participate': {'539be537-04bd-4d96-b8ca-39af1f69832a', 'c5c2a9c2-2e35-4184-8ef3-f583daa06aac'}, 'session': {'c5c2a9c2-2e35-4184-8ef3-f583daa06aac'}, 'dance': {'c5c2a9c2-2e35-4184-8ef3-f583daa06aac'}, 'practice': {'c5c2a9c2-2e35-4184-8ef3-f583daa06aac'}, 'got': {'c5c2a9c2-2e35-4184-8ef3-f583daa06aac'}, 'better': {'c97ed0a8-3d55-4f69-9075-594abc636015', 'c5c2a9c2-2e35-4184-8ef3-f583daa06aac'}, 'released': {'c5c2a9c2-2e35-4184-8ef3-f583daa06aac'}, 'hadnever': {'c5c2a9c2-2e35-4184-8ef3-f583daa06aac'}, 'cultural': {'c5c2a9c2-2e35-4184-8ef3-f583daa06aac'}, 'exercise': {'c5c2a9c2-2e35-4184-8ef3-f583daa06aac'}, 'since': {'c5c2a9c2-2e35-4184-8ef3-f583daa06aac'}, 'shy': {'c5c2a9c2-2e35-4184-8ef3-f583daa06aac'}, 'moves': {'c5c2a9c2-2e35-4184-8ef3-f583daa06aac'}, 'ambassador': {'c4f7e769-c302-4380-8ef9-40aded9c8269'}, 'program': {'aa2e4a91-547b-4215-8b62-98a57f154589', 'c4f7e769-c302-4380-8ef9-40aded9c8269', '6ff91adc-448a-4102-bb83-e206a4b53574'}, 'trending': {'482cf45b-8494-4103-9f4d-44c4793ea131', 'c4f7e769-c302-4380-8ef9-40aded9c8269'}, 'chitkara': {'c4f7e769-c302-4380-8ef9-40aded9c8269'}, 'opportunity': {'539be537-04bd-4d96-b8ca-39af1f69832a', 'c4f7e769-c302-4380-8ef9-40aded9c8269'}, 'programme': {'c4f7e769-c302-4380-8ef9-40aded9c8269'}, 'explore': {'c4f7e769-c302-4380-8ef9-40aded9c8269', 'c8b8babf-e1dc-43dc-8f55-882951d1f462'}, 'à': {'2bd12793-6f3a-4a58-8bfb-c67ed4d9a5bc'}, 'te': {'2bd12793-6f3a-4a58-8bfb-c67ed4d9a5bc'}, 'si': {'2bd12793-6f3a-4a58-8bfb-c67ed4d9a5bc'}, 'nous': {'2bd12793-6f3a-4a58-8bfb-c67ed4d9a5bc'}, 'un': {'2bd12793-6f3a-4a58-8bfb-c67ed4d9a5bc'}, 'proteger': {'2bd12793-6f3a-4a58-8bfb-c67ed4d9a5bc'}, 'que': {'2bd12793-6f3a-4a58-8bfb-c67ed4d9a5bc'}, 'e': {'2bd12793-6f3a-4a58-8bfb-c67ed4d9a5bc'}, 'para': {'2bd12793-6f3a-4a58-8bfb-c67ed4d9a5bc'}, 'ayúdanos': {'2bd12793-6f3a-4a58-8bfb-c67ed4d9a5bc'}, 'persona': {'2bd12793-6f3a-4a58-8bfb-c67ed4d9a5bc'}, 'glassdoor': {'2bd12793-6f3a-4a58-8bfb-c67ed4d9a5bc'}, 'una': {'2bd12793-6f3a-4a58-8bfb-c67ed4d9a5bc'}, 'sie': {'2bd12793-6f3a-4a58-8bfb-c67ed4d9a5bc'}, 'please': {'2bd12793-6f3a-4a58-8bfb-c67ed4d9a5bc'}, 'ons': {'2bd12793-6f3a-4a58-8bfb-c67ed4d9a5bc'}, 'real': {'2bd12793-6f3a-4a58-8bfb-c67ed4d9a5bc'}, 'problema': {'2bd12793-6f3a-4a58-8bfb-c67ed4d9a5bc'}, 'questions': {'b6553d5f-86fd-4202-943a-cee8ee98828b'}, 'inclusive': {'b6553d5f-86fd-4202-943a-cee8ee98828b'}, 'culture': {'b6553d5f-86fd-4202-943a-cee8ee98828b'}, 'made': {'b6553d5f-86fd-4202-943a-cee8ee98828b', '6ff91adc-448a-4102-bb83-e206a4b53574'}, 'truly': {'b6553d5f-86fd-4202-943a-cee8ee98828b'}, 'three': {'b6553d5f-86fd-4202-943a-cee8ee98828b'}, 'grateful': {'b6553d5f-86fd-4202-943a-cee8ee98828b'}, 'contentment': {'b6553d5f-86fd-4202-943a-cee8ee98828b'}, 'covered': {'6ff91adc-448a-4102-bb83-e206a4b53574'}, 'cyber': {'6ff91adc-448a-4102-bb83-e206a4b53574'}, 'learning': {'6ff91adc-448a-4102-bb83-e206a4b53574'}, 'familiarized': {'6ff91adc-448a-4102-bb83-e206a4b53574'}, 'training': {'aa2e4a91-547b-4215-8b62-98a57f154589', '6ff91adc-448a-4102-bb83-e206a4b53574'}, 'tools': {'b126b2a8-3043-4c08-b3a1-cbd9c54c418c', 'aa2e4a91-547b-4215-8b62-98a57f154589', 'fbcfc5b0-cf8f-47a1-8785-288b23456323', '6ff91adc-448a-4102-bb83-e206a4b53574'}, 'interactive': {'6ff91adc-448a-4102-bb83-e206a4b53574'}, 'engaging': {'6ff91adc-448a-4102-bb83-e206a4b53574'}, 'range': {'6ff91adc-448a-4102-bb83-e206a4b53574'}, 'elevate': {'aa2e4a91-547b-4215-8b62-98a57f154589', '6ff91adc-448a-4102-bb83-e206a4b53574'}, 'gemu': {'6ff91adc-448a-4102-bb83-e206a4b53574'}, 'aims': {'fc7edde5-312a-4044-8e98-33971692f428', 'c8b8babf-e1dc-43dc-8f55-882951d1f462'}, 'valuable': {'aa2e4a91-547b-4215-8b62-98a57f154589', 'fc7edde5-312a-4044-8e98-33971692f428'}, 'marks': {'fc7edde5-312a-4044-8e98-33971692f428'}, 'enable': {'fc7edde5-312a-4044-8e98-33971692f428'}, 'beginning': {'fc7edde5-312a-4044-8e98-33971692f428'}, 'commercial': {'279e03c8-4213-4207-bc93-45d69c38da1c'}, 'without': {'279e03c8-4213-4207-bc93-45d69c38da1c'}, 'sites': {'6466cc08-28f2-4236-8632-b1ebffb2a7ce', '279e03c8-4213-4207-bc93-45d69c38da1c'}, 'content': {'279e03c8-4213-4207-bc93-45d69c38da1c'}, 'site': {'6466cc08-28f2-4236-8632-b1ebffb2a7ce', '6319dfd3-2e25-4924-bea5-ec9bad19b1da', '279e03c8-4213-4207-bc93-45d69c38da1c'}, 'websitesresourcesor': {'279e03c8-4213-4207-bc93-45d69c38da1c'}, 'shall': {'279e03c8-4213-4207-bc93-45d69c38da1c'}, 'website': {'279e03c8-4213-4207-bc93-45d69c38da1c'}, 'terms': {'279e03c8-4213-4207-bc93-45d69c38da1c'}, 'materials': {'279e03c8-4213-4207-bc93-45d69c38da1c'}, 'make': {'279e03c8-4213-4207-bc93-45d69c38da1c', 'c97ed0a8-3d55-4f69-9075-594abc636015'}, 'may': {'279e03c8-4213-4207-bc93-45d69c38da1c'}, 'permitted': {'279e03c8-4213-4207-bc93-45d69c38da1c'}, 'application': {'6eca06b6-3cb1-405f-9103-422c05556086', 'da49dcab-79cf-4c98-a528-2fbdc5e89652', 'f30003bd-97ea-4d22-8433-88e8364bb474', '2f0aaa1e-06ff-49f2-bc3b-307bda9212cf', 'bbcbe314-1700-4893-8747-0ef8c8c30445'}, 'specialize': {'da49dcab-79cf-4c98-a528-2fbdc5e89652'}, 'improved': {'da49dcab-79cf-4c98-a528-2fbdc5e89652'}, 'helps': {'da49dcab-79cf-4c98-a528-2fbdc5e89652'}, 'leverage': {'da49dcab-79cf-4c98-a528-2fbdc5e89652'}, 'kubernetes': {'da49dcab-79cf-4c98-a528-2fbdc5e89652'}, 'strategy': {'6319dfd3-2e25-4924-bea5-ec9bad19b1da'}, 'common': {'6319dfd3-2e25-4924-bea5-ec9bad19b1da', 'bc728241-2418-4c2e-9cd6-2b89e5aa332c'}, 'analysis': {'cba1a3cc-742d-4c9d-b209-16658e58d906', '6319dfd3-2e25-4924-bea5-ec9bad19b1da'}, 'excel': {'6319dfd3-2e25-4924-bea5-ec9bad19b1da', 'bc728241-2418-4c2e-9cd6-2b89e5aa332c'}, 'web': {'6319dfd3-2e25-4924-bea5-ec9bad19b1da', '2f0aaa1e-06ff-49f2-bc3b-307bda9212cf'}, 'designswireframes': {'6319dfd3-2e25-4924-bea5-ec9bad19b1da'}, 'mockups': {'6319dfd3-2e25-4924-bea5-ec9bad19b1da'}, 'prototype': {'6319dfd3-2e25-4924-bea5-ec9bad19b1da'}, 'demo': {'6319dfd3-2e25-4924-bea5-ec9bad19b1da'}, 'focus': {'b692e136-afb2-4596-ac99-b87351a03e73'}, 'operations': {'bbcbe314-1700-4893-8747-0ef8c8c30445', 'b692e136-afb2-4596-ac99-b87351a03e73'}, 'devsecops': {'b692e136-afb2-4596-ac99-b87351a03e73'}, 'practices': {'482cf45b-8494-4103-9f4d-44c4793ea131', 'b692e136-afb2-4596-ac99-b87351a03e73'}, 'market': {'b692e136-afb2-4596-ac99-b87351a03e73', '6eca06b6-3cb1-405f-9103-422c05556086'}, 'strategic': {'b692e136-afb2-4596-ac99-b87351a03e73'}, 'outstanding': {'482cf45b-8494-4103-9f4d-44c4793ea131'}, 'set': {'482cf45b-8494-4103-9f4d-44c4793ea131'}, 'new': {'482cf45b-8494-4103-9f4d-44c4793ea131', 'f30003bd-97ea-4d22-8433-88e8364bb474', 'c97ed0a8-3d55-4f69-9075-594abc636015'}, 'highest': {'482cf45b-8494-4103-9f4d-44c4793ea131'}, 'established': {'482cf45b-8494-4103-9f4d-44c4793ea131'}, 'maturity': {'482cf45b-8494-4103-9f4d-44c4793ea131'}, 'exceptional': {'482cf45b-8494-4103-9f4d-44c4793ea131'}, 'improvement': {'482cf45b-8494-4103-9f4d-44c4793ea131', 'aa2e4a91-547b-4215-8b62-98a57f154589'}, 'achievement': {'482cf45b-8494-4103-9f4d-44c4793ea131'}, 'customer': {'bbcbe314-1700-4893-8747-0ef8c8c30445'}, 'user': {'2f0aaa1e-06ff-49f2-bc3b-307bda9212cf', 'bbcbe314-1700-4893-8747-0ef8c8c30445', 'bc728241-2418-4c2e-9cd6-2b89e5aa332c', '5195609d-0f1b-46a1-95a4-3d048f11ee56'}, 'edge': {'bbcbe314-1700-4893-8747-0ef8c8c30445'}, 'cutting': {'bbcbe314-1700-4893-8747-0ef8c8c30445'}, 'landscape': {'bbcbe314-1700-4893-8747-0ef8c8c30445'}, 'reportingdata': {'cd90f5a7-7eb7-4c67-a594-2e6a7f2391b8'}, 'internal': {'cd90f5a7-7eb7-4c67-a594-2e6a7f2391b8'}, 'aggregationos': {'cd90f5a7-7eb7-4c67-a594-2e6a7f2391b8'}, 'administrationsupport': {'cd90f5a7-7eb7-4c67-a594-2e6a7f2391b8'}, 'bi': {'cd90f5a7-7eb7-4c67-a594-2e6a7f2391b8', 'a39162fb-669f-4f55-ae94-2acfe0b54b6a'}, 'need': {'cd90f5a7-7eb7-4c67-a594-2e6a7f2391b8', 'a39162fb-669f-4f55-ae94-2acfe0b54b6a'}, 'sports': {'c8b8babf-e1dc-43dc-8f55-882951d1f462', 'c97ed0a8-3d55-4f69-9075-594abc636015'}, 'organizing': {'c97ed0a8-3d55-4f69-9075-594abc636015'}, 'interact': {'c97ed0a8-3d55-4f69-9075-594abc636015'}, 'happens': {'c97ed0a8-3d55-4f69-9075-594abc636015'}, 'events': {'f7752a52-3523-4722-a2ba-ccf77057af3a', 'c8b8babf-e1dc-43dc-8f55-882951d1f462', 'c97ed0a8-3d55-4f69-9075-594abc636015'}, 'badminton': {'c97ed0a8-3d55-4f69-9075-594abc636015'}, 'friends': {'c97ed0a8-3d55-4f69-9075-594abc636015'}, 'would': {'c97ed0a8-3d55-4f69-9075-594abc636015'}, 'love': {'c97ed0a8-3d55-4f69-9075-594abc636015'}, 'vidushi': {'c97ed0a8-3d55-4f69-9075-594abc636015'}, 'kothiyalsoftware': {'c97ed0a8-3d55-4f69-9075-594abc636015'}, 'communicate': {'aa2e4a91-547b-4215-8b62-98a57f154589'}, 'course': {'aa2e4a91-547b-4215-8b62-98a57f154589'}, 'understand': {'aa2e4a91-547b-4215-8b62-98a57f154589'}, 'areas': {'aa2e4a91-547b-4215-8b62-98a57f154589'}, 'self': {'aa2e4a91-547b-4215-8b62-98a57f154589'}, 'necessary': {'aa2e4a91-547b-4215-8b62-98a57f154589'}, 'organization': {'aa2e4a91-547b-4215-8b62-98a57f154589', '539be537-04bd-4d96-b8ca-39af1f69832a', 'c8b8babf-e1dc-43dc-8f55-882951d1f462'}, 'personality': {'aa2e4a91-547b-4215-8b62-98a57f154589'}, 'stabilization': {'18a5e68d-869d-40a8-bd29-80e2c4fac59a'}, 'reduce': {'18a5e68d-869d-40a8-bd29-80e2c4fac59a'}, 'recovery': {'6466cc08-28f2-4236-8632-b1ebffb2a7ce', '18a5e68d-869d-40a8-bd29-80e2c4fac59a'}, 'issues': {'cba1a3cc-742d-4c9d-b209-16658e58d906', '18a5e68d-869d-40a8-bd29-80e2c4fac59a'}, 'rca': {'18a5e68d-869d-40a8-bd29-80e2c4fac59a'}, 'encountered': {'18a5e68d-869d-40a8-bd29-80e2c4fac59a'}, '24x7': {'18a5e68d-869d-40a8-bd29-80e2c4fac59a'}, 'model': {'18a5e68d-869d-40a8-bd29-80e2c4fac59a', 'a39162fb-669f-4f55-ae94-2acfe0b54b6a'}, 'android': {'5195609d-0f1b-46a1-95a4-3d048f11ee56'}, 'app': {'5195609d-0f1b-46a1-95a4-3d048f11ee56'}, 'embedded': {'5195609d-0f1b-46a1-95a4-3d048f11ee56'}, 'develop': {'5195609d-0f1b-46a1-95a4-3d048f11ee56'}, 'developmentwe': {'5195609d-0f1b-46a1-95a4-3d048f11ee56'}, 'bhardwajtechnology': {'539be537-04bd-4d96-b8ca-39af1f69832a'}, 'minded': {'539be537-04bd-4d96-b8ca-39af1f69832a'}, 'chance': {'539be537-04bd-4d96-b8ca-39af1f69832a'}, 'recently': {'539be537-04bd-4d96-b8ca-39af1f69832a'}, 'came': {'539be537-04bd-4d96-b8ca-39af1f69832a'}, 'networking': {'539be537-04bd-4d96-b8ca-39af1f69832a'}, 'shubham': {'539be537-04bd-4d96-b8ca-39af1f69832a'}, 'appreciated': {'539be537-04bd-4d96-b8ca-39af1f69832a'}, 'individuals': {'539be537-04bd-4d96-b8ca-39af1f69832a'}, 'etl': {'025235a3-7f40-4676-8352-3b9945d4a48e', '2f0aaa1e-06ff-49f2-bc3b-307bda9212cf'}, 'operating': {'025235a3-7f40-4676-8352-3b9945d4a48e'}, 'move': {'025235a3-7f40-4676-8352-3b9945d4a48e'}, 'step': {'025235a3-7f40-4676-8352-3b9945d4a48e', '6eca06b6-3cb1-405f-9103-422c05556086'}, 'environments': {'025235a3-7f40-4676-8352-3b9945d4a48e'}, 'reporting': {'025235a3-7f40-4676-8352-3b9945d4a48e', '697a2062-b788-4d90-8a5d-dc5c71300071'}, 'system': {'025235a3-7f40-4676-8352-3b9945d4a48e'}, 'create': {'2f0aaa1e-06ff-49f2-bc3b-307bda9212cf', '025235a3-7f40-4676-8352-3b9945d4a48e', 'bc728241-2418-4c2e-9cd6-2b89e5aa332c', 'c8b8babf-e1dc-43dc-8f55-882951d1f462'}, 'tables': {'025235a3-7f40-4676-8352-3b9945d4a48e'}, 'production': {'025235a3-7f40-4676-8352-3b9945d4a48e'}, 'dedicated': {'025235a3-7f40-4676-8352-3b9945d4a48e'}, 'party': {'77231d1b-1576-4948-a92e-568a4d7156e8'}, 'developmentthird': {'77231d1b-1576-4948-a92e-568a4d7156e8'}, 'hybrid': {'77231d1b-1576-4948-a92e-568a4d7156e8'}, 'applicationend': {'77231d1b-1576-4948-a92e-568a4d7156e8'}, 'integrationsupport': {'77231d1b-1576-4948-a92e-568a4d7156e8'}, 'together': {'c8b8babf-e1dc-43dc-8f55-882951d1f462'}, 'travel': {'c8b8babf-e1dc-43dc-8f55-882951d1f462'}, 'keep': {'c8b8babf-e1dc-43dc-8f55-882951d1f462'}, 'monthly': {'c8b8babf-e1dc-43dc-8f55-882951d1f462'}, 'clubthe': {'c8b8babf-e1dc-43dc-8f55-882951d1f462'}, 'motive': {'c8b8babf-e1dc-43dc-8f55-882951d1f462'}, 'processes': {'f30003bd-97ea-4d22-8433-88e8364bb474'}, 'project': {'f30003bd-97ea-4d22-8433-88e8364bb474', 'bc728241-2418-4c2e-9cd6-2b89e5aa332c'}, 'existing': {'f30003bd-97ea-4d22-8433-88e8364bb474'}, 'followed': {'f30003bd-97ea-4d22-8433-88e8364bb474'}, 'response': {'f30003bd-97ea-4d22-8433-88e8364bb474'}, 'process': {'cba1a3cc-742d-4c9d-b209-16658e58d906', 'f30003bd-97ea-4d22-8433-88e8364bb474'}, 'workflows': {'f30003bd-97ea-4d22-8433-88e8364bb474'}, 'performance': {'cba1a3cc-742d-4c9d-b209-16658e58d906', 'b126b2a8-3043-4c08-b3a1-cbd9c54c418c'}, 'detailed': {'cba1a3cc-742d-4c9d-b209-16658e58d906'}, 'fes': {'cba1a3cc-742d-4c9d-b209-16658e58d906'}, 'upgraded': {'cba1a3cc-742d-4c9d-b209-16658e58d906'}, 'report': {'cba1a3cc-742d-4c9d-b209-16658e58d906', '1cdeb58e-988a-4540-a0df-4125246fb651', 'bc728241-2418-4c2e-9cd6-2b89e5aa332c'}, 'basis': {'1cdeb58e-988a-4540-a0df-4125246fb651'}, 'files': {'1cdeb58e-988a-4540-a0df-4125246fb651'}, 'power': {'1cdeb58e-988a-4540-a0df-4125246fb651', 'a39162fb-669f-4f55-ae94-2acfe0b54b6a'}, 'climate': {'1cdeb58e-988a-4540-a0df-4125246fb651'}, '4': {'1cdeb58e-988a-4540-a0df-4125246fb651'}, 'carbon': {'1cdeb58e-988a-4540-a0df-4125246fb651'}, 'odd': {'1cdeb58e-988a-4540-a0df-4125246fb651'}, 'vendor': {'a39162fb-669f-4f55-ae94-2acfe0b54b6a'}, 'query': {'a39162fb-669f-4f55-ae94-2acfe0b54b6a'}, 'fetch': {'a39162fb-669f-4f55-ae94-2acfe0b54b6a'}, 'liquidity': {'a39162fb-669f-4f55-ae94-2acfe0b54b6a'}, 'firm': {'a39162fb-669f-4f55-ae94-2acfe0b54b6a'}, 'dashboard': {'a39162fb-669f-4f55-ae94-2acfe0b54b6a'}, 'dynamic': {'f7752a52-3523-4722-a2ba-ccf77057af3a'}, 'docker': {'f7752a52-3523-4722-a2ba-ccf77057af3a'}, 'chefpuppetansible': {'f7752a52-3523-4722-a2ba-ccf77057af3a'}, 'pulled': {'f7752a52-3523-4722-a2ba-ccf77057af3a'}, 'readproblem': {'f7752a52-3523-4722-a2ba-ccf77057af3a'}, 'gitlab': {'f7752a52-3523-4722-a2ba-ccf77057af3a'}, 'dynamically': {'f7752a52-3523-4722-a2ba-ccf77057af3a'}, 'jenkins': {'f7752a52-3523-4722-a2ba-ccf77057af3a'}, 'consul': {'f7752a52-3523-4722-a2ba-ccf77057af3a'}, 'smooth': {'6466cc08-28f2-4236-8632-b1ebffb2a7ce'}, 'dr': {'6466cc08-28f2-4236-8632-b1ebffb2a7ce'}, 'secondary': {'6466cc08-28f2-4236-8632-b1ebffb2a7ce'}, 'storage': {'6466cc08-28f2-4236-8632-b1ebffb2a7ce'}, 'serverpostgressybase': {'6466cc08-28f2-4236-8632-b1ebffb2a7ce'}, 'ensuring': {'6466cc08-28f2-4236-8632-b1ebffb2a7ce'}, 'building': {'6466cc08-28f2-4236-8632-b1ebffb2a7ce', 'fbcfc5b0-cf8f-47a1-8785-288b23456323'}, 'oraclesql': {'6466cc08-28f2-4236-8632-b1ebffb2a7ce'}, 'smes': {'6466cc08-28f2-4236-8632-b1ebffb2a7ce', 'b126b2a8-3043-4c08-b3a1-cbd9c54c418c'}, 'supporting': {'6466cc08-28f2-4236-8632-b1ebffb2a7ce', 'b126b2a8-3043-4c08-b3a1-cbd9c54c418c'}, 'experienced': {'6466cc08-28f2-4236-8632-b1ebffb2a7ce'}, 'certified': {'b126b2a8-3043-4c08-b3a1-cbd9c54c418c'}, 'awsvmwarenutanix': {'b126b2a8-3043-4c08-b3a1-cbd9c54c418c'}, 'platforms': {'b126b2a8-3043-4c08-b3a1-cbd9c54c418c', 'fbcfc5b0-cf8f-47a1-8785-288b23456323'}, 'maintain': {'697a2062-b788-4d90-8a5d-dc5c71300071'}, 'singhcase': {'697a2062-b788-4d90-8a5d-dc5c71300071'}, '400dbs': {'697a2062-b788-4d90-8a5d-dc5c71300071'}, '20petabytes': {'697a2062-b788-4d90-8a5d-dc5c71300071'}, 'mysql': {'697a2062-b788-4d90-8a5d-dc5c71300071'}, 'management20000alerts': {'697a2062-b788-4d90-8a5d-dc5c71300071'}, 'apis': {'bc728241-2418-4c2e-9cd6-2b89e5aa332c'}, 'approach': {'2f0aaa1e-06ff-49f2-bc3b-307bda9212cf', 'bc728241-2418-4c2e-9cd6-2b89e5aa332c', '6eca06b6-3cb1-405f-9103-422c05556086'}, 'place': {'bc728241-2418-4c2e-9cd6-2b89e5aa332c'}, 'unit': {'bc728241-2418-4c2e-9cd6-2b89e5aa332c'}, 'output': {'bc728241-2418-4c2e-9cd6-2b89e5aa332c'}, 'sheet': {'bc728241-2418-4c2e-9cd6-2b89e5aa332c'}, 'added': {'bc728241-2418-4c2e-9cd6-2b89e5aa332c'}, 'store': {'6eca06b6-3cb1-405f-9103-422c05556086'}, 'design': {'6eca06b6-3cb1-405f-9103-422c05556086'}, 'gui': {'6eca06b6-3cb1-405f-9103-422c05556086'}, 'optimizer': {'6eca06b6-3cb1-405f-9103-422c05556086'}, 'based': {'2f0aaa1e-06ff-49f2-bc3b-307bda9212cf', '6eca06b6-3cb1-405f-9103-422c05556086'}, 'used': {'2f0aaa1e-06ff-49f2-bc3b-307bda9212cf'}, 'weekly': {'2f0aaa1e-06ff-49f2-bc3b-307bda9212cf'}, 'snowflake': {'2f0aaa1e-06ff-49f2-bc3b-307bda9212cf'}, 'migrate': {'2f0aaa1e-06ff-49f2-bc3b-307bda9212cf'}, 'large': {'2f0aaa1e-06ff-49f2-bc3b-307bda9212cf'}, 'minimum': {'2f0aaa1e-06ff-49f2-bc3b-307bda9212cf'}, 'aggregation': {'fbcfc5b0-cf8f-47a1-8785-288b23456323'}, 'log': {'fbcfc5b0-cf8f-47a1-8785-288b23456323'}, 'running': {'fbcfc5b0-cf8f-47a1-8785-288b23456323'}})"
      ]
     },
     "execution_count": 84,
     "metadata": {},
     "output_type": "execute_result"
    }
   ],
   "source": [
    "index.index_struct"
   ]
  },
  {
   "cell_type": "code",
   "execution_count": 28,
   "id": "c46b1961",
   "metadata": {
    "ExecuteTime": {
     "end_time": "2023-07-04T17:44:12.552395Z",
     "start_time": "2023-07-04T17:44:11.797016Z"
    }
   },
   "outputs": [
    {
     "ename": "AuthenticationError",
     "evalue": "Incorrect API key provided: random. You can find your API key at https://platform.openai.com/account/api-keys.",
     "output_type": "error",
     "traceback": [
      "\u001b[1;31m---------------------------------------------------------------------------\u001b[0m",
      "\u001b[1;31mAuthenticationError\u001b[0m                       Traceback (most recent call last)",
      "Cell \u001b[1;32mIn[28], line 1\u001b[0m\n\u001b[1;32m----> 1\u001b[0m \u001b[43mquery_engine\u001b[49m\u001b[38;5;241;43m.\u001b[39;49m\u001b[43mquery\u001b[49m\u001b[43m(\u001b[49m\u001b[38;5;124;43m\"\u001b[39;49m\u001b[38;5;124;43mWhat did the author do growing up?\u001b[39;49m\u001b[38;5;124;43m\"\u001b[39;49m\u001b[43m)\u001b[49m\n",
      "File \u001b[1;32m~\\AppData\\Local\\anaconda3\\envs\\web_crawler_env\\lib\\site-packages\\llama_index\\indices\\query\\base.py:23\u001b[0m, in \u001b[0;36mBaseQueryEngine.query\u001b[1;34m(self, str_or_query_bundle)\u001b[0m\n\u001b[0;32m     21\u001b[0m \u001b[38;5;28;01mif\u001b[39;00m \u001b[38;5;28misinstance\u001b[39m(str_or_query_bundle, \u001b[38;5;28mstr\u001b[39m):\n\u001b[0;32m     22\u001b[0m     str_or_query_bundle \u001b[38;5;241m=\u001b[39m QueryBundle(str_or_query_bundle)\n\u001b[1;32m---> 23\u001b[0m response \u001b[38;5;241m=\u001b[39m \u001b[38;5;28;43mself\u001b[39;49m\u001b[38;5;241;43m.\u001b[39;49m\u001b[43m_query\u001b[49m\u001b[43m(\u001b[49m\u001b[43mstr_or_query_bundle\u001b[49m\u001b[43m)\u001b[49m\n\u001b[0;32m     24\u001b[0m \u001b[38;5;28;01mreturn\u001b[39;00m response\n",
      "File \u001b[1;32m~\\AppData\\Local\\anaconda3\\envs\\web_crawler_env\\lib\\site-packages\\llama_index\\query_engine\\retriever_query_engine.py:142\u001b[0m, in \u001b[0;36mRetrieverQueryEngine._query\u001b[1;34m(self, query_bundle)\u001b[0m\n\u001b[0;32m    137\u001b[0m query_id \u001b[38;5;241m=\u001b[39m \u001b[38;5;28mself\u001b[39m\u001b[38;5;241m.\u001b[39mcallback_manager\u001b[38;5;241m.\u001b[39mon_event_start(\n\u001b[0;32m    138\u001b[0m     CBEventType\u001b[38;5;241m.\u001b[39mQUERY, payload\u001b[38;5;241m=\u001b[39m{EventPayload\u001b[38;5;241m.\u001b[39mQUERY_STR: query_bundle\u001b[38;5;241m.\u001b[39mquery_str}\n\u001b[0;32m    139\u001b[0m )\n\u001b[0;32m    141\u001b[0m retrieve_id \u001b[38;5;241m=\u001b[39m \u001b[38;5;28mself\u001b[39m\u001b[38;5;241m.\u001b[39mcallback_manager\u001b[38;5;241m.\u001b[39mon_event_start(CBEventType\u001b[38;5;241m.\u001b[39mRETRIEVE)\n\u001b[1;32m--> 142\u001b[0m nodes \u001b[38;5;241m=\u001b[39m \u001b[38;5;28;43mself\u001b[39;49m\u001b[38;5;241;43m.\u001b[39;49m\u001b[43m_retriever\u001b[49m\u001b[38;5;241;43m.\u001b[39;49m\u001b[43mretrieve\u001b[49m\u001b[43m(\u001b[49m\u001b[43mquery_bundle\u001b[49m\u001b[43m)\u001b[49m\n\u001b[0;32m    143\u001b[0m \u001b[38;5;28mself\u001b[39m\u001b[38;5;241m.\u001b[39mcallback_manager\u001b[38;5;241m.\u001b[39mon_event_end(\n\u001b[0;32m    144\u001b[0m     CBEventType\u001b[38;5;241m.\u001b[39mRETRIEVE,\n\u001b[0;32m    145\u001b[0m     payload\u001b[38;5;241m=\u001b[39m{EventPayload\u001b[38;5;241m.\u001b[39mNODES: nodes},\n\u001b[0;32m    146\u001b[0m     event_id\u001b[38;5;241m=\u001b[39mretrieve_id,\n\u001b[0;32m    147\u001b[0m )\n\u001b[0;32m    149\u001b[0m response \u001b[38;5;241m=\u001b[39m \u001b[38;5;28mself\u001b[39m\u001b[38;5;241m.\u001b[39m_response_synthesizer\u001b[38;5;241m.\u001b[39msynthesize(\n\u001b[0;32m    150\u001b[0m     query_bundle\u001b[38;5;241m=\u001b[39mquery_bundle,\n\u001b[0;32m    151\u001b[0m     nodes\u001b[38;5;241m=\u001b[39mnodes,\n\u001b[0;32m    152\u001b[0m )\n",
      "File \u001b[1;32m~\\AppData\\Local\\anaconda3\\envs\\web_crawler_env\\lib\\site-packages\\llama_index\\indices\\base_retriever.py:21\u001b[0m, in \u001b[0;36mBaseRetriever.retrieve\u001b[1;34m(self, str_or_query_bundle)\u001b[0m\n\u001b[0;32m     19\u001b[0m \u001b[38;5;28;01mif\u001b[39;00m \u001b[38;5;28misinstance\u001b[39m(str_or_query_bundle, \u001b[38;5;28mstr\u001b[39m):\n\u001b[0;32m     20\u001b[0m     str_or_query_bundle \u001b[38;5;241m=\u001b[39m QueryBundle(str_or_query_bundle)\n\u001b[1;32m---> 21\u001b[0m \u001b[38;5;28;01mreturn\u001b[39;00m \u001b[38;5;28;43mself\u001b[39;49m\u001b[38;5;241;43m.\u001b[39;49m\u001b[43m_retrieve\u001b[49m\u001b[43m(\u001b[49m\u001b[43mstr_or_query_bundle\u001b[49m\u001b[43m)\u001b[49m\n",
      "File \u001b[1;32m~\\AppData\\Local\\anaconda3\\envs\\web_crawler_env\\lib\\site-packages\\llama_index\\indices\\keyword_table\\retrievers.py:81\u001b[0m, in \u001b[0;36mBaseKeywordTableRetriever._retrieve\u001b[1;34m(self, query_bundle)\u001b[0m\n\u001b[0;32m     79\u001b[0m \u001b[38;5;124;03m\"\"\"Get nodes for response.\"\"\"\u001b[39;00m\n\u001b[0;32m     80\u001b[0m logger\u001b[38;5;241m.\u001b[39minfo(\u001b[38;5;124mf\u001b[39m\u001b[38;5;124m\"\u001b[39m\u001b[38;5;124m> Starting query: \u001b[39m\u001b[38;5;132;01m{\u001b[39;00mquery_bundle\u001b[38;5;241m.\u001b[39mquery_str\u001b[38;5;132;01m}\u001b[39;00m\u001b[38;5;124m\"\u001b[39m)\n\u001b[1;32m---> 81\u001b[0m keywords \u001b[38;5;241m=\u001b[39m \u001b[38;5;28;43mself\u001b[39;49m\u001b[38;5;241;43m.\u001b[39;49m\u001b[43m_get_keywords\u001b[49m\u001b[43m(\u001b[49m\u001b[43mquery_bundle\u001b[49m\u001b[38;5;241;43m.\u001b[39;49m\u001b[43mquery_str\u001b[49m\u001b[43m)\u001b[49m\n\u001b[0;32m     82\u001b[0m logger\u001b[38;5;241m.\u001b[39minfo(\u001b[38;5;124mf\u001b[39m\u001b[38;5;124m\"\u001b[39m\u001b[38;5;124mquery keywords: \u001b[39m\u001b[38;5;132;01m{\u001b[39;00mkeywords\u001b[38;5;132;01m}\u001b[39;00m\u001b[38;5;124m\"\u001b[39m)\n\u001b[0;32m     84\u001b[0m \u001b[38;5;66;03m# go through text chunks in order of most matching keywords\u001b[39;00m\n",
      "File \u001b[1;32m~\\AppData\\Local\\anaconda3\\envs\\web_crawler_env\\lib\\site-packages\\llama_index\\indices\\keyword_table\\retrievers.py:121\u001b[0m, in \u001b[0;36mKeywordTableGPTRetriever._get_keywords\u001b[1;34m(self, query_str)\u001b[0m\n\u001b[0;32m    119\u001b[0m \u001b[38;5;28;01mdef\u001b[39;00m \u001b[38;5;21m_get_keywords\u001b[39m(\u001b[38;5;28mself\u001b[39m, query_str: \u001b[38;5;28mstr\u001b[39m) \u001b[38;5;241m-\u001b[39m\u001b[38;5;241m>\u001b[39m List[\u001b[38;5;28mstr\u001b[39m]:\n\u001b[0;32m    120\u001b[0m     \u001b[38;5;124;03m\"\"\"Extract keywords.\"\"\"\u001b[39;00m\n\u001b[1;32m--> 121\u001b[0m     response, formatted_prompt \u001b[38;5;241m=\u001b[39m \u001b[38;5;28;43mself\u001b[39;49m\u001b[38;5;241;43m.\u001b[39;49m\u001b[43m_service_context\u001b[49m\u001b[38;5;241;43m.\u001b[39;49m\u001b[43mllm_predictor\u001b[49m\u001b[38;5;241;43m.\u001b[39;49m\u001b[43mpredict\u001b[49m\u001b[43m(\u001b[49m\n\u001b[0;32m    122\u001b[0m \u001b[43m        \u001b[49m\u001b[38;5;28;43mself\u001b[39;49m\u001b[38;5;241;43m.\u001b[39;49m\u001b[43mquery_keyword_extract_template\u001b[49m\u001b[43m,\u001b[49m\n\u001b[0;32m    123\u001b[0m \u001b[43m        \u001b[49m\u001b[43mmax_keywords\u001b[49m\u001b[38;5;241;43m=\u001b[39;49m\u001b[38;5;28;43mself\u001b[39;49m\u001b[38;5;241;43m.\u001b[39;49m\u001b[43mmax_keywords_per_query\u001b[49m\u001b[43m,\u001b[49m\n\u001b[0;32m    124\u001b[0m \u001b[43m        \u001b[49m\u001b[43mquestion\u001b[49m\u001b[38;5;241;43m=\u001b[39;49m\u001b[43mquery_str\u001b[49m\u001b[43m,\u001b[49m\n\u001b[0;32m    125\u001b[0m \u001b[43m    \u001b[49m\u001b[43m)\u001b[49m\n\u001b[0;32m    126\u001b[0m     keywords \u001b[38;5;241m=\u001b[39m extract_keywords_given_response(response, start_token\u001b[38;5;241m=\u001b[39m\u001b[38;5;124m\"\u001b[39m\u001b[38;5;124mKEYWORDS:\u001b[39m\u001b[38;5;124m\"\u001b[39m)\n\u001b[0;32m    127\u001b[0m     \u001b[38;5;28;01mreturn\u001b[39;00m \u001b[38;5;28mlist\u001b[39m(keywords)\n",
      "File \u001b[1;32m~\\AppData\\Local\\anaconda3\\envs\\web_crawler_env\\lib\\site-packages\\llama_index\\llm_predictor\\base.py:239\u001b[0m, in \u001b[0;36mLLMPredictor.predict\u001b[1;34m(self, prompt, **prompt_args)\u001b[0m\n\u001b[0;32m    234\u001b[0m event_id \u001b[38;5;241m=\u001b[39m \u001b[38;5;28mself\u001b[39m\u001b[38;5;241m.\u001b[39mcallback_manager\u001b[38;5;241m.\u001b[39mon_event_start(\n\u001b[0;32m    235\u001b[0m     CBEventType\u001b[38;5;241m.\u001b[39mLLM,\n\u001b[0;32m    236\u001b[0m     payload\u001b[38;5;241m=\u001b[39mllm_payload,\n\u001b[0;32m    237\u001b[0m )\n\u001b[0;32m    238\u001b[0m formatted_prompt \u001b[38;5;241m=\u001b[39m prompt\u001b[38;5;241m.\u001b[39mformat(llm\u001b[38;5;241m=\u001b[39m\u001b[38;5;28mself\u001b[39m\u001b[38;5;241m.\u001b[39m_llm, \u001b[38;5;241m*\u001b[39m\u001b[38;5;241m*\u001b[39mprompt_args)\n\u001b[1;32m--> 239\u001b[0m llm_prediction \u001b[38;5;241m=\u001b[39m \u001b[38;5;28mself\u001b[39m\u001b[38;5;241m.\u001b[39m_predict(prompt, \u001b[38;5;241m*\u001b[39m\u001b[38;5;241m*\u001b[39mprompt_args)\n\u001b[0;32m    240\u001b[0m logger\u001b[38;5;241m.\u001b[39mdebug(llm_prediction)\n\u001b[0;32m    242\u001b[0m \u001b[38;5;66;03m# We assume that the value of formatted_prompt is exactly the thing\u001b[39;00m\n\u001b[0;32m    243\u001b[0m \u001b[38;5;66;03m# eventually sent to OpenAI, or whatever LLM downstream\u001b[39;00m\n",
      "File \u001b[1;32m~\\AppData\\Local\\anaconda3\\envs\\web_crawler_env\\lib\\site-packages\\llama_index\\llm_predictor\\base.py:207\u001b[0m, in \u001b[0;36mLLMPredictor._predict\u001b[1;34m(self, prompt, **prompt_args)\u001b[0m\n\u001b[0;32m    205\u001b[0m full_prompt_args \u001b[38;5;241m=\u001b[39m prompt\u001b[38;5;241m.\u001b[39mget_full_format_args(prompt_args)\n\u001b[0;32m    206\u001b[0m \u001b[38;5;28;01mif\u001b[39;00m \u001b[38;5;28mself\u001b[39m\u001b[38;5;241m.\u001b[39mretry_on_throttling:\n\u001b[1;32m--> 207\u001b[0m     llm_prediction \u001b[38;5;241m=\u001b[39m \u001b[43mretry_on_exceptions_with_backoff\u001b[49m\u001b[43m(\u001b[49m\n\u001b[0;32m    208\u001b[0m \u001b[43m        \u001b[49m\u001b[38;5;28;43;01mlambda\u001b[39;49;00m\u001b[43m:\u001b[49m\u001b[43m \u001b[49m\u001b[43mllm_chain\u001b[49m\u001b[38;5;241;43m.\u001b[39;49m\u001b[43mpredict\u001b[49m\u001b[43m(\u001b[49m\u001b[38;5;241;43m*\u001b[39;49m\u001b[38;5;241;43m*\u001b[39;49m\u001b[43mfull_prompt_args\u001b[49m\u001b[43m)\u001b[49m\u001b[43m,\u001b[49m\n\u001b[0;32m    209\u001b[0m \u001b[43m        \u001b[49m\u001b[43m[\u001b[49m\n\u001b[0;32m    210\u001b[0m \u001b[43m            \u001b[49m\u001b[43mErrorToRetry\u001b[49m\u001b[43m(\u001b[49m\u001b[43mopenai\u001b[49m\u001b[38;5;241;43m.\u001b[39;49m\u001b[43merror\u001b[49m\u001b[38;5;241;43m.\u001b[39;49m\u001b[43mRateLimitError\u001b[49m\u001b[43m)\u001b[49m\u001b[43m,\u001b[49m\n\u001b[0;32m    211\u001b[0m \u001b[43m            \u001b[49m\u001b[43mErrorToRetry\u001b[49m\u001b[43m(\u001b[49m\u001b[43mopenai\u001b[49m\u001b[38;5;241;43m.\u001b[39;49m\u001b[43merror\u001b[49m\u001b[38;5;241;43m.\u001b[39;49m\u001b[43mServiceUnavailableError\u001b[49m\u001b[43m)\u001b[49m\u001b[43m,\u001b[49m\n\u001b[0;32m    212\u001b[0m \u001b[43m            \u001b[49m\u001b[43mErrorToRetry\u001b[49m\u001b[43m(\u001b[49m\u001b[43mopenai\u001b[49m\u001b[38;5;241;43m.\u001b[39;49m\u001b[43merror\u001b[49m\u001b[38;5;241;43m.\u001b[39;49m\u001b[43mTryAgain\u001b[49m\u001b[43m)\u001b[49m\u001b[43m,\u001b[49m\n\u001b[0;32m    213\u001b[0m \u001b[43m            \u001b[49m\u001b[43mErrorToRetry\u001b[49m\u001b[43m(\u001b[49m\n\u001b[0;32m    214\u001b[0m \u001b[43m                \u001b[49m\u001b[43mopenai\u001b[49m\u001b[38;5;241;43m.\u001b[39;49m\u001b[43merror\u001b[49m\u001b[38;5;241;43m.\u001b[39;49m\u001b[43mAPIConnectionError\u001b[49m\u001b[43m,\u001b[49m\u001b[43m \u001b[49m\u001b[38;5;28;43;01mlambda\u001b[39;49;00m\u001b[43m \u001b[49m\u001b[43me\u001b[49m\u001b[43m:\u001b[49m\u001b[43m \u001b[49m\u001b[43me\u001b[49m\u001b[38;5;241;43m.\u001b[39;49m\u001b[43mshould_retry\u001b[49m\n\u001b[0;32m    215\u001b[0m \u001b[43m            \u001b[49m\u001b[43m)\u001b[49m\u001b[43m,\u001b[49m\n\u001b[0;32m    216\u001b[0m \u001b[43m        \u001b[49m\u001b[43m]\u001b[49m\u001b[43m,\u001b[49m\n\u001b[0;32m    217\u001b[0m \u001b[43m    \u001b[49m\u001b[43m)\u001b[49m\n\u001b[0;32m    218\u001b[0m \u001b[38;5;28;01melse\u001b[39;00m:\n\u001b[0;32m    219\u001b[0m     llm_prediction \u001b[38;5;241m=\u001b[39m llm_chain\u001b[38;5;241m.\u001b[39mpredict(\u001b[38;5;241m*\u001b[39m\u001b[38;5;241m*\u001b[39mfull_prompt_args)\n",
      "File \u001b[1;32m~\\AppData\\Local\\anaconda3\\envs\\web_crawler_env\\lib\\site-packages\\llama_index\\utils.py:161\u001b[0m, in \u001b[0;36mretry_on_exceptions_with_backoff\u001b[1;34m(lambda_fn, errors_to_retry, max_tries, min_backoff_secs, max_backoff_secs)\u001b[0m\n\u001b[0;32m    159\u001b[0m \u001b[38;5;28;01mwhile\u001b[39;00m \u001b[38;5;28;01mTrue\u001b[39;00m:\n\u001b[0;32m    160\u001b[0m     \u001b[38;5;28;01mtry\u001b[39;00m:\n\u001b[1;32m--> 161\u001b[0m         \u001b[38;5;28;01mreturn\u001b[39;00m \u001b[43mlambda_fn\u001b[49m\u001b[43m(\u001b[49m\u001b[43m)\u001b[49m\n\u001b[0;32m    162\u001b[0m     \u001b[38;5;28;01mexcept\u001b[39;00m exception_class_tuples \u001b[38;5;28;01mas\u001b[39;00m e:\n\u001b[0;32m    163\u001b[0m         traceback\u001b[38;5;241m.\u001b[39mprint_exc()\n",
      "File \u001b[1;32m~\\AppData\\Local\\anaconda3\\envs\\web_crawler_env\\lib\\site-packages\\llama_index\\llm_predictor\\base.py:208\u001b[0m, in \u001b[0;36mLLMPredictor._predict.<locals>.<lambda>\u001b[1;34m()\u001b[0m\n\u001b[0;32m    205\u001b[0m full_prompt_args \u001b[38;5;241m=\u001b[39m prompt\u001b[38;5;241m.\u001b[39mget_full_format_args(prompt_args)\n\u001b[0;32m    206\u001b[0m \u001b[38;5;28;01mif\u001b[39;00m \u001b[38;5;28mself\u001b[39m\u001b[38;5;241m.\u001b[39mretry_on_throttling:\n\u001b[0;32m    207\u001b[0m     llm_prediction \u001b[38;5;241m=\u001b[39m retry_on_exceptions_with_backoff(\n\u001b[1;32m--> 208\u001b[0m         \u001b[38;5;28;01mlambda\u001b[39;00m: llm_chain\u001b[38;5;241m.\u001b[39mpredict(\u001b[38;5;241m*\u001b[39m\u001b[38;5;241m*\u001b[39mfull_prompt_args),\n\u001b[0;32m    209\u001b[0m         [\n\u001b[0;32m    210\u001b[0m             ErrorToRetry(openai\u001b[38;5;241m.\u001b[39merror\u001b[38;5;241m.\u001b[39mRateLimitError),\n\u001b[0;32m    211\u001b[0m             ErrorToRetry(openai\u001b[38;5;241m.\u001b[39merror\u001b[38;5;241m.\u001b[39mServiceUnavailableError),\n\u001b[0;32m    212\u001b[0m             ErrorToRetry(openai\u001b[38;5;241m.\u001b[39merror\u001b[38;5;241m.\u001b[39mTryAgain),\n\u001b[0;32m    213\u001b[0m             ErrorToRetry(\n\u001b[0;32m    214\u001b[0m                 openai\u001b[38;5;241m.\u001b[39merror\u001b[38;5;241m.\u001b[39mAPIConnectionError, \u001b[38;5;28;01mlambda\u001b[39;00m e: e\u001b[38;5;241m.\u001b[39mshould_retry\n\u001b[0;32m    215\u001b[0m             ),\n\u001b[0;32m    216\u001b[0m         ],\n\u001b[0;32m    217\u001b[0m     )\n\u001b[0;32m    218\u001b[0m \u001b[38;5;28;01melse\u001b[39;00m:\n\u001b[0;32m    219\u001b[0m     llm_prediction \u001b[38;5;241m=\u001b[39m llm_chain\u001b[38;5;241m.\u001b[39mpredict(\u001b[38;5;241m*\u001b[39m\u001b[38;5;241m*\u001b[39mfull_prompt_args)\n",
      "File \u001b[1;32m~\\AppData\\Local\\anaconda3\\envs\\web_crawler_env\\lib\\site-packages\\langchain\\chains\\llm.py:252\u001b[0m, in \u001b[0;36mLLMChain.predict\u001b[1;34m(self, callbacks, **kwargs)\u001b[0m\n\u001b[0;32m    237\u001b[0m \u001b[38;5;28;01mdef\u001b[39;00m \u001b[38;5;21mpredict\u001b[39m(\u001b[38;5;28mself\u001b[39m, callbacks: Callbacks \u001b[38;5;241m=\u001b[39m \u001b[38;5;28;01mNone\u001b[39;00m, \u001b[38;5;241m*\u001b[39m\u001b[38;5;241m*\u001b[39mkwargs: Any) \u001b[38;5;241m-\u001b[39m\u001b[38;5;241m>\u001b[39m \u001b[38;5;28mstr\u001b[39m:\n\u001b[0;32m    238\u001b[0m     \u001b[38;5;124;03m\"\"\"Format prompt with kwargs and pass to LLM.\u001b[39;00m\n\u001b[0;32m    239\u001b[0m \n\u001b[0;32m    240\u001b[0m \u001b[38;5;124;03m    Args:\u001b[39;00m\n\u001b[1;32m   (...)\u001b[0m\n\u001b[0;32m    250\u001b[0m \u001b[38;5;124;03m            completion = llm.predict(adjective=\"funny\")\u001b[39;00m\n\u001b[0;32m    251\u001b[0m \u001b[38;5;124;03m    \"\"\"\u001b[39;00m\n\u001b[1;32m--> 252\u001b[0m     \u001b[38;5;28;01mreturn\u001b[39;00m \u001b[38;5;28;43mself\u001b[39;49m\u001b[43m(\u001b[49m\u001b[43mkwargs\u001b[49m\u001b[43m,\u001b[49m\u001b[43m \u001b[49m\u001b[43mcallbacks\u001b[49m\u001b[38;5;241;43m=\u001b[39;49m\u001b[43mcallbacks\u001b[49m\u001b[43m)\u001b[49m[\u001b[38;5;28mself\u001b[39m\u001b[38;5;241m.\u001b[39moutput_key]\n",
      "File \u001b[1;32m~\\AppData\\Local\\anaconda3\\envs\\web_crawler_env\\lib\\site-packages\\langchain\\chains\\base.py:166\u001b[0m, in \u001b[0;36mChain.__call__\u001b[1;34m(self, inputs, return_only_outputs, callbacks, tags, include_run_info)\u001b[0m\n\u001b[0;32m    164\u001b[0m \u001b[38;5;28;01mexcept\u001b[39;00m (\u001b[38;5;167;01mKeyboardInterrupt\u001b[39;00m, \u001b[38;5;167;01mException\u001b[39;00m) \u001b[38;5;28;01mas\u001b[39;00m e:\n\u001b[0;32m    165\u001b[0m     run_manager\u001b[38;5;241m.\u001b[39mon_chain_error(e)\n\u001b[1;32m--> 166\u001b[0m     \u001b[38;5;28;01mraise\u001b[39;00m e\n\u001b[0;32m    167\u001b[0m run_manager\u001b[38;5;241m.\u001b[39mon_chain_end(outputs)\n\u001b[0;32m    168\u001b[0m final_outputs: Dict[\u001b[38;5;28mstr\u001b[39m, Any] \u001b[38;5;241m=\u001b[39m \u001b[38;5;28mself\u001b[39m\u001b[38;5;241m.\u001b[39mprep_outputs(\n\u001b[0;32m    169\u001b[0m     inputs, outputs, return_only_outputs\n\u001b[0;32m    170\u001b[0m )\n",
      "File \u001b[1;32m~\\AppData\\Local\\anaconda3\\envs\\web_crawler_env\\lib\\site-packages\\langchain\\chains\\base.py:160\u001b[0m, in \u001b[0;36mChain.__call__\u001b[1;34m(self, inputs, return_only_outputs, callbacks, tags, include_run_info)\u001b[0m\n\u001b[0;32m    154\u001b[0m run_manager \u001b[38;5;241m=\u001b[39m callback_manager\u001b[38;5;241m.\u001b[39mon_chain_start(\n\u001b[0;32m    155\u001b[0m     dumpd(\u001b[38;5;28mself\u001b[39m),\n\u001b[0;32m    156\u001b[0m     inputs,\n\u001b[0;32m    157\u001b[0m )\n\u001b[0;32m    158\u001b[0m \u001b[38;5;28;01mtry\u001b[39;00m:\n\u001b[0;32m    159\u001b[0m     outputs \u001b[38;5;241m=\u001b[39m (\n\u001b[1;32m--> 160\u001b[0m         \u001b[38;5;28;43mself\u001b[39;49m\u001b[38;5;241;43m.\u001b[39;49m\u001b[43m_call\u001b[49m\u001b[43m(\u001b[49m\u001b[43minputs\u001b[49m\u001b[43m,\u001b[49m\u001b[43m \u001b[49m\u001b[43mrun_manager\u001b[49m\u001b[38;5;241;43m=\u001b[39;49m\u001b[43mrun_manager\u001b[49m\u001b[43m)\u001b[49m\n\u001b[0;32m    161\u001b[0m         \u001b[38;5;28;01mif\u001b[39;00m new_arg_supported\n\u001b[0;32m    162\u001b[0m         \u001b[38;5;28;01melse\u001b[39;00m \u001b[38;5;28mself\u001b[39m\u001b[38;5;241m.\u001b[39m_call(inputs)\n\u001b[0;32m    163\u001b[0m     )\n\u001b[0;32m    164\u001b[0m \u001b[38;5;28;01mexcept\u001b[39;00m (\u001b[38;5;167;01mKeyboardInterrupt\u001b[39;00m, \u001b[38;5;167;01mException\u001b[39;00m) \u001b[38;5;28;01mas\u001b[39;00m e:\n\u001b[0;32m    165\u001b[0m     run_manager\u001b[38;5;241m.\u001b[39mon_chain_error(e)\n",
      "File \u001b[1;32m~\\AppData\\Local\\anaconda3\\envs\\web_crawler_env\\lib\\site-packages\\langchain\\chains\\llm.py:92\u001b[0m, in \u001b[0;36mLLMChain._call\u001b[1;34m(self, inputs, run_manager)\u001b[0m\n\u001b[0;32m     87\u001b[0m \u001b[38;5;28;01mdef\u001b[39;00m \u001b[38;5;21m_call\u001b[39m(\n\u001b[0;32m     88\u001b[0m     \u001b[38;5;28mself\u001b[39m,\n\u001b[0;32m     89\u001b[0m     inputs: Dict[\u001b[38;5;28mstr\u001b[39m, Any],\n\u001b[0;32m     90\u001b[0m     run_manager: Optional[CallbackManagerForChainRun] \u001b[38;5;241m=\u001b[39m \u001b[38;5;28;01mNone\u001b[39;00m,\n\u001b[0;32m     91\u001b[0m ) \u001b[38;5;241m-\u001b[39m\u001b[38;5;241m>\u001b[39m Dict[\u001b[38;5;28mstr\u001b[39m, \u001b[38;5;28mstr\u001b[39m]:\n\u001b[1;32m---> 92\u001b[0m     response \u001b[38;5;241m=\u001b[39m \u001b[38;5;28;43mself\u001b[39;49m\u001b[38;5;241;43m.\u001b[39;49m\u001b[43mgenerate\u001b[49m\u001b[43m(\u001b[49m\u001b[43m[\u001b[49m\u001b[43minputs\u001b[49m\u001b[43m]\u001b[49m\u001b[43m,\u001b[49m\u001b[43m \u001b[49m\u001b[43mrun_manager\u001b[49m\u001b[38;5;241;43m=\u001b[39;49m\u001b[43mrun_manager\u001b[49m\u001b[43m)\u001b[49m\n\u001b[0;32m     93\u001b[0m     \u001b[38;5;28;01mreturn\u001b[39;00m \u001b[38;5;28mself\u001b[39m\u001b[38;5;241m.\u001b[39mcreate_outputs(response)[\u001b[38;5;241m0\u001b[39m]\n",
      "File \u001b[1;32m~\\AppData\\Local\\anaconda3\\envs\\web_crawler_env\\lib\\site-packages\\langchain\\chains\\llm.py:102\u001b[0m, in \u001b[0;36mLLMChain.generate\u001b[1;34m(self, input_list, run_manager)\u001b[0m\n\u001b[0;32m    100\u001b[0m \u001b[38;5;124;03m\"\"\"Generate LLM result from inputs.\"\"\"\u001b[39;00m\n\u001b[0;32m    101\u001b[0m prompts, stop \u001b[38;5;241m=\u001b[39m \u001b[38;5;28mself\u001b[39m\u001b[38;5;241m.\u001b[39mprep_prompts(input_list, run_manager\u001b[38;5;241m=\u001b[39mrun_manager)\n\u001b[1;32m--> 102\u001b[0m \u001b[38;5;28;01mreturn\u001b[39;00m \u001b[38;5;28mself\u001b[39m\u001b[38;5;241m.\u001b[39mllm\u001b[38;5;241m.\u001b[39mgenerate_prompt(\n\u001b[0;32m    103\u001b[0m     prompts,\n\u001b[0;32m    104\u001b[0m     stop,\n\u001b[0;32m    105\u001b[0m     callbacks\u001b[38;5;241m=\u001b[39mrun_manager\u001b[38;5;241m.\u001b[39mget_child() \u001b[38;5;28;01mif\u001b[39;00m run_manager \u001b[38;5;28;01melse\u001b[39;00m \u001b[38;5;28;01mNone\u001b[39;00m,\n\u001b[0;32m    106\u001b[0m     \u001b[38;5;241m*\u001b[39m\u001b[38;5;241m*\u001b[39m\u001b[38;5;28mself\u001b[39m\u001b[38;5;241m.\u001b[39mllm_kwargs,\n\u001b[0;32m    107\u001b[0m )\n",
      "File \u001b[1;32m~\\AppData\\Local\\anaconda3\\envs\\web_crawler_env\\lib\\site-packages\\langchain\\llms\\base.py:139\u001b[0m, in \u001b[0;36mBaseLLM.generate_prompt\u001b[1;34m(self, prompts, stop, callbacks, **kwargs)\u001b[0m\n\u001b[0;32m    131\u001b[0m \u001b[38;5;28;01mdef\u001b[39;00m \u001b[38;5;21mgenerate_prompt\u001b[39m(\n\u001b[0;32m    132\u001b[0m     \u001b[38;5;28mself\u001b[39m,\n\u001b[0;32m    133\u001b[0m     prompts: List[PromptValue],\n\u001b[1;32m   (...)\u001b[0m\n\u001b[0;32m    136\u001b[0m     \u001b[38;5;241m*\u001b[39m\u001b[38;5;241m*\u001b[39mkwargs: Any,\n\u001b[0;32m    137\u001b[0m ) \u001b[38;5;241m-\u001b[39m\u001b[38;5;241m>\u001b[39m LLMResult:\n\u001b[0;32m    138\u001b[0m     prompt_strings \u001b[38;5;241m=\u001b[39m [p\u001b[38;5;241m.\u001b[39mto_string() \u001b[38;5;28;01mfor\u001b[39;00m p \u001b[38;5;129;01min\u001b[39;00m prompts]\n\u001b[1;32m--> 139\u001b[0m     \u001b[38;5;28;01mreturn\u001b[39;00m \u001b[38;5;28mself\u001b[39m\u001b[38;5;241m.\u001b[39mgenerate(prompt_strings, stop\u001b[38;5;241m=\u001b[39mstop, callbacks\u001b[38;5;241m=\u001b[39mcallbacks, \u001b[38;5;241m*\u001b[39m\u001b[38;5;241m*\u001b[39mkwargs)\n",
      "File \u001b[1;32m~\\AppData\\Local\\anaconda3\\envs\\web_crawler_env\\lib\\site-packages\\langchain\\llms\\base.py:225\u001b[0m, in \u001b[0;36mBaseLLM.generate\u001b[1;34m(self, prompts, stop, callbacks, tags, **kwargs)\u001b[0m\n\u001b[0;32m    219\u001b[0m         \u001b[38;5;28;01mraise\u001b[39;00m \u001b[38;5;167;01mValueError\u001b[39;00m(\n\u001b[0;32m    220\u001b[0m             \u001b[38;5;124m\"\u001b[39m\u001b[38;5;124mAsked to cache, but no cache found at `langchain.cache`.\u001b[39m\u001b[38;5;124m\"\u001b[39m\n\u001b[0;32m    221\u001b[0m         )\n\u001b[0;32m    222\u001b[0m     run_managers \u001b[38;5;241m=\u001b[39m callback_manager\u001b[38;5;241m.\u001b[39mon_llm_start(\n\u001b[0;32m    223\u001b[0m         dumpd(\u001b[38;5;28mself\u001b[39m), prompts, invocation_params\u001b[38;5;241m=\u001b[39mparams, options\u001b[38;5;241m=\u001b[39moptions\n\u001b[0;32m    224\u001b[0m     )\n\u001b[1;32m--> 225\u001b[0m     output \u001b[38;5;241m=\u001b[39m \u001b[38;5;28mself\u001b[39m\u001b[38;5;241m.\u001b[39m_generate_helper(\n\u001b[0;32m    226\u001b[0m         prompts, stop, run_managers, \u001b[38;5;28mbool\u001b[39m(new_arg_supported), \u001b[38;5;241m*\u001b[39m\u001b[38;5;241m*\u001b[39mkwargs\n\u001b[0;32m    227\u001b[0m     )\n\u001b[0;32m    228\u001b[0m     \u001b[38;5;28;01mreturn\u001b[39;00m output\n\u001b[0;32m    229\u001b[0m \u001b[38;5;28;01mif\u001b[39;00m \u001b[38;5;28mlen\u001b[39m(missing_prompts) \u001b[38;5;241m>\u001b[39m \u001b[38;5;241m0\u001b[39m:\n",
      "File \u001b[1;32m~\\AppData\\Local\\anaconda3\\envs\\web_crawler_env\\lib\\site-packages\\langchain\\llms\\base.py:176\u001b[0m, in \u001b[0;36mBaseLLM._generate_helper\u001b[1;34m(self, prompts, stop, run_managers, new_arg_supported, **kwargs)\u001b[0m\n\u001b[0;32m    174\u001b[0m     \u001b[38;5;28;01mfor\u001b[39;00m run_manager \u001b[38;5;129;01min\u001b[39;00m run_managers:\n\u001b[0;32m    175\u001b[0m         run_manager\u001b[38;5;241m.\u001b[39mon_llm_error(e)\n\u001b[1;32m--> 176\u001b[0m     \u001b[38;5;28;01mraise\u001b[39;00m e\n\u001b[0;32m    177\u001b[0m flattened_outputs \u001b[38;5;241m=\u001b[39m output\u001b[38;5;241m.\u001b[39mflatten()\n\u001b[0;32m    178\u001b[0m \u001b[38;5;28;01mfor\u001b[39;00m manager, flattened_output \u001b[38;5;129;01min\u001b[39;00m \u001b[38;5;28mzip\u001b[39m(run_managers, flattened_outputs):\n",
      "File \u001b[1;32m~\\AppData\\Local\\anaconda3\\envs\\web_crawler_env\\lib\\site-packages\\langchain\\llms\\base.py:163\u001b[0m, in \u001b[0;36mBaseLLM._generate_helper\u001b[1;34m(self, prompts, stop, run_managers, new_arg_supported, **kwargs)\u001b[0m\n\u001b[0;32m    153\u001b[0m \u001b[38;5;28;01mdef\u001b[39;00m \u001b[38;5;21m_generate_helper\u001b[39m(\n\u001b[0;32m    154\u001b[0m     \u001b[38;5;28mself\u001b[39m,\n\u001b[0;32m    155\u001b[0m     prompts: List[\u001b[38;5;28mstr\u001b[39m],\n\u001b[1;32m   (...)\u001b[0m\n\u001b[0;32m    159\u001b[0m     \u001b[38;5;241m*\u001b[39m\u001b[38;5;241m*\u001b[39mkwargs: Any,\n\u001b[0;32m    160\u001b[0m ) \u001b[38;5;241m-\u001b[39m\u001b[38;5;241m>\u001b[39m LLMResult:\n\u001b[0;32m    161\u001b[0m     \u001b[38;5;28;01mtry\u001b[39;00m:\n\u001b[0;32m    162\u001b[0m         output \u001b[38;5;241m=\u001b[39m (\n\u001b[1;32m--> 163\u001b[0m             \u001b[38;5;28mself\u001b[39m\u001b[38;5;241m.\u001b[39m_generate(\n\u001b[0;32m    164\u001b[0m                 prompts,\n\u001b[0;32m    165\u001b[0m                 stop\u001b[38;5;241m=\u001b[39mstop,\n\u001b[0;32m    166\u001b[0m                 \u001b[38;5;66;03m# TODO: support multiple run managers\u001b[39;00m\n\u001b[0;32m    167\u001b[0m                 run_manager\u001b[38;5;241m=\u001b[39mrun_managers[\u001b[38;5;241m0\u001b[39m] \u001b[38;5;28;01mif\u001b[39;00m run_managers \u001b[38;5;28;01melse\u001b[39;00m \u001b[38;5;28;01mNone\u001b[39;00m,\n\u001b[0;32m    168\u001b[0m                 \u001b[38;5;241m*\u001b[39m\u001b[38;5;241m*\u001b[39mkwargs,\n\u001b[0;32m    169\u001b[0m             )\n\u001b[0;32m    170\u001b[0m             \u001b[38;5;28;01mif\u001b[39;00m new_arg_supported\n\u001b[0;32m    171\u001b[0m             \u001b[38;5;28;01melse\u001b[39;00m \u001b[38;5;28mself\u001b[39m\u001b[38;5;241m.\u001b[39m_generate(prompts, stop\u001b[38;5;241m=\u001b[39mstop)\n\u001b[0;32m    172\u001b[0m         )\n\u001b[0;32m    173\u001b[0m     \u001b[38;5;28;01mexcept\u001b[39;00m (\u001b[38;5;167;01mKeyboardInterrupt\u001b[39;00m, \u001b[38;5;167;01mException\u001b[39;00m) \u001b[38;5;28;01mas\u001b[39;00m e:\n\u001b[0;32m    174\u001b[0m         \u001b[38;5;28;01mfor\u001b[39;00m run_manager \u001b[38;5;129;01min\u001b[39;00m run_managers:\n",
      "File \u001b[1;32m~\\AppData\\Local\\anaconda3\\envs\\web_crawler_env\\lib\\site-packages\\langchain\\llms\\openai.py:336\u001b[0m, in \u001b[0;36mBaseOpenAI._generate\u001b[1;34m(self, prompts, stop, run_manager, **kwargs)\u001b[0m\n\u001b[0;32m    334\u001b[0m     choices\u001b[38;5;241m.\u001b[39mextend(response[\u001b[38;5;124m\"\u001b[39m\u001b[38;5;124mchoices\u001b[39m\u001b[38;5;124m\"\u001b[39m])\n\u001b[0;32m    335\u001b[0m \u001b[38;5;28;01melse\u001b[39;00m:\n\u001b[1;32m--> 336\u001b[0m     response \u001b[38;5;241m=\u001b[39m completion_with_retry(\u001b[38;5;28mself\u001b[39m, prompt\u001b[38;5;241m=\u001b[39m_prompts, \u001b[38;5;241m*\u001b[39m\u001b[38;5;241m*\u001b[39mparams)\n\u001b[0;32m    337\u001b[0m     choices\u001b[38;5;241m.\u001b[39mextend(response[\u001b[38;5;124m\"\u001b[39m\u001b[38;5;124mchoices\u001b[39m\u001b[38;5;124m\"\u001b[39m])\n\u001b[0;32m    338\u001b[0m \u001b[38;5;28;01mif\u001b[39;00m \u001b[38;5;129;01mnot\u001b[39;00m \u001b[38;5;28mself\u001b[39m\u001b[38;5;241m.\u001b[39mstreaming:\n\u001b[0;32m    339\u001b[0m     \u001b[38;5;66;03m# Can't update token usage if streaming\u001b[39;00m\n",
      "File \u001b[1;32m~\\AppData\\Local\\anaconda3\\envs\\web_crawler_env\\lib\\site-packages\\langchain\\llms\\openai.py:106\u001b[0m, in \u001b[0;36mcompletion_with_retry\u001b[1;34m(llm, **kwargs)\u001b[0m\n\u001b[0;32m    102\u001b[0m \u001b[38;5;129m@retry_decorator\u001b[39m\n\u001b[0;32m    103\u001b[0m \u001b[38;5;28;01mdef\u001b[39;00m \u001b[38;5;21m_completion_with_retry\u001b[39m(\u001b[38;5;241m*\u001b[39m\u001b[38;5;241m*\u001b[39mkwargs: Any) \u001b[38;5;241m-\u001b[39m\u001b[38;5;241m>\u001b[39m Any:\n\u001b[0;32m    104\u001b[0m     \u001b[38;5;28;01mreturn\u001b[39;00m llm\u001b[38;5;241m.\u001b[39mclient\u001b[38;5;241m.\u001b[39mcreate(\u001b[38;5;241m*\u001b[39m\u001b[38;5;241m*\u001b[39mkwargs)\n\u001b[1;32m--> 106\u001b[0m \u001b[38;5;28;01mreturn\u001b[39;00m _completion_with_retry(\u001b[38;5;241m*\u001b[39m\u001b[38;5;241m*\u001b[39mkwargs)\n",
      "File \u001b[1;32m~\\AppData\\Local\\anaconda3\\envs\\web_crawler_env\\lib\\site-packages\\tenacity\\__init__.py:289\u001b[0m, in \u001b[0;36mBaseRetrying.wraps.<locals>.wrapped_f\u001b[1;34m(*args, **kw)\u001b[0m\n\u001b[0;32m    287\u001b[0m \u001b[38;5;129m@functools\u001b[39m\u001b[38;5;241m.\u001b[39mwraps(f)\n\u001b[0;32m    288\u001b[0m \u001b[38;5;28;01mdef\u001b[39;00m \u001b[38;5;21mwrapped_f\u001b[39m(\u001b[38;5;241m*\u001b[39margs: t\u001b[38;5;241m.\u001b[39mAny, \u001b[38;5;241m*\u001b[39m\u001b[38;5;241m*\u001b[39mkw: t\u001b[38;5;241m.\u001b[39mAny) \u001b[38;5;241m-\u001b[39m\u001b[38;5;241m>\u001b[39m t\u001b[38;5;241m.\u001b[39mAny:\n\u001b[1;32m--> 289\u001b[0m     \u001b[38;5;28;01mreturn\u001b[39;00m \u001b[38;5;28mself\u001b[39m(f, \u001b[38;5;241m*\u001b[39margs, \u001b[38;5;241m*\u001b[39m\u001b[38;5;241m*\u001b[39mkw)\n",
      "File \u001b[1;32m~\\AppData\\Local\\anaconda3\\envs\\web_crawler_env\\lib\\site-packages\\tenacity\\__init__.py:379\u001b[0m, in \u001b[0;36mRetrying.__call__\u001b[1;34m(self, fn, *args, **kwargs)\u001b[0m\n\u001b[0;32m    377\u001b[0m retry_state \u001b[38;5;241m=\u001b[39m RetryCallState(retry_object\u001b[38;5;241m=\u001b[39m\u001b[38;5;28mself\u001b[39m, fn\u001b[38;5;241m=\u001b[39mfn, args\u001b[38;5;241m=\u001b[39margs, kwargs\u001b[38;5;241m=\u001b[39mkwargs)\n\u001b[0;32m    378\u001b[0m \u001b[38;5;28;01mwhile\u001b[39;00m \u001b[38;5;28;01mTrue\u001b[39;00m:\n\u001b[1;32m--> 379\u001b[0m     do \u001b[38;5;241m=\u001b[39m \u001b[38;5;28;43mself\u001b[39;49m\u001b[38;5;241;43m.\u001b[39;49m\u001b[43miter\u001b[49m\u001b[43m(\u001b[49m\u001b[43mretry_state\u001b[49m\u001b[38;5;241;43m=\u001b[39;49m\u001b[43mretry_state\u001b[49m\u001b[43m)\u001b[49m\n\u001b[0;32m    380\u001b[0m     \u001b[38;5;28;01mif\u001b[39;00m \u001b[38;5;28misinstance\u001b[39m(do, DoAttempt):\n\u001b[0;32m    381\u001b[0m         \u001b[38;5;28;01mtry\u001b[39;00m:\n",
      "File \u001b[1;32m~\\AppData\\Local\\anaconda3\\envs\\web_crawler_env\\lib\\site-packages\\tenacity\\__init__.py:314\u001b[0m, in \u001b[0;36mBaseRetrying.iter\u001b[1;34m(self, retry_state)\u001b[0m\n\u001b[0;32m    312\u001b[0m is_explicit_retry \u001b[38;5;241m=\u001b[39m fut\u001b[38;5;241m.\u001b[39mfailed \u001b[38;5;129;01mand\u001b[39;00m \u001b[38;5;28misinstance\u001b[39m(fut\u001b[38;5;241m.\u001b[39mexception(), TryAgain)\n\u001b[0;32m    313\u001b[0m \u001b[38;5;28;01mif\u001b[39;00m \u001b[38;5;129;01mnot\u001b[39;00m (is_explicit_retry \u001b[38;5;129;01mor\u001b[39;00m \u001b[38;5;28mself\u001b[39m\u001b[38;5;241m.\u001b[39mretry(retry_state)):\n\u001b[1;32m--> 314\u001b[0m     \u001b[38;5;28;01mreturn\u001b[39;00m \u001b[43mfut\u001b[49m\u001b[38;5;241;43m.\u001b[39;49m\u001b[43mresult\u001b[49m\u001b[43m(\u001b[49m\u001b[43m)\u001b[49m\n\u001b[0;32m    316\u001b[0m \u001b[38;5;28;01mif\u001b[39;00m \u001b[38;5;28mself\u001b[39m\u001b[38;5;241m.\u001b[39mafter \u001b[38;5;129;01mis\u001b[39;00m \u001b[38;5;129;01mnot\u001b[39;00m \u001b[38;5;28;01mNone\u001b[39;00m:\n\u001b[0;32m    317\u001b[0m     \u001b[38;5;28mself\u001b[39m\u001b[38;5;241m.\u001b[39mafter(retry_state)\n",
      "File \u001b[1;32m~\\AppData\\Local\\anaconda3\\envs\\web_crawler_env\\lib\\concurrent\\futures\\_base.py:451\u001b[0m, in \u001b[0;36mFuture.result\u001b[1;34m(self, timeout)\u001b[0m\n\u001b[0;32m    449\u001b[0m     \u001b[38;5;28;01mraise\u001b[39;00m CancelledError()\n\u001b[0;32m    450\u001b[0m \u001b[38;5;28;01melif\u001b[39;00m \u001b[38;5;28mself\u001b[39m\u001b[38;5;241m.\u001b[39m_state \u001b[38;5;241m==\u001b[39m FINISHED:\n\u001b[1;32m--> 451\u001b[0m     \u001b[38;5;28;01mreturn\u001b[39;00m \u001b[38;5;28;43mself\u001b[39;49m\u001b[38;5;241;43m.\u001b[39;49m\u001b[43m__get_result\u001b[49m\u001b[43m(\u001b[49m\u001b[43m)\u001b[49m\n\u001b[0;32m    453\u001b[0m \u001b[38;5;28mself\u001b[39m\u001b[38;5;241m.\u001b[39m_condition\u001b[38;5;241m.\u001b[39mwait(timeout)\n\u001b[0;32m    455\u001b[0m \u001b[38;5;28;01mif\u001b[39;00m \u001b[38;5;28mself\u001b[39m\u001b[38;5;241m.\u001b[39m_state \u001b[38;5;129;01min\u001b[39;00m [CANCELLED, CANCELLED_AND_NOTIFIED]:\n",
      "File \u001b[1;32m~\\AppData\\Local\\anaconda3\\envs\\web_crawler_env\\lib\\concurrent\\futures\\_base.py:403\u001b[0m, in \u001b[0;36mFuture.__get_result\u001b[1;34m(self)\u001b[0m\n\u001b[0;32m    401\u001b[0m \u001b[38;5;28;01mif\u001b[39;00m \u001b[38;5;28mself\u001b[39m\u001b[38;5;241m.\u001b[39m_exception:\n\u001b[0;32m    402\u001b[0m     \u001b[38;5;28;01mtry\u001b[39;00m:\n\u001b[1;32m--> 403\u001b[0m         \u001b[38;5;28;01mraise\u001b[39;00m \u001b[38;5;28mself\u001b[39m\u001b[38;5;241m.\u001b[39m_exception\n\u001b[0;32m    404\u001b[0m     \u001b[38;5;28;01mfinally\u001b[39;00m:\n\u001b[0;32m    405\u001b[0m         \u001b[38;5;66;03m# Break a reference cycle with the exception in self._exception\u001b[39;00m\n\u001b[0;32m    406\u001b[0m         \u001b[38;5;28mself\u001b[39m \u001b[38;5;241m=\u001b[39m \u001b[38;5;28;01mNone\u001b[39;00m\n",
      "File \u001b[1;32m~\\AppData\\Local\\anaconda3\\envs\\web_crawler_env\\lib\\site-packages\\tenacity\\__init__.py:382\u001b[0m, in \u001b[0;36mRetrying.__call__\u001b[1;34m(self, fn, *args, **kwargs)\u001b[0m\n\u001b[0;32m    380\u001b[0m \u001b[38;5;28;01mif\u001b[39;00m \u001b[38;5;28misinstance\u001b[39m(do, DoAttempt):\n\u001b[0;32m    381\u001b[0m     \u001b[38;5;28;01mtry\u001b[39;00m:\n\u001b[1;32m--> 382\u001b[0m         result \u001b[38;5;241m=\u001b[39m fn(\u001b[38;5;241m*\u001b[39margs, \u001b[38;5;241m*\u001b[39m\u001b[38;5;241m*\u001b[39mkwargs)\n\u001b[0;32m    383\u001b[0m     \u001b[38;5;28;01mexcept\u001b[39;00m \u001b[38;5;167;01mBaseException\u001b[39;00m:  \u001b[38;5;66;03m# noqa: B902\u001b[39;00m\n\u001b[0;32m    384\u001b[0m         retry_state\u001b[38;5;241m.\u001b[39mset_exception(sys\u001b[38;5;241m.\u001b[39mexc_info())  \u001b[38;5;66;03m# type: ignore[arg-type]\u001b[39;00m\n",
      "File \u001b[1;32m~\\AppData\\Local\\anaconda3\\envs\\web_crawler_env\\lib\\site-packages\\langchain\\llms\\openai.py:104\u001b[0m, in \u001b[0;36mcompletion_with_retry.<locals>._completion_with_retry\u001b[1;34m(**kwargs)\u001b[0m\n\u001b[0;32m    102\u001b[0m \u001b[38;5;129m@retry_decorator\u001b[39m\n\u001b[0;32m    103\u001b[0m \u001b[38;5;28;01mdef\u001b[39;00m \u001b[38;5;21m_completion_with_retry\u001b[39m(\u001b[38;5;241m*\u001b[39m\u001b[38;5;241m*\u001b[39mkwargs: Any) \u001b[38;5;241m-\u001b[39m\u001b[38;5;241m>\u001b[39m Any:\n\u001b[1;32m--> 104\u001b[0m     \u001b[38;5;28;01mreturn\u001b[39;00m llm\u001b[38;5;241m.\u001b[39mclient\u001b[38;5;241m.\u001b[39mcreate(\u001b[38;5;241m*\u001b[39m\u001b[38;5;241m*\u001b[39mkwargs)\n",
      "File \u001b[1;32m~\\AppData\\Local\\anaconda3\\envs\\web_crawler_env\\lib\\site-packages\\openai\\api_resources\\completion.py:25\u001b[0m, in \u001b[0;36mCompletion.create\u001b[1;34m(cls, *args, **kwargs)\u001b[0m\n\u001b[0;32m     23\u001b[0m \u001b[38;5;28;01mwhile\u001b[39;00m \u001b[38;5;28;01mTrue\u001b[39;00m:\n\u001b[0;32m     24\u001b[0m     \u001b[38;5;28;01mtry\u001b[39;00m:\n\u001b[1;32m---> 25\u001b[0m         \u001b[38;5;28;01mreturn\u001b[39;00m \u001b[38;5;28msuper\u001b[39m()\u001b[38;5;241m.\u001b[39mcreate(\u001b[38;5;241m*\u001b[39margs, \u001b[38;5;241m*\u001b[39m\u001b[38;5;241m*\u001b[39mkwargs)\n\u001b[0;32m     26\u001b[0m     \u001b[38;5;28;01mexcept\u001b[39;00m TryAgain \u001b[38;5;28;01mas\u001b[39;00m e:\n\u001b[0;32m     27\u001b[0m         \u001b[38;5;28;01mif\u001b[39;00m timeout \u001b[38;5;129;01mis\u001b[39;00m \u001b[38;5;129;01mnot\u001b[39;00m \u001b[38;5;28;01mNone\u001b[39;00m \u001b[38;5;129;01mand\u001b[39;00m time\u001b[38;5;241m.\u001b[39mtime() \u001b[38;5;241m>\u001b[39m start \u001b[38;5;241m+\u001b[39m timeout:\n",
      "File \u001b[1;32m~\\AppData\\Local\\anaconda3\\envs\\web_crawler_env\\lib\\site-packages\\openai\\api_resources\\abstract\\engine_api_resource.py:153\u001b[0m, in \u001b[0;36mEngineAPIResource.create\u001b[1;34m(cls, api_key, api_base, api_type, request_id, api_version, organization, **params)\u001b[0m\n\u001b[0;32m    127\u001b[0m \u001b[38;5;129m@classmethod\u001b[39m\n\u001b[0;32m    128\u001b[0m \u001b[38;5;28;01mdef\u001b[39;00m \u001b[38;5;21mcreate\u001b[39m(\n\u001b[0;32m    129\u001b[0m     \u001b[38;5;28mcls\u001b[39m,\n\u001b[1;32m   (...)\u001b[0m\n\u001b[0;32m    136\u001b[0m     \u001b[38;5;241m*\u001b[39m\u001b[38;5;241m*\u001b[39mparams,\n\u001b[0;32m    137\u001b[0m ):\n\u001b[0;32m    138\u001b[0m     (\n\u001b[0;32m    139\u001b[0m         deployment_id,\n\u001b[0;32m    140\u001b[0m         engine,\n\u001b[1;32m   (...)\u001b[0m\n\u001b[0;32m    150\u001b[0m         api_key, api_base, api_type, api_version, organization, \u001b[38;5;241m*\u001b[39m\u001b[38;5;241m*\u001b[39mparams\n\u001b[0;32m    151\u001b[0m     )\n\u001b[1;32m--> 153\u001b[0m     response, _, api_key \u001b[38;5;241m=\u001b[39m \u001b[43mrequestor\u001b[49m\u001b[38;5;241;43m.\u001b[39;49m\u001b[43mrequest\u001b[49m\u001b[43m(\u001b[49m\n\u001b[0;32m    154\u001b[0m \u001b[43m        \u001b[49m\u001b[38;5;124;43m\"\u001b[39;49m\u001b[38;5;124;43mpost\u001b[39;49m\u001b[38;5;124;43m\"\u001b[39;49m\u001b[43m,\u001b[49m\n\u001b[0;32m    155\u001b[0m \u001b[43m        \u001b[49m\u001b[43murl\u001b[49m\u001b[43m,\u001b[49m\n\u001b[0;32m    156\u001b[0m \u001b[43m        \u001b[49m\u001b[43mparams\u001b[49m\u001b[38;5;241;43m=\u001b[39;49m\u001b[43mparams\u001b[49m\u001b[43m,\u001b[49m\n\u001b[0;32m    157\u001b[0m \u001b[43m        \u001b[49m\u001b[43mheaders\u001b[49m\u001b[38;5;241;43m=\u001b[39;49m\u001b[43mheaders\u001b[49m\u001b[43m,\u001b[49m\n\u001b[0;32m    158\u001b[0m \u001b[43m        \u001b[49m\u001b[43mstream\u001b[49m\u001b[38;5;241;43m=\u001b[39;49m\u001b[43mstream\u001b[49m\u001b[43m,\u001b[49m\n\u001b[0;32m    159\u001b[0m \u001b[43m        \u001b[49m\u001b[43mrequest_id\u001b[49m\u001b[38;5;241;43m=\u001b[39;49m\u001b[43mrequest_id\u001b[49m\u001b[43m,\u001b[49m\n\u001b[0;32m    160\u001b[0m \u001b[43m        \u001b[49m\u001b[43mrequest_timeout\u001b[49m\u001b[38;5;241;43m=\u001b[39;49m\u001b[43mrequest_timeout\u001b[49m\u001b[43m,\u001b[49m\n\u001b[0;32m    161\u001b[0m \u001b[43m    \u001b[49m\u001b[43m)\u001b[49m\n\u001b[0;32m    163\u001b[0m     \u001b[38;5;28;01mif\u001b[39;00m stream:\n\u001b[0;32m    164\u001b[0m         \u001b[38;5;66;03m# must be an iterator\u001b[39;00m\n\u001b[0;32m    165\u001b[0m         \u001b[38;5;28;01massert\u001b[39;00m \u001b[38;5;129;01mnot\u001b[39;00m \u001b[38;5;28misinstance\u001b[39m(response, OpenAIResponse)\n",
      "File \u001b[1;32m~\\AppData\\Local\\anaconda3\\envs\\web_crawler_env\\lib\\site-packages\\openai\\api_requestor.py:298\u001b[0m, in \u001b[0;36mAPIRequestor.request\u001b[1;34m(self, method, url, params, headers, files, stream, request_id, request_timeout)\u001b[0m\n\u001b[0;32m    277\u001b[0m \u001b[38;5;28;01mdef\u001b[39;00m \u001b[38;5;21mrequest\u001b[39m(\n\u001b[0;32m    278\u001b[0m     \u001b[38;5;28mself\u001b[39m,\n\u001b[0;32m    279\u001b[0m     method,\n\u001b[1;32m   (...)\u001b[0m\n\u001b[0;32m    286\u001b[0m     request_timeout: Optional[Union[\u001b[38;5;28mfloat\u001b[39m, Tuple[\u001b[38;5;28mfloat\u001b[39m, \u001b[38;5;28mfloat\u001b[39m]]] \u001b[38;5;241m=\u001b[39m \u001b[38;5;28;01mNone\u001b[39;00m,\n\u001b[0;32m    287\u001b[0m ) \u001b[38;5;241m-\u001b[39m\u001b[38;5;241m>\u001b[39m Tuple[Union[OpenAIResponse, Iterator[OpenAIResponse]], \u001b[38;5;28mbool\u001b[39m, \u001b[38;5;28mstr\u001b[39m]:\n\u001b[0;32m    288\u001b[0m     result \u001b[38;5;241m=\u001b[39m \u001b[38;5;28mself\u001b[39m\u001b[38;5;241m.\u001b[39mrequest_raw(\n\u001b[0;32m    289\u001b[0m         method\u001b[38;5;241m.\u001b[39mlower(),\n\u001b[0;32m    290\u001b[0m         url,\n\u001b[1;32m   (...)\u001b[0m\n\u001b[0;32m    296\u001b[0m         request_timeout\u001b[38;5;241m=\u001b[39mrequest_timeout,\n\u001b[0;32m    297\u001b[0m     )\n\u001b[1;32m--> 298\u001b[0m     resp, got_stream \u001b[38;5;241m=\u001b[39m \u001b[38;5;28;43mself\u001b[39;49m\u001b[38;5;241;43m.\u001b[39;49m\u001b[43m_interpret_response\u001b[49m\u001b[43m(\u001b[49m\u001b[43mresult\u001b[49m\u001b[43m,\u001b[49m\u001b[43m \u001b[49m\u001b[43mstream\u001b[49m\u001b[43m)\u001b[49m\n\u001b[0;32m    299\u001b[0m     \u001b[38;5;28;01mreturn\u001b[39;00m resp, got_stream, \u001b[38;5;28mself\u001b[39m\u001b[38;5;241m.\u001b[39mapi_key\n",
      "File \u001b[1;32m~\\AppData\\Local\\anaconda3\\envs\\web_crawler_env\\lib\\site-packages\\openai\\api_requestor.py:700\u001b[0m, in \u001b[0;36mAPIRequestor._interpret_response\u001b[1;34m(self, result, stream)\u001b[0m\n\u001b[0;32m    692\u001b[0m     \u001b[38;5;28;01mreturn\u001b[39;00m (\n\u001b[0;32m    693\u001b[0m         \u001b[38;5;28mself\u001b[39m\u001b[38;5;241m.\u001b[39m_interpret_response_line(\n\u001b[0;32m    694\u001b[0m             line, result\u001b[38;5;241m.\u001b[39mstatus_code, result\u001b[38;5;241m.\u001b[39mheaders, stream\u001b[38;5;241m=\u001b[39m\u001b[38;5;28;01mTrue\u001b[39;00m\n\u001b[0;32m    695\u001b[0m         )\n\u001b[0;32m    696\u001b[0m         \u001b[38;5;28;01mfor\u001b[39;00m line \u001b[38;5;129;01min\u001b[39;00m parse_stream(result\u001b[38;5;241m.\u001b[39miter_lines())\n\u001b[0;32m    697\u001b[0m     ), \u001b[38;5;28;01mTrue\u001b[39;00m\n\u001b[0;32m    698\u001b[0m \u001b[38;5;28;01melse\u001b[39;00m:\n\u001b[0;32m    699\u001b[0m     \u001b[38;5;28;01mreturn\u001b[39;00m (\n\u001b[1;32m--> 700\u001b[0m         \u001b[38;5;28;43mself\u001b[39;49m\u001b[38;5;241;43m.\u001b[39;49m\u001b[43m_interpret_response_line\u001b[49m\u001b[43m(\u001b[49m\n\u001b[0;32m    701\u001b[0m \u001b[43m            \u001b[49m\u001b[43mresult\u001b[49m\u001b[38;5;241;43m.\u001b[39;49m\u001b[43mcontent\u001b[49m\u001b[38;5;241;43m.\u001b[39;49m\u001b[43mdecode\u001b[49m\u001b[43m(\u001b[49m\u001b[38;5;124;43m\"\u001b[39;49m\u001b[38;5;124;43mutf-8\u001b[39;49m\u001b[38;5;124;43m\"\u001b[39;49m\u001b[43m)\u001b[49m\u001b[43m,\u001b[49m\n\u001b[0;32m    702\u001b[0m \u001b[43m            \u001b[49m\u001b[43mresult\u001b[49m\u001b[38;5;241;43m.\u001b[39;49m\u001b[43mstatus_code\u001b[49m\u001b[43m,\u001b[49m\n\u001b[0;32m    703\u001b[0m \u001b[43m            \u001b[49m\u001b[43mresult\u001b[49m\u001b[38;5;241;43m.\u001b[39;49m\u001b[43mheaders\u001b[49m\u001b[43m,\u001b[49m\n\u001b[0;32m    704\u001b[0m \u001b[43m            \u001b[49m\u001b[43mstream\u001b[49m\u001b[38;5;241;43m=\u001b[39;49m\u001b[38;5;28;43;01mFalse\u001b[39;49;00m\u001b[43m,\u001b[49m\n\u001b[0;32m    705\u001b[0m \u001b[43m        \u001b[49m\u001b[43m)\u001b[49m,\n\u001b[0;32m    706\u001b[0m         \u001b[38;5;28;01mFalse\u001b[39;00m,\n\u001b[0;32m    707\u001b[0m     )\n",
      "File \u001b[1;32m~\\AppData\\Local\\anaconda3\\envs\\web_crawler_env\\lib\\site-packages\\openai\\api_requestor.py:763\u001b[0m, in \u001b[0;36mAPIRequestor._interpret_response_line\u001b[1;34m(self, rbody, rcode, rheaders, stream)\u001b[0m\n\u001b[0;32m    761\u001b[0m stream_error \u001b[38;5;241m=\u001b[39m stream \u001b[38;5;129;01mand\u001b[39;00m \u001b[38;5;124m\"\u001b[39m\u001b[38;5;124merror\u001b[39m\u001b[38;5;124m\"\u001b[39m \u001b[38;5;129;01min\u001b[39;00m resp\u001b[38;5;241m.\u001b[39mdata\n\u001b[0;32m    762\u001b[0m \u001b[38;5;28;01mif\u001b[39;00m stream_error \u001b[38;5;129;01mor\u001b[39;00m \u001b[38;5;129;01mnot\u001b[39;00m \u001b[38;5;241m200\u001b[39m \u001b[38;5;241m<\u001b[39m\u001b[38;5;241m=\u001b[39m rcode \u001b[38;5;241m<\u001b[39m \u001b[38;5;241m300\u001b[39m:\n\u001b[1;32m--> 763\u001b[0m     \u001b[38;5;28;01mraise\u001b[39;00m \u001b[38;5;28mself\u001b[39m\u001b[38;5;241m.\u001b[39mhandle_error_response(\n\u001b[0;32m    764\u001b[0m         rbody, rcode, resp\u001b[38;5;241m.\u001b[39mdata, rheaders, stream_error\u001b[38;5;241m=\u001b[39mstream_error\n\u001b[0;32m    765\u001b[0m     )\n\u001b[0;32m    766\u001b[0m \u001b[38;5;28;01mreturn\u001b[39;00m resp\n",
      "\u001b[1;31mAuthenticationError\u001b[0m: Incorrect API key provided: random. You can find your API key at https://platform.openai.com/account/api-keys."
     ]
    }
   ],
   "source": [
    "# query_engine.query(\"What did the author do growing up?\")"
   ]
  },
  {
   "cell_type": "code",
   "execution_count": null,
   "id": "a8a3ef51",
   "metadata": {},
   "outputs": [],
   "source": []
  }
 ],
 "metadata": {
  "kernelspec": {
   "display_name": "web_crawler_env",
   "language": "python",
   "name": "web_crawler_env"
  },
  "language_info": {
   "codemirror_mode": {
    "name": "ipython",
    "version": 3
   },
   "file_extension": ".py",
   "mimetype": "text/x-python",
   "name": "python",
   "nbconvert_exporter": "python",
   "pygments_lexer": "ipython3",
   "version": "3.10.9"
  },
  "toc": {
   "base_numbering": 1,
   "nav_menu": {},
   "number_sections": true,
   "sideBar": true,
   "skip_h1_title": false,
   "title_cell": "Table of Contents",
   "title_sidebar": "Contents",
   "toc_cell": false,
   "toc_position": {
    "height": "calc(100% - 180px)",
    "left": "10px",
    "top": "150px",
    "width": "165px"
   },
   "toc_section_display": true,
   "toc_window_display": true
  }
 },
 "nbformat": 4,
 "nbformat_minor": 5
}
