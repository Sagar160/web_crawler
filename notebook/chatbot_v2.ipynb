{
 "cells": [
  {
   "cell_type": "code",
   "execution_count": 2,
   "id": "6093977b",
   "metadata": {
    "ExecuteTime": {
     "end_time": "2023-07-04T17:17:24.995795Z",
     "start_time": "2023-07-04T17:17:24.986584Z"
    }
   },
   "outputs": [],
   "source": [
    "import os\n",
    "import time\n",
    "\n",
    "import torch\n",
    "# from dotenv import load_dotenv\n",
    "from langchain.llms.base import LLM\n",
    "from llama_index import (\n",
    "    GPTListIndex,\n",
    "    LLMPredictor,\n",
    "    PromptHelper,\n",
    "    ServiceContext,\n",
    "    SimpleDirectoryReader,\n",
    ")\n",
    "from transformers import pipeline"
   ]
  },
  {
   "cell_type": "code",
   "execution_count": null,
   "id": "6fb3d23e",
   "metadata": {
    "ExecuteTime": {
     "end_time": "2023-07-04T17:10:42.327238Z",
     "start_time": "2023-07-04T17:10:41.893268Z"
    }
   },
   "outputs": [],
   "source": [
    "# load_dotenv()\n",
    "os.environ[\"OPENAI_API_KEY\"] = \"random\""
   ]
  },
  {
   "cell_type": "code",
   "execution_count": null,
   "id": "19f69467",
   "metadata": {
    "ExecuteTime": {
     "end_time": "2023-07-04T17:10:42.327238Z",
     "start_time": "2023-07-04T17:10:41.893268Z"
    }
   },
   "outputs": [],
   "source": [
    "def timeit():\n",
    "    \"\"\"\n",
    "    a utility decoration to time running time\n",
    "    \"\"\"\n",
    "\n",
    "    def decorator(func):\n",
    "        def wrapper(*args, **kwargs):\n",
    "            start = time.time()\n",
    "            result = func(*args, **kwargs)\n",
    "            end = time.time()\n",
    "            args = [str(arg) for arg in args]\n",
    "\n",
    "            print(f\"[{(end - start):.8f} seconds]: f({args}) -> {result}\")\n",
    "            return result\n",
    "\n",
    "        return wrapper\n",
    "\n",
    "    return decorator"
   ]
  },
  {
   "cell_type": "code",
   "execution_count": 1,
   "id": "5567906b",
   "metadata": {
    "ExecuteTime": {
     "end_time": "2023-07-04T17:10:42.327238Z",
     "start_time": "2023-07-04T17:10:41.893268Z"
    }
   },
   "outputs": [
    {
     "ename": "NameError",
     "evalue": "name 'os' is not defined",
     "output_type": "error",
     "traceback": [
      "\u001b[1;31m---------------------------------------------------------------------------\u001b[0m",
      "\u001b[1;31mNameError\u001b[0m                                 Traceback (most recent call last)",
      "Cell \u001b[1;32mIn[1], line 2\u001b[0m\n\u001b[0;32m      1\u001b[0m \u001b[38;5;66;03m# load_dotenv()\u001b[39;00m\n\u001b[1;32m----> 2\u001b[0m \u001b[43mos\u001b[49m\u001b[38;5;241m.\u001b[39menviron[\u001b[38;5;124m\"\u001b[39m\u001b[38;5;124mOPENAI_API_KEY\u001b[39m\u001b[38;5;124m\"\u001b[39m] \u001b[38;5;241m=\u001b[39m \u001b[38;5;124m\"\u001b[39m\u001b[38;5;124mrandom\u001b[39m\u001b[38;5;124m\"\u001b[39m\n\u001b[0;32m      5\u001b[0m \u001b[38;5;28;01mdef\u001b[39;00m \u001b[38;5;21mtimeit\u001b[39m():\n\u001b[0;32m      6\u001b[0m     \u001b[38;5;124;03m\"\"\"\u001b[39;00m\n\u001b[0;32m      7\u001b[0m \u001b[38;5;124;03m    a utility decoration to time running time\u001b[39;00m\n\u001b[0;32m      8\u001b[0m \u001b[38;5;124;03m    \"\"\"\u001b[39;00m\n",
      "\u001b[1;31mNameError\u001b[0m: name 'os' is not defined"
     ]
    }
   ],
   "source": [
    "prompt_helper = PromptHelper(\n",
    "    # maximum input size\n",
    "    max_input_size=2048,\n",
    "    # number of output tokens\n",
    "    num_output=256,\n",
    "    # the maximum overlap between chunks.\n",
    "    max_chunk_overlap=20,\n",
    ")\n",
    "\n",
    "\n",
    "class LocalOPT(LLM):\n",
    "    # model_name = \"facebook/opt-iml-max-30b\" (this is a 60gb model)\n",
    "    model_name = \"facebook/opt-iml-1.3b\"  # ~2.63gb model\n",
    "    # https://huggingface.co/docs/transformers/main_classes/pipelines\n",
    "    pipeline = pipeline(\n",
    "        \"text-generation\",\n",
    "        model=model_name,\n",
    "        device=\"cuda:0\",\n",
    "        model_kwargs={\"torch_dtype\": torch.bfloat16},\n",
    "    )\n",
    "\n",
    "    def _call(self, prompt: str, stop=None) -> str:\n",
    "        response = self.pipeline(prompt, max_new_tokens=256)[0][\"generated_text\"]\n",
    "        # only return newly generated tokens\n",
    "        return response[len(prompt) :]\n",
    "\n",
    "    @property\n",
    "    def _identifying_params(self):\n",
    "        return {\"name_of_model\": self.model_name}\n",
    "\n",
    "    @property\n",
    "    def _llm_type(self):\n",
    "        return \"custom\"\n",
    "\n",
    "\n",
    "@timeit()\n",
    "def create_index():\n",
    "    print(\"Creating index\")\n",
    "    # Wrapper around an LLMChain from Langchaim\n",
    "    llm = LLMPredictor(llm=LocalOPT())\n",
    "    # Service Context: a container for your llamaindex index and query\n",
    "    # https://gpt-index.readthedocs.io/en/latest/reference/service_context.html\n",
    "    service_context = ServiceContext.from_defaults(\n",
    "        llm_predictor=llm, prompt_helper=prompt_helper\n",
    "    )\n",
    "    docs = SimpleDirectoryReader(\"news\").load_data()\n",
    "    index = GPTListIndex.from_documents(docs, service_context=service_context)\n",
    "    print(\"Done creating index\", index)\n",
    "    return index\n",
    "\n",
    "\n",
    "@timeit()\n",
    "def execute_query():\n",
    "    response = index.query(\n",
    "        \"Who does Indonesia export its coal to in 2023?\",\n",
    "        # This will preemptively filter out nodes that do not contain required_keywords\n",
    "        # or contain exclude_keywords, reducing the search space and hence time/number of LLM calls/cost.\n",
    "        exclude_keywords=[\"petroleum\"],\n",
    "        # required_keywords=[\"coal\"],\n",
    "        # exclude_keywords=[\"oil\", \"gas\", \"petroleum\"]\n",
    "    )\n",
    "    return response\n",
    "\n",
    "\n",
    "if __name__ == \"__main__\":\n",
    "    \"\"\"\n",
    "    Check if a local cache of the model exists,\n",
    "    if not, it will download the model from huggingface\n",
    "    \"\"\"\n",
    "    if not os.path.exists(\"7_custom_opt.json\"):\n",
    "        print(\"No local cache of model found, downloading from huggingface\")\n",
    "        index = create_index()\n",
    "        index.save_to_disk(\"7_custom_opt.json\")\n",
    "    else:\n",
    "        print(\"Loading local cache of model\")\n",
    "        llm = LLMPredictor(llm=LocalOPT())\n",
    "        service_context = ServiceContext.from_defaults(\n",
    "            llm_predictor=llm, prompt_helper=prompt_helper\n",
    "        )\n",
    "        index = GPTListIndex.load_from_disk(\n",
    "            \"7_custom_opt.json\", service_context=service_context\n",
    "        )\n",
    "\n",
    "    response = execute_query()\n",
    "    print(response)\n",
    "    print(response.source_nodes)"
   ]
  },
  {
   "cell_type": "code",
   "execution_count": null,
   "id": "ef4aae6e",
   "metadata": {},
   "outputs": [],
   "source": []
  }
 ],
 "metadata": {
  "kernelspec": {
   "display_name": "web_crawler_env",
   "language": "python",
   "name": "web_crawler_env"
  },
  "language_info": {
   "codemirror_mode": {
    "name": "ipython",
    "version": 3
   },
   "file_extension": ".py",
   "mimetype": "text/x-python",
   "name": "python",
   "nbconvert_exporter": "python",
   "pygments_lexer": "ipython3",
   "version": "3.10.9"
  },
  "toc": {
   "base_numbering": 1,
   "nav_menu": {},
   "number_sections": true,
   "sideBar": true,
   "skip_h1_title": false,
   "title_cell": "Table of Contents",
   "title_sidebar": "Contents",
   "toc_cell": false,
   "toc_position": {},
   "toc_section_display": true,
   "toc_window_display": false
  }
 },
 "nbformat": 4,
 "nbformat_minor": 5
}
